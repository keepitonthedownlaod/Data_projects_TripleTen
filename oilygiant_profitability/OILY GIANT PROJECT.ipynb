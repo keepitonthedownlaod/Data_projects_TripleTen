{
 "cells": [
  {
   "cell_type": "markdown",
   "metadata": {},
   "source": [
    "## Introduction\n",
    "In this project, we are working for OilyGiant, a mining company tasked with identifying the best location for a new oil well based on geological exploration data from three regions. The goal is to build a linear regression model to predict the volume of oil reserves and select the most profitable location."
   ]
  },
  {
   "cell_type": "code",
   "execution_count": 1,
   "metadata": {},
   "outputs": [
    {
     "name": "stdout",
     "output_type": "stream",
     "text": [
      "Region 0 Dataset Info:\n",
      "<class 'pandas.core.frame.DataFrame'>\n",
      "RangeIndex: 100000 entries, 0 to 99999\n",
      "Data columns (total 5 columns):\n",
      " #   Column   Non-Null Count   Dtype  \n",
      "---  ------   --------------   -----  \n",
      " 0   id       100000 non-null  object \n",
      " 1   f0       100000 non-null  float64\n",
      " 2   f1       100000 non-null  float64\n",
      " 3   f2       100000 non-null  float64\n",
      " 4   product  100000 non-null  float64\n",
      "dtypes: float64(4), object(1)\n",
      "memory usage: 3.8+ MB\n",
      "None\n",
      "             f0        f1        f2   product\n",
      "count 100000.00 100000.00 100000.00 100000.00\n",
      "mean       0.50      0.25      2.50     92.50\n",
      "std        0.87      0.50      3.25     44.29\n",
      "min       -1.41     -0.85    -12.09      0.00\n",
      "25%       -0.07     -0.20      0.29     56.50\n",
      "50%        0.50      0.25      2.52     91.85\n",
      "75%        1.07      0.70      4.72    128.56\n",
      "max        2.36      1.34     16.00    185.36\n",
      "\n",
      "Region 1 Dataset Info:\n",
      "<class 'pandas.core.frame.DataFrame'>\n",
      "RangeIndex: 100000 entries, 0 to 99999\n",
      "Data columns (total 5 columns):\n",
      " #   Column   Non-Null Count   Dtype  \n",
      "---  ------   --------------   -----  \n",
      " 0   id       100000 non-null  object \n",
      " 1   f0       100000 non-null  float64\n",
      " 2   f1       100000 non-null  float64\n",
      " 3   f2       100000 non-null  float64\n",
      " 4   product  100000 non-null  float64\n",
      "dtypes: float64(4), object(1)\n",
      "memory usage: 3.8+ MB\n",
      "None\n",
      "             f0        f1        f2   product\n",
      "count 100000.00 100000.00 100000.00 100000.00\n",
      "mean       1.14     -4.80      2.49     68.83\n",
      "std        8.97      5.12      1.70     45.94\n",
      "min      -31.61    -26.36     -0.02      0.00\n",
      "25%       -6.30     -8.27      1.00     26.95\n",
      "50%        1.15     -4.81      2.01     57.09\n",
      "75%        8.62     -1.33      4.00    107.81\n",
      "max       29.42     18.73      5.02    137.95\n",
      "\n",
      "Region 2 Dataset Info:\n",
      "<class 'pandas.core.frame.DataFrame'>\n",
      "RangeIndex: 100000 entries, 0 to 99999\n",
      "Data columns (total 5 columns):\n",
      " #   Column   Non-Null Count   Dtype  \n",
      "---  ------   --------------   -----  \n",
      " 0   id       100000 non-null  object \n",
      " 1   f0       100000 non-null  float64\n",
      " 2   f1       100000 non-null  float64\n",
      " 3   f2       100000 non-null  float64\n",
      " 4   product  100000 non-null  float64\n",
      "dtypes: float64(4), object(1)\n",
      "memory usage: 3.8+ MB\n",
      "None\n",
      "             f0        f1        f2   product\n",
      "count 100000.00 100000.00 100000.00 100000.00\n",
      "mean       0.00     -0.00      2.50     95.00\n",
      "std        1.73      1.73      3.47     44.75\n",
      "min       -8.76     -7.08    -11.97      0.00\n",
      "25%       -1.16     -1.17      0.13     59.45\n",
      "50%        0.01     -0.01      2.48     94.93\n",
      "75%        1.16      1.16      4.86    130.60\n",
      "max        7.24      7.84     16.74    190.03\n"
     ]
    }
   ],
   "source": [
    "# Import necessary libraries\n",
    "import pandas as pd\n",
    "import numpy as np\n",
    "from sklearn.model_selection import train_test_split\n",
    "from sklearn.linear_model import LinearRegression\n",
    "from sklearn.metrics import mean_squared_error\n",
    "from sklearn.preprocessing import StandardScaler\n",
    "\n",
    "# Set up display options for clarity\n",
    "pd.options.display.float_format = '{:.2f}'.format\n",
    "\n",
    "# Load the datasets for each region\n",
    "geo_data_0 = pd.read_csv('/datasets/geo_data_0.csv')\n",
    "geo_data_1 = pd.read_csv('/datasets/geo_data_1.csv')\n",
    "geo_data_2 = pd.read_csv('/datasets/geo_data_2.csv')\n",
    "\n",
    "\n",
    "# Display the first few rows and summary statistics of each dataset\n",
    "print(\"Region 0 Dataset Info:\")\n",
    "print(geo_data_0.info())\n",
    "print(geo_data_0.describe())\n",
    "\n",
    "print(\"\\nRegion 1 Dataset Info:\")\n",
    "print(geo_data_1.info())\n",
    "print(geo_data_1.describe())\n",
    "\n",
    "print(\"\\nRegion 2 Dataset Info:\")\n",
    "print(geo_data_2.info())\n",
    "print(geo_data_2.describe())\n"
   ]
  },
  {
   "cell_type": "markdown",
   "metadata": {},
   "source": [
    " We begin by importing all required libraries. These include pandas and numpy for data manipulation, scikit-learn for model building and evaluation, and matplotlib for visualizing results. This ensures that all dependencies are loaded before proceeding with the project."
   ]
  },
  {
   "cell_type": "markdown",
   "metadata": {},
   "source": [
    "We load and display the data for the three regions to verify that the data is imported correctly and to understand its structure. This initial inspection helps identify any potential issues before proceeding with analysis."
   ]
  },
  {
   "cell_type": "code",
   "execution_count": 2,
   "metadata": {},
   "outputs": [
    {
     "name": "stdout",
     "output_type": "stream",
     "text": [
      "Region 0 - RMSE: 37.76, Average Predicted Volume: 92.40\n",
      "Region 1 - RMSE: 0.89, Average Predicted Volume: 68.71\n",
      "Region 2 - RMSE: 40.15, Average Predicted Volume: 94.77\n"
     ]
    }
   ],
   "source": [
    "# Define features and target\n",
    "features = ['f0', 'f1', 'f2']\n",
    "target = 'product'\n",
    "\n",
    "# Function to train a linear regression model and calculate RMSE\n",
    "def train_and_evaluate(data):\n",
    "    X_train, X_valid, y_train, y_valid = train_test_split(data[features], data[target], test_size=0.25, random_state=42)\n",
    "    model = LinearRegression()\n",
    "    model.fit(X_train, y_train)\n",
    "    predictions = model.predict(X_valid)\n",
    "    rmse = mean_squared_error(y_valid, predictions, squared=False)\n",
    "    average_volume = predictions.mean()\n",
    "    return model, predictions, rmse, average_volume\n",
    "\n",
    "# Train and evaluate models for each region\n",
    "model_0, predictions_0, rmse_0, avg_volume_0 = train_and_evaluate(geo_data_0)\n",
    "model_1, predictions_1, rmse_1, avg_volume_1 = train_and_evaluate(geo_data_1)\n",
    "model_2, predictions_2, rmse_2, avg_volume_2 = train_and_evaluate(geo_data_2)\n",
    "\n",
    "# Display RMSE and average predicted volume for each region\n",
    "print(f\"Region 0 - RMSE: {rmse_0:.2f}, Average Predicted Volume: {avg_volume_0:.2f}\")\n",
    "print(f\"Region 1 - RMSE: {rmse_1:.2f}, Average Predicted Volume: {avg_volume_1:.2f}\")\n",
    "print(f\"Region 2 - RMSE: {rmse_2:.2f}, Average Predicted Volume: {avg_volume_2:.2f}\")\n"
   ]
  },
  {
   "cell_type": "markdown",
   "metadata": {},
   "source": [
    "We split the dataset into training and validation sets (75:25 ratio) to train a linear regression model. The model is then evaluated using RMSE, which provides insight into the model's predictive accuracy. We also calculate the average predicted reserves volume as an initial check on the model’s output."
   ]
  },
  {
   "cell_type": "code",
   "execution_count": 3,
   "metadata": {},
   "outputs": [
    {
     "name": "stdout",
     "output_type": "stream",
     "text": [
      "Volume of Reserves Needed per Well: 111.11 thousand barrels\n",
      "Region 0 - Average Predicted Volume per Well: 92.40 thousand barrels\n",
      "Region 1 - Average Predicted Volume per Well: 68.71 thousand barrels\n",
      "Region 2 - Average Predicted Volume per Well: 94.77 thousand barrels\n",
      "\n",
      "Comparison with Required Volume per Well:\n",
      "Region 0 - Difference: -18.71 thousand barrels\n",
      "Region 1 - Difference: -42.40 thousand barrels\n",
      "Region 2 - Difference: -16.34 thousand barrels\n"
     ]
    }
   ],
   "source": [
    "# Constants\n",
    "BUDGET = 100_000_000  # USD\n",
    "WELLS_SELECTED = 200\n",
    "REVENUE_PER_BARREL = 4.5  # USD per barrel\n",
    "\n",
    "# Calculate the cost per well\n",
    "cost_per_well = BUDGET / WELLS_SELECTED\n",
    "\n",
    "# Calculate the volume of reserves needed per well to break even (without losses) in thousands of barrels\n",
    "volume_needed_per_well_thousands = (cost_per_well / REVENUE_PER_BARREL) / 1000\n",
    "\n",
    "print(f\"Volume of Reserves Needed per Well: {volume_needed_per_well_thousands:.2f} thousand barrels\")\n",
    "\n",
    "# Compare with the average predicted volume for each region (assuming avg_volume_0, avg_volume_1, avg_volume_2 are in thousands of barrels)\n",
    "print(f\"Region 0 - Average Predicted Volume per Well: {avg_volume_0:.2f} thousand barrels\")\n",
    "print(f\"Region 1 - Average Predicted Volume per Well: {avg_volume_1:.2f} thousand barrels\")\n",
    "print(f\"Region 2 - Average Predicted Volume per Well: {avg_volume_2:.2f} thousand barrels\")\n",
    "\n",
    "# Calculate the difference between the needed volume and the average predicted reserves for each region\n",
    "difference_0 = avg_volume_0 - volume_needed_per_well_thousands\n",
    "difference_1 = avg_volume_1 - volume_needed_per_well_thousands\n",
    "difference_2 = avg_volume_2 - volume_needed_per_well_thousands\n",
    "\n",
    "# Display the results\n",
    "print(\"\\nComparison with Required Volume per Well:\")\n",
    "print(f\"Region 0 - Difference: {difference_0:.2f} thousand barrels\")\n",
    "print(f\"Region 1 - Difference: {difference_1:.2f} thousand barrels\")\n",
    "print(f\"Region 2 - Difference: {difference_2:.2f} thousand barrels\")\n"
   ]
  },
  {
   "cell_type": "markdown",
   "metadata": {},
   "source": [
    "### PART B.1: Calculating the Volume of Reserves Sufficient for Developing a New Well\n",
    "\n",
    "In order for a well to be worth developing, it needs to make the company profit. The calculation involves using the formula:\n",
    "\n",
    "\n",
    "Where:\n",
    "- **Revenue per barrel**: $4.5 per barrel (as given).\n",
    "- **Cost per well**: Calculated based on the total budget divided by the number of wells.\n",
    "\n",
    "By solving this equation, we find that the minimum number of barrels needed to break even per well is:112\n",
    "\n",
    "**Calculation Output**:\n",
    "- The volume of reserves needed per well to break even is approximately **112 barrels**.\n",
    "\n",
    "Assuming that OilyGiant only sells oil in whole barrels, each well needs to have at least **112 barrels** worth of oil to net a profit."
   ]
  },
  {
   "cell_type": "code",
   "execution_count": 4,
   "metadata": {},
   "outputs": [
    {
     "name": "stdout",
     "output_type": "stream",
     "text": [
      "Region 0 - RMSE: 37.76, Average Predicted Volume: 92.40\n",
      "Region 1 - RMSE: 0.89, Average Predicted Volume: 68.71\n",
      "Region 2 - RMSE: 40.15, Average Predicted Volume: 94.77\n"
     ]
    }
   ],
   "source": [
    "# Function to train the model and make predictions\n",
    "def train_and_evaluate(data):\n",
    "    features = ['f0', 'f1', 'f2']\n",
    "    target = 'product'\n",
    "    X_train, X_valid, y_train, y_valid = train_test_split(data[features], data[target], test_size=0.25, random_state=42)\n",
    "    model = LinearRegression()\n",
    "    model.fit(X_train, y_train)\n",
    "    predictions = model.predict(X_valid)\n",
    "    rmse = mean_squared_error(y_valid, predictions, squared=False)\n",
    "    average_volume = predictions.mean()\n",
    "    return model, predictions, rmse, average_volume, y_valid\n",
    "\n",
    "# Train and evaluate models for each region\n",
    "model_0, predictions_0, rmse_0, avg_volume_0, y_valid_0 = train_and_evaluate(geo_data_0)\n",
    "model_1, predictions_1, rmse_1, avg_volume_1, y_valid_1 = train_and_evaluate(geo_data_1)\n",
    "model_2, predictions_2, rmse_2, avg_volume_2, y_valid_2 = train_and_evaluate(geo_data_2)\n",
    "\n",
    "# Display RMSE and average predicted reserves for each region\n",
    "print(f\"Region 0 - RMSE: {rmse_0:.2f}, Average Predicted Volume: {avg_volume_0:.2f}\")\n",
    "print(f\"Region 1 - RMSE: {rmse_1:.2f}, Average Predicted Volume: {avg_volume_1:.2f}\")\n",
    "print(f\"Region 2 - RMSE: {rmse_2:.2f}, Average Predicted Volume: {avg_volume_2:.2f}\")\n"
   ]
  },
  {
   "cell_type": "code",
   "execution_count": 5,
   "metadata": {},
   "outputs": [
    {
     "name": "stdout",
     "output_type": "stream",
     "text": [
      "Estimated profit for Region 0: $33,591,411.14\n",
      "Estimated profit for Region 1: $24,150,866.97\n",
      "Estimated profit for Region 2: $25,985,717.59\n"
     ]
    }
   ],
   "source": [
    "# Profit Calculation Preparation\n",
    "# Constants\n",
    "BUDGET = 100_000_000  # Development cost budget\n",
    "REVENUE_PER_BARREL = 4.5  # USD revenue per barrel\n",
    "WELLS_SELECTED = 200  # Number of top-performing wells\n",
    "\n",
    "def calculate_profit(predictions, target):\n",
    "    # Select the indices of the top wells based on predictions\n",
    "    selected_indices = predictions.sort_values(ascending=False).index[:WELLS_SELECTED]\n",
    "    \n",
    "    # Use the actual reserve values (targets) at these indices to calculate profit\n",
    "    selected_reserves = target.loc[selected_indices].sum()  # Sum in thousands of barrels\n",
    "    \n",
    "    # Calculate profit, converting selected_reserves to barrels by multiplying by 1000\n",
    "    profit = (selected_reserves * 1000 * REVENUE_PER_BARREL) - BUDGET\n",
    "    return profit\n",
    "\n",
    "# Calculate profits for each region based on validation set predictions\n",
    "profit_0 = calculate_profit(pd.Series(predictions_0, index=y_valid_0.index), y_valid_0)\n",
    "profit_1 = calculate_profit(pd.Series(predictions_1, index=y_valid_1.index), y_valid_1)\n",
    "profit_2 = calculate_profit(pd.Series(predictions_2, index=y_valid_2.index), y_valid_2)\n",
    "\n",
    "print(f\"Estimated profit for Region 0: ${profit_0:,.2f}\")\n",
    "print(f\"Estimated profit for Region 1: ${profit_1:,.2f}\")\n",
    "print(f\"Estimated profit for Region 2: ${profit_2:,.2f}\")\n",
    "\n"
   ]
  },
  {
   "cell_type": "code",
   "execution_count": 6,
   "metadata": {},
   "outputs": [
    {
     "name": "stdout",
     "output_type": "stream",
     "text": [
      "Region 0:\n",
      "  Average Profit: $6,141,092.27\n",
      "  90% Confidence Interval: [$1,216,676.51, $11,454,283.18]\n",
      "  Risk of Loss: 1.60%\n",
      "\n",
      "Region 1:\n",
      "  Average Profit: $6,450,911.11\n",
      "  90% Confidence Interval: [$2,100,217.52, $10,892,754.83]\n",
      "  Risk of Loss: 0.50%\n",
      "\n",
      "Region 2:\n",
      "  Average Profit: $5,869,463.06\n",
      "  90% Confidence Interval: [$747,740.78, $11,431,991.56]\n",
      "  Risk of Loss: 3.20%\n",
      "\n"
     ]
    }
   ],
   "source": [
    "# Constants\n",
    "BUDGET = 100_000_000  # Development cost budget\n",
    "REVENUE_PER_BARREL = 4.5  # USD revenue per barrel\n",
    "WELLS_SELECTED = 200  # Number of top-performing wells\n",
    "SAMPLE_SIZE = 500  # Sample size for each bootstrapped iteration\n",
    "N_BOOTSTRAPS = 1000  # Number of bootstrapping iterations\n",
    "\n",
    "# Profit calculation function using top wells based on predictions but using targets for actual reserves\n",
    "def calculate_profit(predictions, targets):\n",
    "    # Select the indices of the top 200 wells based on predictions\n",
    "    selected_indices = predictions.sort_values(ascending=False).index[:WELLS_SELECTED]\n",
    "    \n",
    "    # Use the actual reserve values (targets) at these indices to calculate profit\n",
    "    selected_reserves = targets.loc[selected_indices].sum()  # Sum in thousands of barrels\n",
    "    \n",
    "    # Calculate profit, converting selected_reserves to barrels by multiplying by 1000\n",
    "    profit = (selected_reserves * 1000 * REVENUE_PER_BARREL) - BUDGET\n",
    "    return profit\n",
    "\n",
    "# Bootstrapping function to calculate profit distribution\n",
    "def bootstrap_profit(predictions, targets, n_bootstraps=N_BOOTSTRAPS, sample_size=SAMPLE_SIZE):\n",
    "    profits = []\n",
    "\n",
    "    # Align predictions and targets in a DataFrame to ensure index consistency\n",
    "    aligned_data = pd.DataFrame({'Predictions': predictions, 'Targets': targets})\n",
    "    \n",
    "    for _ in range(n_bootstraps):\n",
    "        # Sample 500 wells with replacement\n",
    "        sample = aligned_data.sample(n=sample_size, replace=True)\n",
    "        sample_predictions = sample['Predictions']\n",
    "        sample_targets = sample['Targets']\n",
    "        \n",
    "        # Calculate profit using the sample data\n",
    "        profit = calculate_profit(sample_predictions, sample_targets)\n",
    "        profits.append(profit)\n",
    "\n",
    "    # Calculate mean profit, 90% confidence interval, and risk of loss\n",
    "    mean_profit = np.mean(profits)\n",
    "    conf_interval = np.percentile(profits, [5, 95])  # 90% confidence interval\n",
    "    risk_of_loss = (np.array(profits) < 0).mean() * 100  # Percentage of samples with negative profit\n",
    "\n",
    "    return mean_profit, conf_interval, risk_of_loss\n",
    "\n",
    "# Applying bootstrapping for each region\n",
    "results = []\n",
    "for predictions, targets, region_name in [\n",
    "    (pd.Series(predictions_0, index=y_valid_0.index), y_valid_0, 'Region 0'),\n",
    "    (pd.Series(predictions_1, index=y_valid_1.index), y_valid_1, 'Region 1'),\n",
    "    (pd.Series(predictions_2, index=y_valid_2.index), y_valid_2, 'Region 2')\n",
    "]:\n",
    "    mean_profit, conf_interval, risk_of_loss = bootstrap_profit(predictions, targets)\n",
    "    results.append((region_name, mean_profit, conf_interval, risk_of_loss))\n",
    "\n",
    "# Display the results\n",
    "for region_name, mean_profit, conf_interval, risk_of_loss in results:\n",
    "    print(f\"{region_name}:\")\n",
    "    print(f\"  Average Profit: ${mean_profit:,.2f}\")\n",
    "    print(f\"  90% Confidence Interval: [${conf_interval[0]:,.2f}, ${conf_interval[1]:,.2f}]\")\n",
    "    print(f\"  Risk of Loss: {risk_of_loss:.2f}%\\n\")\n"
   ]
  },
  {
   "cell_type": "code",
   "execution_count": 8,
   "metadata": {},
   "outputs": [
    {
     "name": "stdout",
     "output_type": "stream",
     "text": [
      "Recommended Region for Development: Region 1\n",
      "Reason: Highest average profit of $6,450,911.11 with a risk of loss of 0.50%\n"
     ]
    }
   ],
   "source": [
    "# Results for each region based on bootstrapping analysis\n",
    "results = [\n",
    "    (\"Region 0\", 6141092.27, [1216676.51, 11454283.18], 1.6),\n",
    "    (\"Region 1\", 6450911.11, [2100217.52, 10892754.83], 0.5),\n",
    "    (\"Region 2\", 5869463.06, [747740.78, 11431991.56], 3.2)\n",
    "]\n",
    "\n",
    "# Filter suitable regions based on risk criteria\n",
    "suitable_regions = [result for result in results if result[3] < 2.5]  # Risk of loss below 2.5%\n",
    "\n",
    "if suitable_regions:\n",
    "    # Recommend region with highest mean profit\n",
    "    best_region = max(suitable_regions, key=lambda x: x[1])\n",
    "    print(f\"Recommended Region for Development: {best_region[0]}\")\n",
    "    print(f\"Reason: Highest average profit of ${best_region[1]:,.2f} with a risk of loss of {best_region[3]:.2f}%\")\n",
    "else:\n",
    "    print(\"No suitable regions found with a risk of loss below 2.5%\")\n"
   ]
  },
  {
   "cell_type": "markdown",
   "metadata": {},
   "source": [
    "# Findings and Recommendation\n",
    "\n",
    "After analyzing the profit distribution and risks for each region using bootstrapping with 1000 samples, the following results were obtained:\n",
    "\n",
    "- **Region 0**:\n",
    "  - Average Profit: $6,141,092.27\n",
    "  - 90% Confidence Interval: [$1,216,676.51, $11,454,283.18]\n",
    "  - Risk of Loss: 1.60%\n",
    "\n",
    "- **Region 1**:\n",
    "  - Average Profit: $6,450,911.11\n",
    "  - 90% Confidence Interval: [$2,100,217.52, $10,892,754.83]\n",
    "  - Risk of Loss: 0.50%\n",
    "\n",
    "- **Region 2**:\n",
    "  - Average Profit: $5,869,463.06\n",
    "  - 90% Confidence Interval: [$747,740.78, $11,431,991.56]\n",
    "  - Risk of Loss: 3.20%\n",
    "\n",
    "### Interpretation\n",
    "\n",
    "The goal is to select a region for development that maximizes average profit while keeping the risk of loss below the 2.5% threshold.\n",
    "\n",
    "- **Region 1** is the most suitable candidate for development, with an average profit of $6,450,911.11 and a low risk of loss at 0.50%.\n",
    "- **Region 0** also meets the risk threshold with a 1.60% risk of loss, but its average profit is lower than Region 1’s.\n",
    "- **Region 2** has a risk of loss above the 2.5% threshold, making it less suitable despite a positive average profit.\n",
    "\n",
    "### Recommendation\n",
    "\n",
    "**Region 1** is recommended for development due to its balance of high average profit and minimal risk. This region offers the highest profit potential with an acceptable risk level, aligning with the company’s objective of maximizing profit while minimizing exposure to losses.\n"
   ]
  },
  {
   "cell_type": "code",
   "execution_count": null,
   "metadata": {},
   "outputs": [],
   "source": []
  }
 ],
 "metadata": {
  "ExecuteTimeLog": [
   {
    "duration": 3325,
    "start_time": "2024-10-17T22:51:43.027Z"
   },
   {
    "duration": 426,
    "start_time": "2024-10-17T22:52:26.049Z"
   },
   {
    "duration": 1127,
    "start_time": "2024-10-17T22:52:31.980Z"
   },
   {
    "duration": 399,
    "start_time": "2024-10-17T22:52:33.109Z"
   },
   {
    "duration": 32,
    "start_time": "2024-10-17T22:53:19.655Z"
   },
   {
    "duration": 5,
    "start_time": "2024-10-17T22:53:49.919Z"
   },
   {
    "duration": 5,
    "start_time": "2024-10-17T22:53:53.292Z"
   },
   {
    "duration": 9,
    "start_time": "2024-10-17T22:54:33.214Z"
   },
   {
    "duration": 309,
    "start_time": "2024-10-17T22:55:02.371Z"
   },
   {
    "duration": 161,
    "start_time": "2024-10-18T18:48:57.219Z"
   },
   {
    "duration": 2697,
    "start_time": "2024-10-18T18:49:03.650Z"
   },
   {
    "duration": 598,
    "start_time": "2024-10-18T18:49:06.350Z"
   },
   {
    "duration": 0,
    "start_time": "2024-10-18T18:49:06.950Z"
   },
   {
    "duration": 0,
    "start_time": "2024-10-18T18:49:06.951Z"
   },
   {
    "duration": 0,
    "start_time": "2024-10-18T18:49:06.952Z"
   },
   {
    "duration": 0,
    "start_time": "2024-10-18T18:49:06.953Z"
   },
   {
    "duration": 880,
    "start_time": "2024-10-18T18:50:37.919Z"
   },
   {
    "duration": 580,
    "start_time": "2024-10-18T18:50:38.801Z"
   },
   {
    "duration": 0,
    "start_time": "2024-10-18T18:50:39.387Z"
   },
   {
    "duration": 0,
    "start_time": "2024-10-18T18:50:39.388Z"
   },
   {
    "duration": 0,
    "start_time": "2024-10-18T18:50:39.389Z"
   },
   {
    "duration": 0,
    "start_time": "2024-10-18T18:50:39.390Z"
   },
   {
    "duration": 62,
    "start_time": "2024-10-18T18:51:37.439Z"
   },
   {
    "duration": 1427,
    "start_time": "2024-10-18T18:57:51.534Z"
   },
   {
    "duration": 0,
    "start_time": "2024-10-18T18:57:52.963Z"
   },
   {
    "duration": 0,
    "start_time": "2024-10-18T18:57:52.965Z"
   },
   {
    "duration": 0,
    "start_time": "2024-10-18T18:57:52.965Z"
   },
   {
    "duration": 0,
    "start_time": "2024-10-18T18:57:52.966Z"
   },
   {
    "duration": 65,
    "start_time": "2024-10-18T18:59:31.249Z"
   },
   {
    "duration": 63,
    "start_time": "2024-10-18T18:59:51.932Z"
   },
   {
    "duration": 63,
    "start_time": "2024-10-18T19:01:06.357Z"
   },
   {
    "duration": 118,
    "start_time": "2024-10-18T19:01:18.219Z"
   },
   {
    "duration": 61,
    "start_time": "2024-10-18T19:02:48.959Z"
   },
   {
    "duration": 3,
    "start_time": "2024-10-18T19:03:13.399Z"
   },
   {
    "duration": 77,
    "start_time": "2024-10-18T19:05:17.356Z"
   },
   {
    "duration": 1217,
    "start_time": "2024-10-18T19:11:01.947Z"
   },
   {
    "duration": 4,
    "start_time": "2024-10-18T19:11:03.172Z"
   },
   {
    "duration": 27,
    "start_time": "2024-10-18T19:11:03.178Z"
   },
   {
    "duration": 4,
    "start_time": "2024-10-18T19:11:03.207Z"
   },
   {
    "duration": 7,
    "start_time": "2024-10-18T19:11:03.213Z"
   },
   {
    "duration": 359,
    "start_time": "2024-10-18T19:11:03.221Z"
   },
   {
    "duration": 293,
    "start_time": "2024-10-18T19:11:20.549Z"
   },
   {
    "duration": 299,
    "start_time": "2024-10-18T19:11:27.969Z"
   },
   {
    "duration": 580,
    "start_time": "2024-10-18T19:11:57.723Z"
   },
   {
    "duration": 294,
    "start_time": "2024-10-18T19:12:29.368Z"
   },
   {
    "duration": 17,
    "start_time": "2024-10-18T19:14:08.643Z"
   },
   {
    "duration": 104,
    "start_time": "2024-10-18T19:16:35.489Z"
   },
   {
    "duration": 12,
    "start_time": "2024-10-18T19:17:27.172Z"
   },
   {
    "duration": 736,
    "start_time": "2024-10-18T19:18:36.654Z"
   },
   {
    "duration": 2984,
    "start_time": "2024-10-19T17:16:50.556Z"
   },
   {
    "duration": 157,
    "start_time": "2024-10-19T17:16:53.543Z"
   },
   {
    "duration": 86,
    "start_time": "2024-10-19T17:16:53.701Z"
   },
   {
    "duration": 742,
    "start_time": "2024-10-19T17:16:53.789Z"
   },
   {
    "duration": 278,
    "start_time": "2024-10-19T17:16:54.532Z"
   },
   {
    "duration": 15,
    "start_time": "2024-10-19T17:18:08.689Z"
   },
   {
    "duration": 2456,
    "start_time": "2024-10-19T17:18:40.533Z"
   },
   {
    "duration": 104,
    "start_time": "2024-10-19T18:56:11.138Z"
   },
   {
    "duration": 1212,
    "start_time": "2024-10-19T18:56:33.647Z"
   },
   {
    "duration": 89,
    "start_time": "2024-10-19T18:56:34.861Z"
   },
   {
    "duration": 196,
    "start_time": "2024-10-19T18:56:34.951Z"
   },
   {
    "duration": 97,
    "start_time": "2024-10-19T18:56:35.149Z"
   },
   {
    "duration": 2475,
    "start_time": "2024-10-19T18:56:35.248Z"
   },
   {
    "duration": 163,
    "start_time": "2024-10-21T16:22:46.145Z"
   },
   {
    "duration": 4,
    "start_time": "2024-10-21T16:23:10.758Z"
   },
   {
    "duration": 121,
    "start_time": "2024-10-21T16:23:14.586Z"
   },
   {
    "duration": 14,
    "start_time": "2024-10-21T16:23:22.678Z"
   },
   {
    "duration": 13,
    "start_time": "2024-10-21T16:27:15.977Z"
   },
   {
    "duration": 2498,
    "start_time": "2024-10-21T16:30:11.969Z"
   },
   {
    "duration": 1146,
    "start_time": "2024-10-21T16:32:12.958Z"
   },
   {
    "duration": 110,
    "start_time": "2024-10-21T16:32:14.106Z"
   },
   {
    "duration": 6,
    "start_time": "2024-10-21T16:32:14.218Z"
   },
   {
    "duration": 197,
    "start_time": "2024-10-21T16:32:14.225Z"
   },
   {
    "duration": 90,
    "start_time": "2024-10-21T16:32:14.424Z"
   },
   {
    "duration": 2462,
    "start_time": "2024-10-21T16:32:14.519Z"
   },
   {
    "duration": 5,
    "start_time": "2024-10-21T17:05:49.847Z"
   },
   {
    "duration": 1302,
    "start_time": "2024-10-21T17:08:10.016Z"
   },
   {
    "duration": 104,
    "start_time": "2024-10-21T17:08:11.321Z"
   },
   {
    "duration": 77,
    "start_time": "2024-10-21T17:08:11.428Z"
   },
   {
    "duration": 120,
    "start_time": "2024-10-21T17:08:11.508Z"
   },
   {
    "duration": 88,
    "start_time": "2024-10-21T17:08:11.630Z"
   },
   {
    "duration": 2631,
    "start_time": "2024-10-21T17:08:11.724Z"
   },
   {
    "duration": 2414,
    "start_time": "2024-10-21T17:18:03.459Z"
   },
   {
    "duration": 2411,
    "start_time": "2024-10-21T17:28:17.428Z"
   },
   {
    "duration": 6,
    "start_time": "2024-10-21T17:31:45.445Z"
   },
   {
    "duration": 2413,
    "start_time": "2024-10-21T17:32:08.785Z"
   },
   {
    "duration": 2407,
    "start_time": "2024-10-21T17:37:39.423Z"
   },
   {
    "duration": 2420,
    "start_time": "2024-10-21T18:03:06.005Z"
   },
   {
    "duration": 1210,
    "start_time": "2024-10-21T18:24:21.427Z"
   },
   {
    "duration": 84,
    "start_time": "2024-10-21T18:24:22.641Z"
   },
   {
    "duration": 82,
    "start_time": "2024-10-21T18:24:22.728Z"
   },
   {
    "duration": 108,
    "start_time": "2024-10-21T18:24:22.815Z"
   },
   {
    "duration": 88,
    "start_time": "2024-10-21T18:24:22.928Z"
   },
   {
    "duration": 2498,
    "start_time": "2024-10-21T18:24:23.020Z"
   },
   {
    "duration": 6,
    "start_time": "2024-10-21T19:41:18.696Z"
   },
   {
    "duration": 7,
    "start_time": "2024-10-21T19:41:42.232Z"
   },
   {
    "duration": 176,
    "start_time": "2024-10-21T19:51:59.336Z"
   },
   {
    "duration": 3329,
    "start_time": "2024-10-21T19:52:05.910Z"
   },
   {
    "duration": 206,
    "start_time": "2024-10-21T19:52:09.241Z"
   },
   {
    "duration": 10,
    "start_time": "2024-10-21T19:52:09.451Z"
   },
   {
    "duration": 139,
    "start_time": "2024-10-21T19:52:09.516Z"
   },
   {
    "duration": 27,
    "start_time": "2024-10-21T19:52:09.716Z"
   },
   {
    "duration": 2848,
    "start_time": "2024-10-21T19:52:09.744Z"
   },
   {
    "duration": 2845,
    "start_time": "2024-10-21T19:55:20.460Z"
   },
   {
    "duration": 2911,
    "start_time": "2024-10-21T20:00:31.734Z"
   },
   {
    "duration": 2846,
    "start_time": "2024-10-21T20:01:13.107Z"
   },
   {
    "duration": 2923,
    "start_time": "2024-10-21T20:03:22.504Z"
   },
   {
    "duration": 1255,
    "start_time": "2024-10-21T20:05:44.354Z"
   },
   {
    "duration": 102,
    "start_time": "2024-10-21T20:05:45.612Z"
   },
   {
    "duration": 5,
    "start_time": "2024-10-21T20:05:45.718Z"
   },
   {
    "duration": 191,
    "start_time": "2024-10-21T20:05:45.725Z"
   },
   {
    "duration": 33,
    "start_time": "2024-10-21T20:05:45.918Z"
   },
   {
    "duration": 2939,
    "start_time": "2024-10-21T20:05:45.953Z"
   },
   {
    "duration": 3129,
    "start_time": "2024-10-21T20:11:56.660Z"
   },
   {
    "duration": 3151,
    "start_time": "2024-10-21T20:28:12.588Z"
   },
   {
    "duration": 3195,
    "start_time": "2024-10-21T20:30:55.640Z"
   },
   {
    "duration": 2,
    "start_time": "2024-10-21T20:35:57.967Z"
   },
   {
    "duration": 310,
    "start_time": "2024-10-21T20:36:08.541Z"
   },
   {
    "duration": 1409,
    "start_time": "2024-10-21T20:36:18.155Z"
   },
   {
    "duration": 154,
    "start_time": "2024-10-21T20:36:19.566Z"
   },
   {
    "duration": 16,
    "start_time": "2024-10-21T20:36:19.731Z"
   },
   {
    "duration": 132,
    "start_time": "2024-10-21T20:36:19.755Z"
   },
   {
    "duration": 51,
    "start_time": "2024-10-21T20:36:19.892Z"
   },
   {
    "duration": 417,
    "start_time": "2024-10-21T20:36:19.960Z"
   },
   {
    "duration": 3236,
    "start_time": "2024-10-21T20:37:30.804Z"
   },
   {
    "duration": 527,
    "start_time": "2024-10-21T20:42:03.891Z"
   },
   {
    "duration": 1292,
    "start_time": "2024-10-21T20:42:10.635Z"
   },
   {
    "duration": 126,
    "start_time": "2024-10-21T20:42:11.928Z"
   },
   {
    "duration": 59,
    "start_time": "2024-10-21T20:42:12.056Z"
   },
   {
    "duration": 197,
    "start_time": "2024-10-21T20:42:12.127Z"
   },
   {
    "duration": 27,
    "start_time": "2024-10-21T20:42:12.327Z"
   },
   {
    "duration": 840,
    "start_time": "2024-10-21T20:42:12.358Z"
   },
   {
    "duration": 3340,
    "start_time": "2024-10-21T20:43:01.783Z"
   },
   {
    "duration": 3211,
    "start_time": "2024-10-21T20:44:52.208Z"
   },
   {
    "duration": 38,
    "start_time": "2024-10-21T20:50:00.969Z"
   },
   {
    "duration": 5,
    "start_time": "2024-10-21T20:51:19.164Z"
   },
   {
    "duration": 25,
    "start_time": "2024-10-21T20:51:46.536Z"
   },
   {
    "duration": 29,
    "start_time": "2024-10-21T20:52:27.154Z"
   },
   {
    "duration": 2123,
    "start_time": "2024-10-21T20:54:37.057Z"
   },
   {
    "duration": 2094,
    "start_time": "2024-10-21T21:00:33.405Z"
   },
   {
    "duration": 28,
    "start_time": "2024-10-21T21:01:30.121Z"
   },
   {
    "duration": 3,
    "start_time": "2024-10-21T21:04:58.701Z"
   },
   {
    "duration": 2064,
    "start_time": "2024-10-21T21:05:10.429Z"
   },
   {
    "duration": 1232,
    "start_time": "2024-10-21T21:06:00.936Z"
   },
   {
    "duration": 76,
    "start_time": "2024-10-21T21:06:02.174Z"
   },
   {
    "duration": 15,
    "start_time": "2024-10-21T21:06:02.252Z"
   },
   {
    "duration": 136,
    "start_time": "2024-10-21T21:06:02.317Z"
   },
   {
    "duration": 84,
    "start_time": "2024-10-21T21:06:02.459Z"
   },
   {
    "duration": 2568,
    "start_time": "2024-10-21T21:06:02.551Z"
   },
   {
    "duration": 1110,
    "start_time": "2024-10-23T16:26:20.486Z"
   },
   {
    "duration": 113,
    "start_time": "2024-10-23T16:26:21.600Z"
   },
   {
    "duration": 5,
    "start_time": "2024-10-23T16:26:21.715Z"
   },
   {
    "duration": 192,
    "start_time": "2024-10-23T16:26:21.723Z"
   },
   {
    "duration": 91,
    "start_time": "2024-10-23T16:26:21.917Z"
   },
   {
    "duration": 2255,
    "start_time": "2024-10-23T16:26:22.012Z"
   },
   {
    "duration": 1111,
    "start_time": "2024-10-23T16:47:11.454Z"
   },
   {
    "duration": 1034,
    "start_time": "2024-10-23T16:48:30.485Z"
   },
   {
    "duration": 90,
    "start_time": "2024-10-23T16:48:31.522Z"
   },
   {
    "duration": 5,
    "start_time": "2024-10-23T16:48:31.613Z"
   },
   {
    "duration": 191,
    "start_time": "2024-10-23T16:48:31.620Z"
   },
   {
    "duration": 14,
    "start_time": "2024-10-23T16:48:31.812Z"
   },
   {
    "duration": 79,
    "start_time": "2024-10-23T16:48:31.828Z"
   },
   {
    "duration": 1085,
    "start_time": "2024-10-23T16:48:50.514Z"
   },
   {
    "duration": 110,
    "start_time": "2024-10-23T16:48:51.602Z"
   },
   {
    "duration": 6,
    "start_time": "2024-10-23T16:48:51.714Z"
   },
   {
    "duration": 191,
    "start_time": "2024-10-23T16:48:51.722Z"
   },
   {
    "duration": 93,
    "start_time": "2024-10-23T16:48:51.918Z"
   },
   {
    "duration": 4,
    "start_time": "2024-10-23T16:48:52.013Z"
   },
   {
    "duration": 1764,
    "start_time": "2024-10-23T16:48:52.018Z"
   },
   {
    "duration": 19,
    "start_time": "2024-10-23T16:50:29.692Z"
   },
   {
    "duration": 13,
    "start_time": "2024-10-23T16:51:16.681Z"
   },
   {
    "duration": 3,
    "start_time": "2024-10-23T16:53:00.235Z"
   },
   {
    "duration": 1064,
    "start_time": "2024-10-23T16:53:27.138Z"
   },
   {
    "duration": 41,
    "start_time": "2024-10-23T16:53:28.204Z"
   },
   {
    "duration": 5,
    "start_time": "2024-10-23T16:53:28.306Z"
   },
   {
    "duration": 194,
    "start_time": "2024-10-23T16:53:28.313Z"
   },
   {
    "duration": 92,
    "start_time": "2024-10-23T16:53:28.513Z"
   },
   {
    "duration": 4,
    "start_time": "2024-10-23T16:53:28.607Z"
   },
   {
    "duration": 2382,
    "start_time": "2024-10-23T16:53:28.612Z"
   },
   {
    "duration": 224,
    "start_time": "2024-10-23T16:53:53.635Z"
   },
   {
    "duration": 1075,
    "start_time": "2024-10-23T16:54:00.919Z"
   },
   {
    "duration": 112,
    "start_time": "2024-10-23T16:54:01.996Z"
   },
   {
    "duration": 5,
    "start_time": "2024-10-23T16:54:02.110Z"
   },
   {
    "duration": 190,
    "start_time": "2024-10-23T16:54:02.117Z"
   },
   {
    "duration": 14,
    "start_time": "2024-10-23T16:54:02.310Z"
   },
   {
    "duration": 4,
    "start_time": "2024-10-23T16:54:02.326Z"
   },
   {
    "duration": 245,
    "start_time": "2024-10-23T16:54:02.406Z"
   },
   {
    "duration": 5,
    "start_time": "2024-10-23T16:55:22.576Z"
   },
   {
    "duration": 5,
    "start_time": "2024-10-23T16:55:25.692Z"
   },
   {
    "duration": 14,
    "start_time": "2024-10-23T16:58:47.970Z"
   },
   {
    "duration": 14,
    "start_time": "2024-10-23T16:58:51.814Z"
   },
   {
    "duration": 5,
    "start_time": "2024-10-23T17:00:15.419Z"
   },
   {
    "duration": 2941,
    "start_time": "2024-10-23T17:03:59.327Z"
   },
   {
    "duration": 2937,
    "start_time": "2024-10-23T17:08:28.809Z"
   },
   {
    "duration": 25,
    "start_time": "2024-10-23T17:10:39.386Z"
   },
   {
    "duration": 25,
    "start_time": "2024-10-23T17:11:21.054Z"
   },
   {
    "duration": 1104,
    "start_time": "2024-10-23T17:11:27.687Z"
   },
   {
    "duration": 143,
    "start_time": "2024-10-23T17:11:28.794Z"
   },
   {
    "duration": 71,
    "start_time": "2024-10-23T17:11:28.939Z"
   },
   {
    "duration": 218,
    "start_time": "2024-10-23T17:11:29.011Z"
   },
   {
    "duration": 94,
    "start_time": "2024-10-23T17:11:29.233Z"
   },
   {
    "duration": 277,
    "start_time": "2024-10-23T17:11:29.329Z"
   },
   {
    "duration": 1016,
    "start_time": "2024-10-23T17:14:20.373Z"
   },
   {
    "duration": 115,
    "start_time": "2024-10-23T17:14:21.391Z"
   },
   {
    "duration": 5,
    "start_time": "2024-10-23T17:14:21.510Z"
   },
   {
    "duration": 194,
    "start_time": "2024-10-23T17:14:21.517Z"
   },
   {
    "duration": 93,
    "start_time": "2024-10-23T17:14:21.714Z"
   },
   {
    "duration": 5,
    "start_time": "2024-10-23T17:14:21.809Z"
   },
   {
    "duration": 9,
    "start_time": "2024-10-23T17:15:53.676Z"
   },
   {
    "duration": 7,
    "start_time": "2024-10-23T17:17:36.902Z"
   },
   {
    "duration": 217,
    "start_time": "2024-10-23T17:17:52.147Z"
   },
   {
    "duration": 1047,
    "start_time": "2024-10-23T17:18:07.345Z"
   },
   {
    "duration": 113,
    "start_time": "2024-10-23T17:18:08.394Z"
   },
   {
    "duration": 22,
    "start_time": "2024-10-23T17:18:08.508Z"
   },
   {
    "duration": 173,
    "start_time": "2024-10-23T17:18:08.534Z"
   },
   {
    "duration": 16,
    "start_time": "2024-10-23T17:18:08.709Z"
   },
   {
    "duration": 304,
    "start_time": "2024-10-23T17:18:08.729Z"
   },
   {
    "duration": 1141,
    "start_time": "2024-10-23T17:46:19.240Z"
   },
   {
    "duration": 56,
    "start_time": "2024-10-23T17:46:20.383Z"
   },
   {
    "duration": 4,
    "start_time": "2024-10-23T17:46:20.441Z"
   },
   {
    "duration": 194,
    "start_time": "2024-10-23T17:46:20.448Z"
   },
   {
    "duration": 94,
    "start_time": "2024-10-23T17:46:20.644Z"
   },
   {
    "duration": 287,
    "start_time": "2024-10-23T17:46:20.741Z"
   },
   {
    "duration": 5,
    "start_time": "2024-10-23T17:49:55.847Z"
   },
   {
    "duration": 6,
    "start_time": "2024-10-23T17:49:59.314Z"
   },
   {
    "duration": 996,
    "start_time": "2024-10-23T17:50:06.414Z"
   },
   {
    "duration": 122,
    "start_time": "2024-10-23T17:50:07.413Z"
   },
   {
    "duration": 8,
    "start_time": "2024-10-23T17:50:07.537Z"
   },
   {
    "duration": 181,
    "start_time": "2024-10-23T17:50:07.548Z"
   },
   {
    "duration": 92,
    "start_time": "2024-10-23T17:50:07.732Z"
   },
   {
    "duration": 9,
    "start_time": "2024-10-23T17:50:07.826Z"
   },
   {
    "duration": 4,
    "start_time": "2024-10-23T17:50:22.035Z"
   },
   {
    "duration": 6,
    "start_time": "2024-10-24T00:25:04.591Z"
   },
   {
    "duration": 1173,
    "start_time": "2024-10-24T00:25:17.718Z"
   },
   {
    "duration": 103,
    "start_time": "2024-10-24T00:25:18.893Z"
   },
   {
    "duration": 6,
    "start_time": "2024-10-24T00:25:18.998Z"
   },
   {
    "duration": 183,
    "start_time": "2024-10-24T00:25:19.007Z"
   },
   {
    "duration": 14,
    "start_time": "2024-10-24T00:25:19.193Z"
   },
   {
    "duration": 78,
    "start_time": "2024-10-24T00:25:19.212Z"
   },
   {
    "duration": 7,
    "start_time": "2024-10-24T00:25:33.923Z"
   },
   {
    "duration": 5,
    "start_time": "2024-10-24T00:26:02.257Z"
   },
   {
    "duration": 229,
    "start_time": "2024-10-24T00:28:34.295Z"
   },
   {
    "duration": 1049,
    "start_time": "2024-10-24T00:28:43.256Z"
   },
   {
    "duration": 97,
    "start_time": "2024-10-24T00:28:44.307Z"
   },
   {
    "duration": 81,
    "start_time": "2024-10-24T00:28:44.406Z"
   },
   {
    "duration": 118,
    "start_time": "2024-10-24T00:28:44.490Z"
   },
   {
    "duration": 17,
    "start_time": "2024-10-24T00:28:44.691Z"
   },
   {
    "duration": 295,
    "start_time": "2024-10-24T00:28:44.709Z"
   },
   {
    "duration": 26,
    "start_time": "2024-10-24T00:29:22.899Z"
   },
   {
    "duration": 27,
    "start_time": "2024-10-24T00:32:53.947Z"
   },
   {
    "duration": 38,
    "start_time": "2024-10-24T00:34:21.285Z"
   },
   {
    "duration": 2988,
    "start_time": "2024-10-24T00:36:10.845Z"
   },
   {
    "duration": 2930,
    "start_time": "2024-10-24T00:36:15.424Z"
   },
   {
    "duration": 3061,
    "start_time": "2024-10-24T00:37:26.255Z"
   },
   {
    "duration": 2158,
    "start_time": "2024-10-24T00:48:25.330Z"
   },
   {
    "duration": 18,
    "start_time": "2024-10-24T00:54:38.058Z"
   },
   {
    "duration": 1165,
    "start_time": "2024-10-24T00:54:52.200Z"
   },
   {
    "duration": 130,
    "start_time": "2024-10-24T00:54:53.367Z"
   },
   {
    "duration": 10,
    "start_time": "2024-10-24T00:54:53.503Z"
   },
   {
    "duration": 178,
    "start_time": "2024-10-24T00:54:53.515Z"
   },
   {
    "duration": 15,
    "start_time": "2024-10-24T00:54:53.696Z"
   },
   {
    "duration": 5,
    "start_time": "2024-10-24T00:54:53.787Z"
   },
   {
    "duration": 1860,
    "start_time": "2024-10-24T00:54:53.794Z"
   },
   {
    "duration": 4,
    "start_time": "2024-10-24T00:55:26.507Z"
   },
   {
    "duration": 1065,
    "start_time": "2024-10-24T00:57:55.654Z"
   },
   {
    "duration": 84,
    "start_time": "2024-10-24T00:57:56.722Z"
   },
   {
    "duration": 5,
    "start_time": "2024-10-24T00:57:56.888Z"
   },
   {
    "duration": 193,
    "start_time": "2024-10-24T00:57:56.895Z"
   },
   {
    "duration": 15,
    "start_time": "2024-10-24T00:57:57.091Z"
   },
   {
    "duration": 6,
    "start_time": "2024-10-24T00:57:57.108Z"
   },
   {
    "duration": 3086,
    "start_time": "2024-10-24T00:57:57.187Z"
   },
   {
    "duration": 4,
    "start_time": "2024-10-24T00:58:00.275Z"
   },
   {
    "duration": 15,
    "start_time": "2024-10-24T01:00:26.131Z"
   },
   {
    "duration": 6,
    "start_time": "2024-10-24T01:00:56.097Z"
   },
   {
    "duration": 216,
    "start_time": "2024-10-24T01:02:27.343Z"
   },
   {
    "duration": 28,
    "start_time": "2024-10-24T01:02:40.152Z"
   },
   {
    "duration": 16,
    "start_time": "2024-10-24T01:02:47.082Z"
   },
   {
    "duration": 6,
    "start_time": "2024-10-24T01:11:46.804Z"
   },
   {
    "duration": 25,
    "start_time": "2024-10-24T01:12:45.092Z"
   },
   {
    "duration": 6,
    "start_time": "2024-10-24T01:12:52.832Z"
   },
   {
    "duration": 1101,
    "start_time": "2024-10-24T01:14:59.707Z"
   },
   {
    "duration": 93,
    "start_time": "2024-10-24T01:15:00.810Z"
   },
   {
    "duration": 82,
    "start_time": "2024-10-24T01:15:00.905Z"
   },
   {
    "duration": 117,
    "start_time": "2024-10-24T01:15:00.991Z"
   },
   {
    "duration": 17,
    "start_time": "2024-10-24T01:15:01.187Z"
   },
   {
    "duration": 7,
    "start_time": "2024-10-24T01:15:01.206Z"
   },
   {
    "duration": 327,
    "start_time": "2024-10-24T01:15:01.214Z"
   },
   {
    "duration": 0,
    "start_time": "2024-10-24T01:15:01.543Z"
   },
   {
    "duration": 5,
    "start_time": "2024-10-24T01:15:16.157Z"
   },
   {
    "duration": 6,
    "start_time": "2024-10-24T01:15:19.884Z"
   },
   {
    "duration": 3,
    "start_time": "2024-10-24T01:15:24.284Z"
   },
   {
    "duration": 159,
    "start_time": "2024-10-24T19:34:49.026Z"
   },
   {
    "duration": 1350,
    "start_time": "2024-10-24T21:40:38.086Z"
   },
   {
    "duration": 0,
    "start_time": "2024-10-24T21:40:39.438Z"
   },
   {
    "duration": 16,
    "start_time": "2024-10-24T21:40:39.448Z"
   },
   {
    "duration": 18,
    "start_time": "2024-10-24T21:40:39.610Z"
   },
   {
    "duration": 23,
    "start_time": "2024-10-24T21:40:39.761Z"
   },
   {
    "duration": 394,
    "start_time": "2024-10-24T21:40:57.778Z"
   },
   {
    "duration": 120,
    "start_time": "2024-10-24T21:40:59.905Z"
   },
   {
    "duration": 4,
    "start_time": "2024-10-24T21:41:01.448Z"
   },
   {
    "duration": 110,
    "start_time": "2024-10-24T21:41:02.306Z"
   },
   {
    "duration": 19,
    "start_time": "2024-10-24T21:41:02.509Z"
   },
   {
    "duration": 6,
    "start_time": "2024-10-24T21:41:03.877Z"
   },
   {
    "duration": 31,
    "start_time": "2024-10-24T21:41:04.402Z"
   },
   {
    "duration": 4,
    "start_time": "2024-10-24T21:41:04.931Z"
   },
   {
    "duration": 7,
    "start_time": "2024-10-24T21:45:52.237Z"
   },
   {
    "duration": 1179,
    "start_time": "2024-10-25T14:43:16.588Z"
   },
   {
    "duration": 139,
    "start_time": "2024-10-25T14:43:17.770Z"
   },
   {
    "duration": 6,
    "start_time": "2024-10-25T14:43:17.912Z"
   },
   {
    "duration": 189,
    "start_time": "2024-10-25T14:43:17.924Z"
   },
   {
    "duration": 301,
    "start_time": "2024-10-25T14:43:18.118Z"
   },
   {
    "duration": 0,
    "start_time": "2024-10-25T14:43:18.421Z"
   },
   {
    "duration": 0,
    "start_time": "2024-10-25T14:43:18.422Z"
   },
   {
    "duration": 0,
    "start_time": "2024-10-25T14:43:18.423Z"
   },
   {
    "duration": 4,
    "start_time": "2024-10-25T14:45:55.476Z"
   },
   {
    "duration": 1061,
    "start_time": "2024-10-25T14:47:06.387Z"
   },
   {
    "duration": 158,
    "start_time": "2024-10-25T14:47:07.450Z"
   },
   {
    "duration": 6,
    "start_time": "2024-10-25T14:47:07.611Z"
   },
   {
    "duration": 191,
    "start_time": "2024-10-25T14:47:07.621Z"
   },
   {
    "duration": 300,
    "start_time": "2024-10-25T14:47:07.814Z"
   },
   {
    "duration": 0,
    "start_time": "2024-10-25T14:47:08.116Z"
   },
   {
    "duration": 0,
    "start_time": "2024-10-25T14:47:08.117Z"
   },
   {
    "duration": 0,
    "start_time": "2024-10-25T14:47:08.119Z"
   },
   {
    "duration": 1218,
    "start_time": "2024-10-29T19:55:17.107Z"
   },
   {
    "duration": 100,
    "start_time": "2024-10-29T19:55:18.327Z"
   },
   {
    "duration": 81,
    "start_time": "2024-10-29T19:55:18.430Z"
   },
   {
    "duration": 110,
    "start_time": "2024-10-29T19:55:18.518Z"
   },
   {
    "duration": 348,
    "start_time": "2024-10-29T19:55:18.630Z"
   },
   {
    "duration": 0,
    "start_time": "2024-10-29T19:55:18.980Z"
   },
   {
    "duration": 0,
    "start_time": "2024-10-29T19:55:18.982Z"
   },
   {
    "duration": 0,
    "start_time": "2024-10-29T19:55:18.983Z"
   },
   {
    "duration": 18,
    "start_time": "2024-10-29T19:59:11.034Z"
   },
   {
    "duration": 1155,
    "start_time": "2024-10-29T20:20:34.411Z"
   },
   {
    "duration": 67,
    "start_time": "2024-10-29T20:20:35.568Z"
   },
   {
    "duration": 75,
    "start_time": "2024-10-29T20:20:35.640Z"
   },
   {
    "duration": 123,
    "start_time": "2024-10-29T20:20:35.718Z"
   },
   {
    "duration": 364,
    "start_time": "2024-10-29T20:20:35.844Z"
   },
   {
    "duration": 0,
    "start_time": "2024-10-29T20:20:36.211Z"
   },
   {
    "duration": 0,
    "start_time": "2024-10-29T20:20:36.212Z"
   },
   {
    "duration": 0,
    "start_time": "2024-10-29T20:20:36.214Z"
   },
   {
    "duration": 163,
    "start_time": "2024-10-29T20:59:18.820Z"
   },
   {
    "duration": 1260,
    "start_time": "2024-10-29T20:59:24.597Z"
   },
   {
    "duration": 152,
    "start_time": "2024-10-29T20:59:25.860Z"
   },
   {
    "duration": 5,
    "start_time": "2024-10-29T20:59:26.015Z"
   },
   {
    "duration": 196,
    "start_time": "2024-10-29T20:59:26.023Z"
   },
   {
    "duration": 94,
    "start_time": "2024-10-29T20:59:26.221Z"
   },
   {
    "duration": 7,
    "start_time": "2024-10-29T20:59:26.317Z"
   },
   {
    "duration": 265,
    "start_time": "2024-10-29T20:59:26.326Z"
   },
   {
    "duration": 0,
    "start_time": "2024-10-29T20:59:26.593Z"
   },
   {
    "duration": 14,
    "start_time": "2024-10-29T21:01:14.076Z"
   },
   {
    "duration": 5,
    "start_time": "2024-10-29T21:01:54.569Z"
   },
   {
    "duration": 1956,
    "start_time": "2024-10-29T21:05:14.142Z"
   },
   {
    "duration": 4,
    "start_time": "2024-10-29T21:05:46.150Z"
   },
   {
    "duration": 1067,
    "start_time": "2024-10-29T21:08:23.361Z"
   },
   {
    "duration": 95,
    "start_time": "2024-10-29T21:08:24.430Z"
   },
   {
    "duration": 84,
    "start_time": "2024-10-29T21:08:24.527Z"
   },
   {
    "duration": 112,
    "start_time": "2024-10-29T21:08:24.614Z"
   },
   {
    "duration": 96,
    "start_time": "2024-10-29T21:08:24.729Z"
   },
   {
    "duration": 2041,
    "start_time": "2024-10-29T21:08:24.827Z"
   },
   {
    "duration": 4,
    "start_time": "2024-10-29T21:08:26.870Z"
   },
   {
    "duration": 4,
    "start_time": "2024-10-29T21:11:56.205Z"
   }
  ],
  "kernelspec": {
   "display_name": "Python 3 (ipykernel)",
   "language": "python",
   "name": "python3"
  },
  "language_info": {
   "codemirror_mode": {
    "name": "ipython",
    "version": 3
   },
   "file_extension": ".py",
   "mimetype": "text/x-python",
   "name": "python",
   "nbconvert_exporter": "python",
   "pygments_lexer": "ipython3",
   "version": "3.12.4"
  },
  "toc": {
   "base_numbering": 1,
   "nav_menu": {},
   "number_sections": true,
   "sideBar": true,
   "skip_h1_title": true,
   "title_cell": "Table of Contents",
   "title_sidebar": "Contents",
   "toc_cell": false,
   "toc_position": {},
   "toc_section_display": true,
   "toc_window_display": false
  }
 },
 "nbformat": 4,
 "nbformat_minor": 4
}
