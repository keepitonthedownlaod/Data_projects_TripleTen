{
 "cells": [
  {
   "cell_type": "markdown",
   "id": "969e1805",
   "metadata": {},
   "source": [
    "###  DATA PREPARATION"
   ]
  },
  {
   "cell_type": "markdown",
   "id": "0f57afd9",
   "metadata": {},
   "source": [
    "# **Rusty Bargain Used Car Price Prediction**\n",
    "### **Project Overview**\n",
    "Rusty Bargain is developing an app that estimates used car market values. Our goal is to **build a machine learning model** that predicts car prices efficiently while optimizing:\n",
    " **Prediction Accuracy** (Minimizing RMSE)\n",
    " **Training Time** (Model efficiency)\n",
    " **Prediction Speed** (Real-time usability)\n",
    "\n",
    "### * Workflow**\n",
    "1️⃣ **Data Preparation** (Cleaning, encoding, and splitting)  \n",
    "2️⃣ **Model Training** (Testing different regression models)  \n",
    "3️⃣ **Model Evaluation & Analysis** (Comparing accuracy & performance)  \n",
    "\n",
    "---\n"
   ]
  },
  {
   "cell_type": "markdown",
   "id": "e9277ddf",
   "metadata": {},
   "source": [
    "<div class=\"alert alert-success\" style=\"border-radius: 15px; box-shadow: 4px 4px 4px; border: 1px solid \">\n",
    "<h2>   Reviewer's comment </h2>\n",
    "    \n",
    "Good introduction! The title reflects the core goals, which is also important. Well done!  \n",
    "    \n",
    "</div>"
   ]
  },
  {
   "cell_type": "code",
   "execution_count": 1,
   "id": "0094438c",
   "metadata": {},
   "outputs": [],
   "source": [
    "#Import necessary libraries\n",
    "import numpy as np\n",
    "import pandas as pd\n",
    "import time\n",
    "import warnings\n",
    "import os\n",
    "import matplotlib.pyplot as plt\n",
    "import seaborn as sns\n",
    "\n",
    "from sklearn.model_selection import train_test_split\n",
    "from sklearn.linear_model import LinearRegression\n",
    "from sklearn.tree import DecisionTreeRegressor\n",
    "from sklearn.ensemble import RandomForestRegressor\n",
    "from lightgbm import LGBMRegressor\n",
    "from catboost import CatBoostRegressor\n",
    "from xgboost import XGBRegressor\n",
    "from sklearn.metrics import mean_squared_error\n",
    "\n",
    "warnings.filterwarnings('ignore')\n"
   ]
  },
  {
   "cell_type": "markdown",
   "id": "d64fc52f",
   "metadata": {},
   "source": [
    "## ** Data Preparation**\n",
    "### **Objective:**\n",
    "- Load and explore the dataset\n",
    "- Handle missing values & outliers\n",
    "- Apply One-Hot Encoding\n",
    "- Split data into **training** and **test** sets\n",
    "---\n",
    "### * Why This Matters**\n",
    "Before training machine learning models, we need to ensure **data quality** by:\n",
    "- Removing missing or incorrect values.  \n",
    "- Encoding categorical variables correctly.  \n",
    "- Splitting the data properly to prevent **data leakage**."
   ]
  },
  {
   "cell_type": "markdown",
   "id": "87117136",
   "metadata": {},
   "source": [
    "## **Model Training**\n",
    "\n",
    "### **Objective**\n",
    "- Train multiple machine learning models to predict car prices.\n",
    "- Measure **accuracy** and **performance metrics** for comparison.\n",
    "\n",
    "### *Models Used**\n",
    "We test different regression-based models:\n",
    "1. **Linear Regression** - Simple baseline model.\n",
    "2. **Decision Tree** - Captures non-linearity but prone to overfitting.\n",
    "3. **Random Forest** - Uses multiple trees for improved accuracy.\n",
    "5. **CatBoost** - Gradient boosting optimized for categorical features.\n",
    "\n"
   ]
  },
  {
   "cell_type": "code",
   "execution_count": 7,
   "id": "b3c3233e",
   "metadata": {},
   "outputs": [
    {
     "data": {
      "text/html": [
       "<div>\n",
       "<style scoped>\n",
       "    .dataframe tbody tr th:only-of-type {\n",
       "        vertical-align: middle;\n",
       "    }\n",
       "\n",
       "    .dataframe tbody tr th {\n",
       "        vertical-align: top;\n",
       "    }\n",
       "\n",
       "    .dataframe thead th {\n",
       "        text-align: right;\n",
       "    }\n",
       "</style>\n",
       "<table border=\"1\" class=\"dataframe\">\n",
       "  <thead>\n",
       "    <tr style=\"text-align: right;\">\n",
       "      <th></th>\n",
       "      <th>DateCrawled</th>\n",
       "      <th>Price</th>\n",
       "      <th>VehicleType</th>\n",
       "      <th>RegistrationYear</th>\n",
       "      <th>Gearbox</th>\n",
       "      <th>Power</th>\n",
       "      <th>Model</th>\n",
       "      <th>Mileage</th>\n",
       "      <th>RegistrationMonth</th>\n",
       "      <th>FuelType</th>\n",
       "      <th>Brand</th>\n",
       "      <th>NotRepaired</th>\n",
       "      <th>DateCreated</th>\n",
       "      <th>NumberOfPictures</th>\n",
       "      <th>PostalCode</th>\n",
       "      <th>LastSeen</th>\n",
       "    </tr>\n",
       "  </thead>\n",
       "  <tbody>\n",
       "    <tr>\n",
       "      <th>0</th>\n",
       "      <td>24/03/2016 11:52</td>\n",
       "      <td>480</td>\n",
       "      <td>NaN</td>\n",
       "      <td>1993</td>\n",
       "      <td>manual</td>\n",
       "      <td>0</td>\n",
       "      <td>golf</td>\n",
       "      <td>150000</td>\n",
       "      <td>0</td>\n",
       "      <td>petrol</td>\n",
       "      <td>volkswagen</td>\n",
       "      <td>NaN</td>\n",
       "      <td>24/03/2016 00:00</td>\n",
       "      <td>0</td>\n",
       "      <td>70435</td>\n",
       "      <td>07/04/2016 03:16</td>\n",
       "    </tr>\n",
       "    <tr>\n",
       "      <th>1</th>\n",
       "      <td>24/03/2016 10:58</td>\n",
       "      <td>18300</td>\n",
       "      <td>coupe</td>\n",
       "      <td>2011</td>\n",
       "      <td>manual</td>\n",
       "      <td>190</td>\n",
       "      <td>NaN</td>\n",
       "      <td>125000</td>\n",
       "      <td>5</td>\n",
       "      <td>gasoline</td>\n",
       "      <td>audi</td>\n",
       "      <td>yes</td>\n",
       "      <td>24/03/2016 00:00</td>\n",
       "      <td>0</td>\n",
       "      <td>66954</td>\n",
       "      <td>07/04/2016 01:46</td>\n",
       "    </tr>\n",
       "    <tr>\n",
       "      <th>2</th>\n",
       "      <td>14/03/2016 12:52</td>\n",
       "      <td>9800</td>\n",
       "      <td>suv</td>\n",
       "      <td>2004</td>\n",
       "      <td>auto</td>\n",
       "      <td>163</td>\n",
       "      <td>grand</td>\n",
       "      <td>125000</td>\n",
       "      <td>8</td>\n",
       "      <td>gasoline</td>\n",
       "      <td>jeep</td>\n",
       "      <td>NaN</td>\n",
       "      <td>14/03/2016 00:00</td>\n",
       "      <td>0</td>\n",
       "      <td>90480</td>\n",
       "      <td>05/04/2016 12:47</td>\n",
       "    </tr>\n",
       "    <tr>\n",
       "      <th>3</th>\n",
       "      <td>17/03/2016 16:54</td>\n",
       "      <td>1500</td>\n",
       "      <td>small</td>\n",
       "      <td>2001</td>\n",
       "      <td>manual</td>\n",
       "      <td>75</td>\n",
       "      <td>golf</td>\n",
       "      <td>150000</td>\n",
       "      <td>6</td>\n",
       "      <td>petrol</td>\n",
       "      <td>volkswagen</td>\n",
       "      <td>no</td>\n",
       "      <td>17/03/2016 00:00</td>\n",
       "      <td>0</td>\n",
       "      <td>91074</td>\n",
       "      <td>17/03/2016 17:40</td>\n",
       "    </tr>\n",
       "    <tr>\n",
       "      <th>4</th>\n",
       "      <td>31/03/2016 17:25</td>\n",
       "      <td>3600</td>\n",
       "      <td>small</td>\n",
       "      <td>2008</td>\n",
       "      <td>manual</td>\n",
       "      <td>69</td>\n",
       "      <td>fabia</td>\n",
       "      <td>90000</td>\n",
       "      <td>7</td>\n",
       "      <td>gasoline</td>\n",
       "      <td>skoda</td>\n",
       "      <td>no</td>\n",
       "      <td>31/03/2016 00:00</td>\n",
       "      <td>0</td>\n",
       "      <td>60437</td>\n",
       "      <td>06/04/2016 10:17</td>\n",
       "    </tr>\n",
       "  </tbody>\n",
       "</table>\n",
       "</div>"
      ],
      "text/plain": [
       "        DateCrawled  Price VehicleType  RegistrationYear Gearbox  Power  \\\n",
       "0  24/03/2016 11:52    480         NaN              1993  manual      0   \n",
       "1  24/03/2016 10:58  18300       coupe              2011  manual    190   \n",
       "2  14/03/2016 12:52   9800         suv              2004    auto    163   \n",
       "3  17/03/2016 16:54   1500       small              2001  manual     75   \n",
       "4  31/03/2016 17:25   3600       small              2008  manual     69   \n",
       "\n",
       "   Model  Mileage  RegistrationMonth  FuelType       Brand NotRepaired  \\\n",
       "0   golf   150000                  0    petrol  volkswagen         NaN   \n",
       "1    NaN   125000                  5  gasoline        audi         yes   \n",
       "2  grand   125000                  8  gasoline        jeep         NaN   \n",
       "3   golf   150000                  6    petrol  volkswagen          no   \n",
       "4  fabia    90000                  7  gasoline       skoda          no   \n",
       "\n",
       "        DateCreated  NumberOfPictures  PostalCode          LastSeen  \n",
       "0  24/03/2016 00:00                 0       70435  07/04/2016 03:16  \n",
       "1  24/03/2016 00:00                 0       66954  07/04/2016 01:46  \n",
       "2  14/03/2016 00:00                 0       90480  05/04/2016 12:47  \n",
       "3  17/03/2016 00:00                 0       91074  17/03/2016 17:40  \n",
       "4  31/03/2016 00:00                 0       60437  06/04/2016 10:17  "
      ]
     },
     "metadata": {},
     "output_type": "display_data"
    },
    {
     "name": "stdout",
     "output_type": "stream",
     "text": [
      "<class 'pandas.core.frame.DataFrame'>\n",
      "RangeIndex: 354369 entries, 0 to 354368\n",
      "Data columns (total 16 columns):\n",
      " #   Column             Non-Null Count   Dtype \n",
      "---  ------             --------------   ----- \n",
      " 0   DateCrawled        354369 non-null  object\n",
      " 1   Price              354369 non-null  int64 \n",
      " 2   VehicleType        316879 non-null  object\n",
      " 3   RegistrationYear   354369 non-null  int64 \n",
      " 4   Gearbox            334536 non-null  object\n",
      " 5   Power              354369 non-null  int64 \n",
      " 6   Model              334664 non-null  object\n",
      " 7   Mileage            354369 non-null  int64 \n",
      " 8   RegistrationMonth  354369 non-null  int64 \n",
      " 9   FuelType           321474 non-null  object\n",
      " 10  Brand              354369 non-null  object\n",
      " 11  NotRepaired        283215 non-null  object\n",
      " 12  DateCreated        354369 non-null  object\n",
      " 13  NumberOfPictures   354369 non-null  int64 \n",
      " 14  PostalCode         354369 non-null  int64 \n",
      " 15  LastSeen           354369 non-null  object\n",
      "dtypes: int64(7), object(9)\n",
      "memory usage: 43.3+ MB\n"
     ]
    },
    {
     "data": {
      "text/plain": [
       "None"
      ]
     },
     "metadata": {},
     "output_type": "display_data"
    },
    {
     "data": {
      "text/html": [
       "<div>\n",
       "<style scoped>\n",
       "    .dataframe tbody tr th:only-of-type {\n",
       "        vertical-align: middle;\n",
       "    }\n",
       "\n",
       "    .dataframe tbody tr th {\n",
       "        vertical-align: top;\n",
       "    }\n",
       "\n",
       "    .dataframe thead th {\n",
       "        text-align: right;\n",
       "    }\n",
       "</style>\n",
       "<table border=\"1\" class=\"dataframe\">\n",
       "  <thead>\n",
       "    <tr style=\"text-align: right;\">\n",
       "      <th></th>\n",
       "      <th>Price</th>\n",
       "      <th>RegistrationYear</th>\n",
       "      <th>Power</th>\n",
       "      <th>Mileage</th>\n",
       "      <th>RegistrationMonth</th>\n",
       "      <th>NumberOfPictures</th>\n",
       "      <th>PostalCode</th>\n",
       "    </tr>\n",
       "  </thead>\n",
       "  <tbody>\n",
       "    <tr>\n",
       "      <th>count</th>\n",
       "      <td>354369.000000</td>\n",
       "      <td>354369.000000</td>\n",
       "      <td>354369.000000</td>\n",
       "      <td>354369.000000</td>\n",
       "      <td>354369.000000</td>\n",
       "      <td>354369.0</td>\n",
       "      <td>354369.000000</td>\n",
       "    </tr>\n",
       "    <tr>\n",
       "      <th>mean</th>\n",
       "      <td>4416.656776</td>\n",
       "      <td>2004.234448</td>\n",
       "      <td>110.094337</td>\n",
       "      <td>128211.172535</td>\n",
       "      <td>5.714645</td>\n",
       "      <td>0.0</td>\n",
       "      <td>50508.689087</td>\n",
       "    </tr>\n",
       "    <tr>\n",
       "      <th>std</th>\n",
       "      <td>4514.158514</td>\n",
       "      <td>90.227958</td>\n",
       "      <td>189.850405</td>\n",
       "      <td>37905.341530</td>\n",
       "      <td>3.726421</td>\n",
       "      <td>0.0</td>\n",
       "      <td>25783.096248</td>\n",
       "    </tr>\n",
       "    <tr>\n",
       "      <th>min</th>\n",
       "      <td>0.000000</td>\n",
       "      <td>1000.000000</td>\n",
       "      <td>0.000000</td>\n",
       "      <td>5000.000000</td>\n",
       "      <td>0.000000</td>\n",
       "      <td>0.0</td>\n",
       "      <td>1067.000000</td>\n",
       "    </tr>\n",
       "    <tr>\n",
       "      <th>25%</th>\n",
       "      <td>1050.000000</td>\n",
       "      <td>1999.000000</td>\n",
       "      <td>69.000000</td>\n",
       "      <td>125000.000000</td>\n",
       "      <td>3.000000</td>\n",
       "      <td>0.0</td>\n",
       "      <td>30165.000000</td>\n",
       "    </tr>\n",
       "    <tr>\n",
       "      <th>50%</th>\n",
       "      <td>2700.000000</td>\n",
       "      <td>2003.000000</td>\n",
       "      <td>105.000000</td>\n",
       "      <td>150000.000000</td>\n",
       "      <td>6.000000</td>\n",
       "      <td>0.0</td>\n",
       "      <td>49413.000000</td>\n",
       "    </tr>\n",
       "    <tr>\n",
       "      <th>75%</th>\n",
       "      <td>6400.000000</td>\n",
       "      <td>2008.000000</td>\n",
       "      <td>143.000000</td>\n",
       "      <td>150000.000000</td>\n",
       "      <td>9.000000</td>\n",
       "      <td>0.0</td>\n",
       "      <td>71083.000000</td>\n",
       "    </tr>\n",
       "    <tr>\n",
       "      <th>max</th>\n",
       "      <td>20000.000000</td>\n",
       "      <td>9999.000000</td>\n",
       "      <td>20000.000000</td>\n",
       "      <td>150000.000000</td>\n",
       "      <td>12.000000</td>\n",
       "      <td>0.0</td>\n",
       "      <td>99998.000000</td>\n",
       "    </tr>\n",
       "  </tbody>\n",
       "</table>\n",
       "</div>"
      ],
      "text/plain": [
       "               Price  RegistrationYear          Power        Mileage  \\\n",
       "count  354369.000000     354369.000000  354369.000000  354369.000000   \n",
       "mean     4416.656776       2004.234448     110.094337  128211.172535   \n",
       "std      4514.158514         90.227958     189.850405   37905.341530   \n",
       "min         0.000000       1000.000000       0.000000    5000.000000   \n",
       "25%      1050.000000       1999.000000      69.000000  125000.000000   \n",
       "50%      2700.000000       2003.000000     105.000000  150000.000000   \n",
       "75%      6400.000000       2008.000000     143.000000  150000.000000   \n",
       "max     20000.000000       9999.000000   20000.000000  150000.000000   \n",
       "\n",
       "       RegistrationMonth  NumberOfPictures     PostalCode  \n",
       "count      354369.000000          354369.0  354369.000000  \n",
       "mean            5.714645               0.0   50508.689087  \n",
       "std             3.726421               0.0   25783.096248  \n",
       "min             0.000000               0.0    1067.000000  \n",
       "25%             3.000000               0.0   30165.000000  \n",
       "50%             6.000000               0.0   49413.000000  \n",
       "75%             9.000000               0.0   71083.000000  \n",
       "max            12.000000               0.0   99998.000000  "
      ]
     },
     "metadata": {},
     "output_type": "display_data"
    }
   ],
   "source": [
    "#Load dataset\n",
    "file_path = \"/datasets/car_data.csv\" \n",
    "df = pd.read_csv(file_path)\n",
    "\n",
    "# Initial look at the data\n",
    "display(df.head())\n",
    "display(df.info())\n",
    "display(df.describe())"
   ]
  },
  {
   "cell_type": "code",
   "execution_count": 8,
   "id": "4925dd9f",
   "metadata": {},
   "outputs": [
    {
     "data": {
      "text/html": [
       "<div>\n",
       "<style scoped>\n",
       "    .dataframe tbody tr th:only-of-type {\n",
       "        vertical-align: middle;\n",
       "    }\n",
       "\n",
       "    .dataframe tbody tr th {\n",
       "        vertical-align: top;\n",
       "    }\n",
       "\n",
       "    .dataframe thead th {\n",
       "        text-align: right;\n",
       "    }\n",
       "</style>\n",
       "<table border=\"1\" class=\"dataframe\">\n",
       "  <thead>\n",
       "    <tr style=\"text-align: right;\">\n",
       "      <th></th>\n",
       "      <th>Price</th>\n",
       "      <th>RegistrationYear</th>\n",
       "      <th>Power</th>\n",
       "      <th>Mileage</th>\n",
       "      <th>RegistrationMonth</th>\n",
       "      <th>NumberOfPictures</th>\n",
       "      <th>PostalCode</th>\n",
       "    </tr>\n",
       "  </thead>\n",
       "  <tbody>\n",
       "    <tr>\n",
       "      <th>count</th>\n",
       "      <td>354369.000000</td>\n",
       "      <td>354369.000000</td>\n",
       "      <td>354369.000000</td>\n",
       "      <td>354369.000000</td>\n",
       "      <td>354369.000000</td>\n",
       "      <td>354369.0</td>\n",
       "      <td>354369.000000</td>\n",
       "    </tr>\n",
       "    <tr>\n",
       "      <th>mean</th>\n",
       "      <td>4416.656776</td>\n",
       "      <td>2004.234448</td>\n",
       "      <td>110.094337</td>\n",
       "      <td>128211.172535</td>\n",
       "      <td>5.714645</td>\n",
       "      <td>0.0</td>\n",
       "      <td>50508.689087</td>\n",
       "    </tr>\n",
       "    <tr>\n",
       "      <th>std</th>\n",
       "      <td>4514.158514</td>\n",
       "      <td>90.227958</td>\n",
       "      <td>189.850405</td>\n",
       "      <td>37905.341530</td>\n",
       "      <td>3.726421</td>\n",
       "      <td>0.0</td>\n",
       "      <td>25783.096248</td>\n",
       "    </tr>\n",
       "    <tr>\n",
       "      <th>min</th>\n",
       "      <td>0.000000</td>\n",
       "      <td>1000.000000</td>\n",
       "      <td>0.000000</td>\n",
       "      <td>5000.000000</td>\n",
       "      <td>0.000000</td>\n",
       "      <td>0.0</td>\n",
       "      <td>1067.000000</td>\n",
       "    </tr>\n",
       "    <tr>\n",
       "      <th>25%</th>\n",
       "      <td>1050.000000</td>\n",
       "      <td>1999.000000</td>\n",
       "      <td>69.000000</td>\n",
       "      <td>125000.000000</td>\n",
       "      <td>3.000000</td>\n",
       "      <td>0.0</td>\n",
       "      <td>30165.000000</td>\n",
       "    </tr>\n",
       "    <tr>\n",
       "      <th>50%</th>\n",
       "      <td>2700.000000</td>\n",
       "      <td>2003.000000</td>\n",
       "      <td>105.000000</td>\n",
       "      <td>150000.000000</td>\n",
       "      <td>6.000000</td>\n",
       "      <td>0.0</td>\n",
       "      <td>49413.000000</td>\n",
       "    </tr>\n",
       "    <tr>\n",
       "      <th>75%</th>\n",
       "      <td>6400.000000</td>\n",
       "      <td>2008.000000</td>\n",
       "      <td>143.000000</td>\n",
       "      <td>150000.000000</td>\n",
       "      <td>9.000000</td>\n",
       "      <td>0.0</td>\n",
       "      <td>71083.000000</td>\n",
       "    </tr>\n",
       "    <tr>\n",
       "      <th>max</th>\n",
       "      <td>20000.000000</td>\n",
       "      <td>9999.000000</td>\n",
       "      <td>20000.000000</td>\n",
       "      <td>150000.000000</td>\n",
       "      <td>12.000000</td>\n",
       "      <td>0.0</td>\n",
       "      <td>99998.000000</td>\n",
       "    </tr>\n",
       "  </tbody>\n",
       "</table>\n",
       "</div>"
      ],
      "text/plain": [
       "               Price  RegistrationYear          Power        Mileage  \\\n",
       "count  354369.000000     354369.000000  354369.000000  354369.000000   \n",
       "mean     4416.656776       2004.234448     110.094337  128211.172535   \n",
       "std      4514.158514         90.227958     189.850405   37905.341530   \n",
       "min         0.000000       1000.000000       0.000000    5000.000000   \n",
       "25%      1050.000000       1999.000000      69.000000  125000.000000   \n",
       "50%      2700.000000       2003.000000     105.000000  150000.000000   \n",
       "75%      6400.000000       2008.000000     143.000000  150000.000000   \n",
       "max     20000.000000       9999.000000   20000.000000  150000.000000   \n",
       "\n",
       "       RegistrationMonth  NumberOfPictures     PostalCode  \n",
       "count      354369.000000          354369.0  354369.000000  \n",
       "mean            5.714645               0.0   50508.689087  \n",
       "std             3.726421               0.0   25783.096248  \n",
       "min             0.000000               0.0    1067.000000  \n",
       "25%             3.000000               0.0   30165.000000  \n",
       "50%             6.000000               0.0   49413.000000  \n",
       "75%             9.000000               0.0   71083.000000  \n",
       "max            12.000000               0.0   99998.000000  "
      ]
     },
     "metadata": {},
     "output_type": "display_data"
    },
    {
     "data": {
      "image/png": "[encoded data removed]",
      "text/plain": [
       "<Figure size 800x400 with 1 Axes>"
      ]
     },
     "metadata": {},
     "output_type": "display_data"
    },
    {
     "data": {
      "image/png": "[encoded data removed]",
      "text/plain": [
       "<Figure size 800x400 with 1 Axes>"
      ]
     },
     "metadata": {},
     "output_type": "display_data"
    },
    {
     "data": {
      "image/png": "[encoded data removed]",
      "text/plain": [
       "<Figure size 800x400 with 1 Axes>"
      ]
     },
     "metadata": {},
     "output_type": "display_data"
    },
    {
     "data": {
      "image/png": "[encoded data removed]",
      "text/plain": [
       "<Figure size 800x400 with 1 Axes>"
      ]
     },
     "metadata": {},
     "output_type": "display_data"
    }
   ],
   "source": [
    "# Preview numeric columns and describe the dataset\n",
    "display(df.describe())\n",
    "\n",
    "# Select numerical columns that actually exist in the DataFrame\n",
    "numerical_columns = ['Price', 'Power', 'Mileage', 'RegistrationYear']\n",
    "existing_numericals = [col for col in numerical_columns if col in df.columns]\n",
    "\n",
    "# Plot boxplots for each numeric column\n",
    "for col in existing_numericals:\n",
    "    plt.figure(figsize=(8, 4))\n",
    "    sns.boxplot(x=df[col])\n",
    "    plt.title(f'Boxplot of {col}')\n",
    "    plt.xlabel(col)\n",
    "    plt.tight_layout()\n",
    "    plt.show()\n"
   ]
  },
  {
   "cell_type": "code",
   "execution_count": 9,
   "id": "57b458e8",
   "metadata": {},
   "outputs": [
    {
     "data": {
      "text/html": [
       "<div>\n",
       "<style scoped>\n",
       "    .dataframe tbody tr th:only-of-type {\n",
       "        vertical-align: middle;\n",
       "    }\n",
       "\n",
       "    .dataframe tbody tr th {\n",
       "        vertical-align: top;\n",
       "    }\n",
       "\n",
       "    .dataframe thead th {\n",
       "        text-align: right;\n",
       "    }\n",
       "</style>\n",
       "<table border=\"1\" class=\"dataframe\">\n",
       "  <thead>\n",
       "    <tr style=\"text-align: right;\">\n",
       "      <th></th>\n",
       "      <th>DateCrawled</th>\n",
       "      <th>Price</th>\n",
       "      <th>VehicleType</th>\n",
       "      <th>RegistrationYear</th>\n",
       "      <th>Gearbox</th>\n",
       "      <th>Power</th>\n",
       "      <th>Model</th>\n",
       "      <th>Mileage</th>\n",
       "      <th>RegistrationMonth</th>\n",
       "      <th>FuelType</th>\n",
       "      <th>Brand</th>\n",
       "      <th>NotRepaired</th>\n",
       "      <th>DateCreated</th>\n",
       "      <th>NumberOfPictures</th>\n",
       "      <th>PostalCode</th>\n",
       "      <th>LastSeen</th>\n",
       "    </tr>\n",
       "  </thead>\n",
       "  <tbody>\n",
       "    <tr>\n",
       "      <th>1</th>\n",
       "      <td>24/03/2016 10:58</td>\n",
       "      <td>18300</td>\n",
       "      <td>coupe</td>\n",
       "      <td>2011</td>\n",
       "      <td>manual</td>\n",
       "      <td>190</td>\n",
       "      <td>NaN</td>\n",
       "      <td>125000</td>\n",
       "      <td>5</td>\n",
       "      <td>gasoline</td>\n",
       "      <td>audi</td>\n",
       "      <td>yes</td>\n",
       "      <td>24/03/2016 00:00</td>\n",
       "      <td>0</td>\n",
       "      <td>66954</td>\n",
       "      <td>07/04/2016 01:46</td>\n",
       "    </tr>\n",
       "    <tr>\n",
       "      <th>2</th>\n",
       "      <td>14/03/2016 12:52</td>\n",
       "      <td>9800</td>\n",
       "      <td>suv</td>\n",
       "      <td>2004</td>\n",
       "      <td>auto</td>\n",
       "      <td>163</td>\n",
       "      <td>grand</td>\n",
       "      <td>125000</td>\n",
       "      <td>8</td>\n",
       "      <td>gasoline</td>\n",
       "      <td>jeep</td>\n",
       "      <td>NaN</td>\n",
       "      <td>14/03/2016 00:00</td>\n",
       "      <td>0</td>\n",
       "      <td>90480</td>\n",
       "      <td>05/04/2016 12:47</td>\n",
       "    </tr>\n",
       "    <tr>\n",
       "      <th>3</th>\n",
       "      <td>17/03/2016 16:54</td>\n",
       "      <td>1500</td>\n",
       "      <td>small</td>\n",
       "      <td>2001</td>\n",
       "      <td>manual</td>\n",
       "      <td>75</td>\n",
       "      <td>golf</td>\n",
       "      <td>150000</td>\n",
       "      <td>6</td>\n",
       "      <td>petrol</td>\n",
       "      <td>volkswagen</td>\n",
       "      <td>no</td>\n",
       "      <td>17/03/2016 00:00</td>\n",
       "      <td>0</td>\n",
       "      <td>91074</td>\n",
       "      <td>17/03/2016 17:40</td>\n",
       "    </tr>\n",
       "    <tr>\n",
       "      <th>4</th>\n",
       "      <td>31/03/2016 17:25</td>\n",
       "      <td>3600</td>\n",
       "      <td>small</td>\n",
       "      <td>2008</td>\n",
       "      <td>manual</td>\n",
       "      <td>69</td>\n",
       "      <td>fabia</td>\n",
       "      <td>90000</td>\n",
       "      <td>7</td>\n",
       "      <td>gasoline</td>\n",
       "      <td>skoda</td>\n",
       "      <td>no</td>\n",
       "      <td>31/03/2016 00:00</td>\n",
       "      <td>0</td>\n",
       "      <td>60437</td>\n",
       "      <td>06/04/2016 10:17</td>\n",
       "    </tr>\n",
       "    <tr>\n",
       "      <th>5</th>\n",
       "      <td>04/04/2016 17:36</td>\n",
       "      <td>650</td>\n",
       "      <td>sedan</td>\n",
       "      <td>1995</td>\n",
       "      <td>manual</td>\n",
       "      <td>102</td>\n",
       "      <td>3er</td>\n",
       "      <td>150000</td>\n",
       "      <td>10</td>\n",
       "      <td>petrol</td>\n",
       "      <td>bmw</td>\n",
       "      <td>yes</td>\n",
       "      <td>04/04/2016 00:00</td>\n",
       "      <td>0</td>\n",
       "      <td>33775</td>\n",
       "      <td>06/04/2016 19:17</td>\n",
       "    </tr>\n",
       "    <tr>\n",
       "      <th>...</th>\n",
       "      <td>...</td>\n",
       "      <td>...</td>\n",
       "      <td>...</td>\n",
       "      <td>...</td>\n",
       "      <td>...</td>\n",
       "      <td>...</td>\n",
       "      <td>...</td>\n",
       "      <td>...</td>\n",
       "      <td>...</td>\n",
       "      <td>...</td>\n",
       "      <td>...</td>\n",
       "      <td>...</td>\n",
       "      <td>...</td>\n",
       "      <td>...</td>\n",
       "      <td>...</td>\n",
       "      <td>...</td>\n",
       "    </tr>\n",
       "    <tr>\n",
       "      <th>354363</th>\n",
       "      <td>27/03/2016 20:36</td>\n",
       "      <td>1150</td>\n",
       "      <td>bus</td>\n",
       "      <td>2000</td>\n",
       "      <td>manual</td>\n",
       "      <td>0</td>\n",
       "      <td>zafira</td>\n",
       "      <td>150000</td>\n",
       "      <td>3</td>\n",
       "      <td>petrol</td>\n",
       "      <td>opel</td>\n",
       "      <td>no</td>\n",
       "      <td>27/03/2016 00:00</td>\n",
       "      <td>0</td>\n",
       "      <td>26624</td>\n",
       "      <td>29/03/2016 10:17</td>\n",
       "    </tr>\n",
       "    <tr>\n",
       "      <th>354365</th>\n",
       "      <td>14/03/2016 17:48</td>\n",
       "      <td>2200</td>\n",
       "      <td>NaN</td>\n",
       "      <td>2005</td>\n",
       "      <td>NaN</td>\n",
       "      <td>0</td>\n",
       "      <td>NaN</td>\n",
       "      <td>20000</td>\n",
       "      <td>1</td>\n",
       "      <td>NaN</td>\n",
       "      <td>sonstige_autos</td>\n",
       "      <td>NaN</td>\n",
       "      <td>14/03/2016 00:00</td>\n",
       "      <td>0</td>\n",
       "      <td>39576</td>\n",
       "      <td>06/04/2016 00:46</td>\n",
       "    </tr>\n",
       "    <tr>\n",
       "      <th>354366</th>\n",
       "      <td>05/03/2016 19:56</td>\n",
       "      <td>1199</td>\n",
       "      <td>convertible</td>\n",
       "      <td>2000</td>\n",
       "      <td>auto</td>\n",
       "      <td>101</td>\n",
       "      <td>fortwo</td>\n",
       "      <td>125000</td>\n",
       "      <td>3</td>\n",
       "      <td>petrol</td>\n",
       "      <td>smart</td>\n",
       "      <td>no</td>\n",
       "      <td>05/03/2016 00:00</td>\n",
       "      <td>0</td>\n",
       "      <td>26135</td>\n",
       "      <td>11/03/2016 18:17</td>\n",
       "    </tr>\n",
       "    <tr>\n",
       "      <th>354367</th>\n",
       "      <td>19/03/2016 18:57</td>\n",
       "      <td>9200</td>\n",
       "      <td>bus</td>\n",
       "      <td>1996</td>\n",
       "      <td>manual</td>\n",
       "      <td>102</td>\n",
       "      <td>transporter</td>\n",
       "      <td>150000</td>\n",
       "      <td>3</td>\n",
       "      <td>gasoline</td>\n",
       "      <td>volkswagen</td>\n",
       "      <td>no</td>\n",
       "      <td>19/03/2016 00:00</td>\n",
       "      <td>0</td>\n",
       "      <td>87439</td>\n",
       "      <td>07/04/2016 07:15</td>\n",
       "    </tr>\n",
       "    <tr>\n",
       "      <th>354368</th>\n",
       "      <td>20/03/2016 19:41</td>\n",
       "      <td>3400</td>\n",
       "      <td>wagon</td>\n",
       "      <td>2002</td>\n",
       "      <td>manual</td>\n",
       "      <td>100</td>\n",
       "      <td>golf</td>\n",
       "      <td>150000</td>\n",
       "      <td>6</td>\n",
       "      <td>gasoline</td>\n",
       "      <td>volkswagen</td>\n",
       "      <td>NaN</td>\n",
       "      <td>20/03/2016 00:00</td>\n",
       "      <td>0</td>\n",
       "      <td>40764</td>\n",
       "      <td>24/03/2016 12:45</td>\n",
       "    </tr>\n",
       "  </tbody>\n",
       "</table>\n",
       "<p>317997 rows × 16 columns</p>\n",
       "</div>"
      ],
      "text/plain": [
       "             DateCrawled  Price  VehicleType  RegistrationYear Gearbox  Power  \\\n",
       "1       24/03/2016 10:58  18300        coupe              2011  manual    190   \n",
       "2       14/03/2016 12:52   9800          suv              2004    auto    163   \n",
       "3       17/03/2016 16:54   1500        small              2001  manual     75   \n",
       "4       31/03/2016 17:25   3600        small              2008  manual     69   \n",
       "5       04/04/2016 17:36    650        sedan              1995  manual    102   \n",
       "...                  ...    ...          ...               ...     ...    ...   \n",
       "354363  27/03/2016 20:36   1150          bus              2000  manual      0   \n",
       "354365  14/03/2016 17:48   2200          NaN              2005     NaN      0   \n",
       "354366  05/03/2016 19:56   1199  convertible              2000    auto    101   \n",
       "354367  19/03/2016 18:57   9200          bus              1996  manual    102   \n",
       "354368  20/03/2016 19:41   3400        wagon              2002  manual    100   \n",
       "\n",
       "              Model  Mileage  RegistrationMonth  FuelType           Brand  \\\n",
       "1               NaN   125000                  5  gasoline            audi   \n",
       "2             grand   125000                  8  gasoline            jeep   \n",
       "3              golf   150000                  6    petrol      volkswagen   \n",
       "4             fabia    90000                  7  gasoline           skoda   \n",
       "5               3er   150000                 10    petrol             bmw   \n",
       "...             ...      ...                ...       ...             ...   \n",
       "354363       zafira   150000                  3    petrol            opel   \n",
       "354365          NaN    20000                  1       NaN  sonstige_autos   \n",
       "354366       fortwo   125000                  3    petrol           smart   \n",
       "354367  transporter   150000                  3  gasoline      volkswagen   \n",
       "354368         golf   150000                  6  gasoline      volkswagen   \n",
       "\n",
       "       NotRepaired       DateCreated  NumberOfPictures  PostalCode  \\\n",
       "1              yes  24/03/2016 00:00                 0       66954   \n",
       "2              NaN  14/03/2016 00:00                 0       90480   \n",
       "3               no  17/03/2016 00:00                 0       91074   \n",
       "4               no  31/03/2016 00:00                 0       60437   \n",
       "5              yes  04/04/2016 00:00                 0       33775   \n",
       "...            ...               ...               ...         ...   \n",
       "354363          no  27/03/2016 00:00                 0       26624   \n",
       "354365         NaN  14/03/2016 00:00                 0       39576   \n",
       "354366          no  05/03/2016 00:00                 0       26135   \n",
       "354367          no  19/03/2016 00:00                 0       87439   \n",
       "354368         NaN  20/03/2016 00:00                 0       40764   \n",
       "\n",
       "                LastSeen  \n",
       "1       07/04/2016 01:46  \n",
       "2       05/04/2016 12:47  \n",
       "3       17/03/2016 17:40  \n",
       "4       06/04/2016 10:17  \n",
       "5       06/04/2016 19:17  \n",
       "...                  ...  \n",
       "354363  29/03/2016 10:17  \n",
       "354365  06/04/2016 00:46  \n",
       "354366  11/03/2016 18:17  \n",
       "354367  07/04/2016 07:15  \n",
       "354368  24/03/2016 12:45  \n",
       "\n",
       "[317997 rows x 16 columns]"
      ]
     },
     "metadata": {},
     "output_type": "display_data"
    }
   ],
   "source": [
    "# Drop unrealistic price values\n",
    "df = df[df['Price'].between(500, 100000)]\n",
    "\n",
    "# Drop high mileage values (adjusted column name)\n",
    "df = df[df['Mileage'] <= 300000]\n",
    "\n",
    "# Tighten registration year range\n",
    "df = df[df['RegistrationYear'].between(1960, 2022)]\n",
    "\n",
    "display(df)"
   ]
  },
  {
   "cell_type": "code",
   "execution_count": 10,
   "id": "65398d33",
   "metadata": {},
   "outputs": [
    {
     "name": "stdout",
     "output_type": "stream",
     "text": [
      "🔍 Checking missing values before filling...\n",
      "\n",
      "DateCrawled              0\n",
      "Price                    0\n",
      "VehicleType          27002\n",
      "RegistrationYear         0\n",
      "Gearbox              13243\n",
      "Power                    0\n",
      "Model                14552\n",
      "Mileage                  0\n",
      "RegistrationMonth        0\n",
      "FuelType             23225\n",
      "Brand                    0\n",
      "NotRepaired          54447\n",
      "DateCreated              0\n",
      "NumberOfPictures         0\n",
      "PostalCode               0\n",
      "LastSeen                 0\n",
      "dtype: int64\n",
      "\n",
      "Total missing values: 132469\n",
      "\n",
      "✅ All missing values filled with 'Unknown'.\n",
      "\n",
      "🔍 Verifying missing values after filling:\n",
      "\n",
      "DateCrawled          0\n",
      "Price                0\n",
      "VehicleType          0\n",
      "RegistrationYear     0\n",
      "Gearbox              0\n",
      "Power                0\n",
      "Model                0\n",
      "Mileage              0\n",
      "RegistrationMonth    0\n",
      "FuelType             0\n",
      "Brand                0\n",
      "NotRepaired          0\n",
      "DateCreated          0\n",
      "NumberOfPictures     0\n",
      "PostalCode           0\n",
      "LastSeen             0\n",
      "dtype: int64\n",
      "\n",
      "Total remaining missing values: 0\n"
     ]
    },
    {
     "data": {
      "text/html": [
       "<div>\n",
       "<style scoped>\n",
       "    .dataframe tbody tr th:only-of-type {\n",
       "        vertical-align: middle;\n",
       "    }\n",
       "\n",
       "    .dataframe tbody tr th {\n",
       "        vertical-align: top;\n",
       "    }\n",
       "\n",
       "    .dataframe thead th {\n",
       "        text-align: right;\n",
       "    }\n",
       "</style>\n",
       "<table border=\"1\" class=\"dataframe\">\n",
       "  <thead>\n",
       "    <tr style=\"text-align: right;\">\n",
       "      <th></th>\n",
       "      <th>DateCrawled</th>\n",
       "      <th>Price</th>\n",
       "      <th>VehicleType</th>\n",
       "      <th>RegistrationYear</th>\n",
       "      <th>Gearbox</th>\n",
       "      <th>Power</th>\n",
       "      <th>Model</th>\n",
       "      <th>Mileage</th>\n",
       "      <th>RegistrationMonth</th>\n",
       "      <th>FuelType</th>\n",
       "      <th>Brand</th>\n",
       "      <th>NotRepaired</th>\n",
       "      <th>DateCreated</th>\n",
       "      <th>NumberOfPictures</th>\n",
       "      <th>PostalCode</th>\n",
       "      <th>LastSeen</th>\n",
       "    </tr>\n",
       "  </thead>\n",
       "  <tbody>\n",
       "    <tr>\n",
       "      <th>314765</th>\n",
       "      <td>09/03/2016 10:37</td>\n",
       "      <td>500</td>\n",
       "      <td>small</td>\n",
       "      <td>1994</td>\n",
       "      <td>manual</td>\n",
       "      <td>45</td>\n",
       "      <td>corsa</td>\n",
       "      <td>150000</td>\n",
       "      <td>2</td>\n",
       "      <td>petrol</td>\n",
       "      <td>opel</td>\n",
       "      <td>no</td>\n",
       "      <td>09/03/2016 00:00</td>\n",
       "      <td>0</td>\n",
       "      <td>67454</td>\n",
       "      <td>10/03/2016 06:16</td>\n",
       "    </tr>\n",
       "    <tr>\n",
       "      <th>258462</th>\n",
       "      <td>04/04/2016 08:49</td>\n",
       "      <td>8700</td>\n",
       "      <td>wagon</td>\n",
       "      <td>2006</td>\n",
       "      <td>auto</td>\n",
       "      <td>140</td>\n",
       "      <td>a4</td>\n",
       "      <td>150000</td>\n",
       "      <td>0</td>\n",
       "      <td>Unknown</td>\n",
       "      <td>audi</td>\n",
       "      <td>yes</td>\n",
       "      <td>04/04/2016 00:00</td>\n",
       "      <td>0</td>\n",
       "      <td>71691</td>\n",
       "      <td>06/04/2016 10:17</td>\n",
       "    </tr>\n",
       "    <tr>\n",
       "      <th>20320</th>\n",
       "      <td>12/03/2016 15:25</td>\n",
       "      <td>4000</td>\n",
       "      <td>coupe</td>\n",
       "      <td>1999</td>\n",
       "      <td>Unknown</td>\n",
       "      <td>0</td>\n",
       "      <td>3er</td>\n",
       "      <td>150000</td>\n",
       "      <td>0</td>\n",
       "      <td>petrol</td>\n",
       "      <td>bmw</td>\n",
       "      <td>Unknown</td>\n",
       "      <td>12/03/2016 00:00</td>\n",
       "      <td>0</td>\n",
       "      <td>55469</td>\n",
       "      <td>14/03/2016 22:45</td>\n",
       "    </tr>\n",
       "    <tr>\n",
       "      <th>123527</th>\n",
       "      <td>20/03/2016 12:38</td>\n",
       "      <td>1300</td>\n",
       "      <td>wagon</td>\n",
       "      <td>2002</td>\n",
       "      <td>manual</td>\n",
       "      <td>107</td>\n",
       "      <td>laguna</td>\n",
       "      <td>150000</td>\n",
       "      <td>2</td>\n",
       "      <td>petrol</td>\n",
       "      <td>renault</td>\n",
       "      <td>no</td>\n",
       "      <td>20/03/2016 00:00</td>\n",
       "      <td>0</td>\n",
       "      <td>8058</td>\n",
       "      <td>22/03/2016 19:17</td>\n",
       "    </tr>\n",
       "    <tr>\n",
       "      <th>52413</th>\n",
       "      <td>27/03/2016 19:51</td>\n",
       "      <td>3190</td>\n",
       "      <td>small</td>\n",
       "      <td>2006</td>\n",
       "      <td>manual</td>\n",
       "      <td>94</td>\n",
       "      <td>other</td>\n",
       "      <td>150000</td>\n",
       "      <td>8</td>\n",
       "      <td>petrol</td>\n",
       "      <td>chevrolet</td>\n",
       "      <td>no</td>\n",
       "      <td>27/03/2016 00:00</td>\n",
       "      <td>0</td>\n",
       "      <td>90480</td>\n",
       "      <td>05/04/2016 18:16</td>\n",
       "    </tr>\n",
       "  </tbody>\n",
       "</table>\n",
       "</div>"
      ],
      "text/plain": [
       "             DateCrawled  Price VehicleType  RegistrationYear  Gearbox  Power  \\\n",
       "314765  09/03/2016 10:37    500       small              1994   manual     45   \n",
       "258462  04/04/2016 08:49   8700       wagon              2006     auto    140   \n",
       "20320   12/03/2016 15:25   4000       coupe              1999  Unknown      0   \n",
       "123527  20/03/2016 12:38   1300       wagon              2002   manual    107   \n",
       "52413   27/03/2016 19:51   3190       small              2006   manual     94   \n",
       "\n",
       "         Model  Mileage  RegistrationMonth FuelType      Brand NotRepaired  \\\n",
       "314765   corsa   150000                  2   petrol       opel          no   \n",
       "258462      a4   150000                  0  Unknown       audi         yes   \n",
       "20320      3er   150000                  0   petrol        bmw     Unknown   \n",
       "123527  laguna   150000                  2   petrol    renault          no   \n",
       "52413    other   150000                  8   petrol  chevrolet          no   \n",
       "\n",
       "             DateCreated  NumberOfPictures  PostalCode          LastSeen  \n",
       "314765  09/03/2016 00:00                 0       67454  10/03/2016 06:16  \n",
       "258462  04/04/2016 00:00                 0       71691  06/04/2016 10:17  \n",
       "20320   12/03/2016 00:00                 0       55469  14/03/2016 22:45  \n",
       "123527  20/03/2016 00:00                 0        8058  22/03/2016 19:17  \n",
       "52413   27/03/2016 00:00                 0       90480  05/04/2016 18:16  "
      ]
     },
     "metadata": {},
     "output_type": "display_data"
    }
   ],
   "source": [
    "# ✅ Filling all missing values with 'Unknown'\n",
    "print(\"🔍 Checking missing values before filling...\\n\")\n",
    "print(df.isnull().sum())\n",
    "print(f\"\\nTotal missing values: {df.isnull().sum().sum()}\")\n",
    "\n",
    "# Fill ALL missing values with 'Unknown'\n",
    "df.fillna('Unknown', inplace=True)\n",
    "\n",
    "print(\"\\n✅ All missing values filled with 'Unknown'.\")\n",
    "\n",
    "# Double-check there are no missing values left\n",
    "print(\"\\n🔍 Verifying missing values after filling:\\n\")\n",
    "print(df.isnull().sum())\n",
    "print(f\"\\nTotal remaining missing values: {df.isnull().sum().sum()}\")\n",
    "\n",
    "# Optional: Preview updated DataFrame\n",
    "display(df.sample(5))\n"
   ]
  },
  {
   "cell_type": "code",
   "execution_count": 11,
   "id": "22f9eb73",
   "metadata": {},
   "outputs": [
    {
     "name": "stdout",
     "output_type": "stream",
     "text": [
      "Checking if missing values remain...\n"
     ]
    },
    {
     "data": {
      "text/plain": [
       "DateCrawled          0\n",
       "Price                0\n",
       "VehicleType          0\n",
       "RegistrationYear     0\n",
       "Gearbox              0\n",
       "Power                0\n",
       "Model                0\n",
       "Mileage              0\n",
       "RegistrationMonth    0\n",
       "FuelType             0\n",
       "Brand                0\n",
       "NotRepaired          0\n",
       "DateCreated          0\n",
       "NumberOfPictures     0\n",
       "PostalCode           0\n",
       "LastSeen             0\n",
       "dtype: int64"
      ]
     },
     "metadata": {},
     "output_type": "display_data"
    }
   ],
   "source": [
    "# Confirm missing values are handled\n",
    "print(\"Checking if missing values remain...\")\n",
    "display(df.isnull().sum())  # Display remaining missing values per column\n"
   ]
  },
  {
   "cell_type": "code",
   "execution_count": 12,
   "id": "80085534",
   "metadata": {},
   "outputs": [
    {
     "name": "stdout",
     "output_type": "stream",
     "text": [
      "Removing unrealistic values...\n",
      "Outliers removed.\n"
     ]
    }
   ],
   "source": [
    "# Remove unrealistic registration years and power values\n",
    "print(\"Removing unrealistic values...\")\n",
    "\n",
    "# Remove cars with registration year outside of valid range\n",
    "max_year = pd.to_datetime(df[\"DateCrawled\"]).dt.year.max()\n",
    "df = df[(df[\"RegistrationYear\"] >= 1950) & (df[\"RegistrationYear\"] <= max_year)]\n",
    "\n",
    "# Remove cars with extreme power values\n",
    "df = df[(df[\"Power\"] > 10) & (df[\"Power\"] < 500)]\n",
    "\n",
    "print(\"Outliers removed.\")\n"
   ]
  },
  {
   "cell_type": "code",
   "execution_count": 8,
   "id": "f52dadd7",
   "metadata": {},
   "outputs": [],
   "source": [
    "# Remove rows where RegistrationYear is greater than DateCrawled\n",
    "df['DateCrawled'] = pd.to_datetime(df['DateCrawled'], errors='coerce')\n",
    "df = df[df['RegistrationYear'] <= df['DateCrawled'].dt.year]\n"
   ]
  },
  {
   "cell_type": "code",
   "execution_count": 9,
   "id": "481666a9",
   "metadata": {},
   "outputs": [
    {
     "name": "stdout",
     "output_type": "stream",
     "text": [
      "Duplicates before: 1130\n",
      "Duplicates after: 0\n",
      "Sampled data shape: (27792, 12)\n"
     ]
    }
   ],
   "source": [
    "# Drop unnecessary columns\n",
    "df.drop(['DateCrawled', 'RegistrationMonth', 'PostalCode', 'NumberOfPictures'], axis=1, inplace=True, errors='ignore')\n",
    "\n",
    "# Drop duplicates\n",
    "print(\"Duplicates before:\", df.duplicated().sum())\n",
    "df.drop_duplicates(inplace=True)\n",
    "print(\"Duplicates after:\", df.duplicated().sum())\n",
    "\n",
    "# Sample AFTER cleaning, before modeling\n",
    "df = df.sample(frac=0.1, random_state=42)\n",
    "print(f\"Sampled data shape: {df.shape}\")\n"
   ]
  },
  {
   "cell_type": "code",
   "execution_count": 10,
   "id": "0bc44466",
   "metadata": {},
   "outputs": [
    {
     "data": {
      "text/html": [
       "<div>\n",
       "<style scoped>\n",
       "    .dataframe tbody tr th:only-of-type {\n",
       "        vertical-align: middle;\n",
       "    }\n",
       "\n",
       "    .dataframe tbody tr th {\n",
       "        vertical-align: top;\n",
       "    }\n",
       "\n",
       "    .dataframe thead th {\n",
       "        text-align: right;\n",
       "    }\n",
       "</style>\n",
       "<table border=\"1\" class=\"dataframe\">\n",
       "  <thead>\n",
       "    <tr style=\"text-align: right;\">\n",
       "      <th></th>\n",
       "      <th>Price</th>\n",
       "      <th>RegistrationYear</th>\n",
       "      <th>Power</th>\n",
       "      <th>Mileage</th>\n",
       "    </tr>\n",
       "  </thead>\n",
       "  <tbody>\n",
       "    <tr>\n",
       "      <th>count</th>\n",
       "      <td>27792.000000</td>\n",
       "      <td>27792.000000</td>\n",
       "      <td>27792.000000</td>\n",
       "      <td>27792.000000</td>\n",
       "    </tr>\n",
       "    <tr>\n",
       "      <th>mean</th>\n",
       "      <td>5168.746258</td>\n",
       "      <td>2003.135471</td>\n",
       "      <td>123.063184</td>\n",
       "      <td>127957.145941</td>\n",
       "    </tr>\n",
       "    <tr>\n",
       "      <th>std</th>\n",
       "      <td>4622.202367</td>\n",
       "      <td>6.357567</td>\n",
       "      <td>52.677475</td>\n",
       "      <td>36740.554885</td>\n",
       "    </tr>\n",
       "    <tr>\n",
       "      <th>min</th>\n",
       "      <td>500.000000</td>\n",
       "      <td>1960.000000</td>\n",
       "      <td>11.000000</td>\n",
       "      <td>5000.000000</td>\n",
       "    </tr>\n",
       "    <tr>\n",
       "      <th>25%</th>\n",
       "      <td>1550.000000</td>\n",
       "      <td>1999.000000</td>\n",
       "      <td>82.000000</td>\n",
       "      <td>125000.000000</td>\n",
       "    </tr>\n",
       "    <tr>\n",
       "      <th>50%</th>\n",
       "      <td>3500.000000</td>\n",
       "      <td>2004.000000</td>\n",
       "      <td>116.000000</td>\n",
       "      <td>150000.000000</td>\n",
       "    </tr>\n",
       "    <tr>\n",
       "      <th>75%</th>\n",
       "      <td>7500.000000</td>\n",
       "      <td>2007.000000</td>\n",
       "      <td>150.000000</td>\n",
       "      <td>150000.000000</td>\n",
       "    </tr>\n",
       "    <tr>\n",
       "      <th>max</th>\n",
       "      <td>20000.000000</td>\n",
       "      <td>2016.000000</td>\n",
       "      <td>490.000000</td>\n",
       "      <td>150000.000000</td>\n",
       "    </tr>\n",
       "  </tbody>\n",
       "</table>\n",
       "</div>"
      ],
      "text/plain": [
       "              Price  RegistrationYear         Power        Mileage\n",
       "count  27792.000000      27792.000000  27792.000000   27792.000000\n",
       "mean    5168.746258       2003.135471    123.063184  127957.145941\n",
       "std     4622.202367          6.357567     52.677475   36740.554885\n",
       "min      500.000000       1960.000000     11.000000    5000.000000\n",
       "25%     1550.000000       1999.000000     82.000000  125000.000000\n",
       "50%     3500.000000       2004.000000    116.000000  150000.000000\n",
       "75%     7500.000000       2007.000000    150.000000  150000.000000\n",
       "max    20000.000000       2016.000000    490.000000  150000.000000"
      ]
     },
     "metadata": {},
     "output_type": "display_data"
    },
    {
     "data": {
      "image/png": "[encoded data removed]",
      "text/plain": [
       "<Figure size 2000x1000 with 4 Axes>"
      ]
     },
     "metadata": {},
     "output_type": "display_data"
    }
   ],
   "source": [
    "# Basic exploration\n",
    "display(df.describe())\n",
    "df.hist(bins=30, figsize=(20, 10))\n",
    "plt.tight_layout()\n",
    "plt.show()\n"
   ]
  },
  {
   "cell_type": "markdown",
   "id": "3af792a9",
   "metadata": {},
   "source": [
    "### Data Exploration Summary\n",
    "\n",
    "We used `describe()` and visualized numerical columns such as `Price`, `Power`, `Mileage`, and `RegistrationYear` to identify outliers and understand the spread of values.\n",
    "\n",
    "#### Key Findings:\n",
    "- **Price**: Most vehicles are priced between €500 and €100,000. Listings below €500 or above €100,000 were treated as outliers and removed.\n",
    "- **Power**: Reasonable values fall between 10 and 500 horsepower. Values outside this range were dropped.\n",
    "- **Mileage**: Vehicles with over 300,000 km were considered excessive and filtered out.\n",
    "- **RegistrationYear**: We limited this to realistic values between 1960 and 2022.\n",
    "\n",
    "Visualizations confirmed the presence of outliers, which were subsequently removed to improve model training and evaluation.\n",
    "\n",
    "Then checked for **missing values**, which were handled using the **median for numeric columns** and `\"Unknown\"` for **categorical columns** to avoid introducing bias.\n",
    "\n",
    "Next, verified that no vehicle has a `RegistrationYear` later than the year it was crawled (`DateCrawled`) and proceed with preparing our data for modeling.\n"
   ]
  },
  {
   "cell_type": "code",
   "execution_count": 11,
   "id": "77632ee1",
   "metadata": {},
   "outputs": [],
   "source": [
    "from sklearn.linear_model import LinearRegression\n",
    "from sklearn.tree import DecisionTreeRegressor\n",
    "from sklearn.ensemble import RandomForestRegressor\n",
    "from catboost import CatBoostRegressor\n",
    "\n",
    "# Define models (excluding LightGBM for now)\n",
    "models = {\n",
    "    \"Linear Regression\": LinearRegression(),\n",
    "    \"Decision Tree\": DecisionTreeRegressor(random_state=42),\n",
    "    \"Random Forest\": RandomForestRegressor(random_state=42),\n",
    "    \"CatBoost\": CatBoostRegressor(verbose=0, random_state=42)\n",
    "}\n"
   ]
  },
  {
   "cell_type": "code",
   "execution_count": 12,
   "id": "71801861",
   "metadata": {},
   "outputs": [
    {
     "name": "stdout",
     "output_type": "stream",
     "text": [
      "⚠️ Verifying DataFrame BEFORE split:\n",
      "df shape: (27792, 12)\n",
      "df columns: ['Price', 'VehicleType', 'RegistrationYear', 'Gearbox', 'Power', 'Model', 'Mileage', 'FuelType', 'Brand', 'NotRepaired', 'DateCreated', 'LastSeen']\n",
      "df dtypes:\n",
      " Price                int64\n",
      "VehicleType         object\n",
      "RegistrationYear     int64\n",
      "Gearbox             object\n",
      "Power                int64\n",
      "Model               object\n",
      "Mileage              int64\n",
      "FuelType            object\n",
      "Brand               object\n",
      "NotRepaired         object\n",
      "DateCreated         object\n",
      "LastSeen            object\n",
      "dtype: object\n",
      "\n",
      "⚠️ DataFrame memory usage: 14.84 MB\n",
      "Nulls per column:\n",
      " Price               0\n",
      "VehicleType         0\n",
      "RegistrationYear    0\n",
      "Gearbox             0\n",
      "Power               0\n",
      "Model               0\n",
      "Mileage             0\n",
      "FuelType            0\n",
      "Brand               0\n",
      "NotRepaired         0\n",
      "DateCreated         0\n",
      "LastSeen            0\n",
      "dtype: int64\n"
     ]
    }
   ],
   "source": [
    "import sys\n",
    "\n",
    "print(\"⚠️ Verifying DataFrame BEFORE split:\")\n",
    "print(\"df shape:\", df.shape)\n",
    "print(\"df columns:\", df.columns.tolist())\n",
    "print(\"df dtypes:\\n\", df.dtypes)\n",
    "\n",
    "# Estimate memory usage\n",
    "mem_usage = df.memory_usage(deep=True).sum() / 1024**2\n",
    "print(f\"\\n⚠️ DataFrame memory usage: {mem_usage:.2f} MB\")\n",
    "\n",
    "# Check nulls\n",
    "print(\"Nulls per column:\\n\", df.isnull().sum())\n"
   ]
  },
  {
   "cell_type": "code",
   "execution_count": 13,
   "id": "c93a595b",
   "metadata": {},
   "outputs": [
    {
     "name": "stdout",
     "output_type": "stream",
     "text": [
      "✅ df ready for split. Shape: (27792, 12)\n"
     ]
    }
   ],
   "source": [
    "# Safety check before splitting\n",
    "df = df.dropna(subset=['Price']).reset_index(drop=True)\n",
    "\n",
    "# Optional: reduce to small test sample if crashing\n",
    "# df = df.sample(frac=0.1, random_state=42)\n",
    "print(\"✅ df ready for split. Shape:\", df.shape)\n"
   ]
  },
  {
   "cell_type": "code",
   "execution_count": 14,
   "id": "1793a4fb",
   "metadata": {},
   "outputs": [
    {
     "name": "stdout",
     "output_type": "stream",
     "text": [
      "✅ Data split:\n",
      "Train: (16674, 11)\n",
      "Valid: (5559, 11)\n",
      "Test: (5559, 11)\n"
     ]
    }
   ],
   "source": [
    "# Define features and target (after fixing df)\n",
    "X = df.drop('Price', axis=1)\n",
    "y = df['Price']\n",
    "\n",
    "# Split\n",
    "X_temp, X_test, y_temp, y_test = train_test_split(X, y, test_size=0.2, random_state=42)\n",
    "X_train, X_valid, y_train, y_valid = train_test_split(X_temp, y_temp, test_size=0.25, random_state=42)\n",
    "\n",
    "print(\"✅ Data split:\")\n",
    "print(\"Train:\", X_train.shape)\n",
    "print(\"Valid:\", X_valid.shape)\n",
    "print(\"Test:\", X_test.shape)\n"
   ]
  },
  {
   "cell_type": "code",
   "execution_count": 15,
   "id": "3f28dd9c",
   "metadata": {},
   "outputs": [],
   "source": [
    "# Reduce rare categories to prevent OneHot explosion\n",
    "top_n = 10\n",
    "\n",
    "for col in X_train.select_dtypes(include='object').columns:\n",
    "    top_categories = X_train[col].value_counts().nlargest(top_n).index\n",
    "    X_train[col] = X_train[col].where(X_train[col].isin(top_categories), other='Other')\n",
    "    X_valid[col] = X_valid[col].where(X_valid[col].isin(top_categories), other='Other')\n",
    "    X_test[col] = X_test[col].where(X_test[col].isin(top_categories), other='Other')\n"
   ]
  },
  {
   "cell_type": "code",
   "execution_count": 16,
   "id": "ae8b80fe",
   "metadata": {},
   "outputs": [
    {
     "name": "stdout",
     "output_type": "stream",
     "text": [
      "✅ Encoding complete.\n"
     ]
    }
   ],
   "source": [
    "from sklearn.preprocessing import OneHotEncoder\n",
    "\n",
    "# Identify categorical columns\n",
    "categorical_cols = X_train.select_dtypes(include='object').columns\n",
    "\n",
    "# Create and fit encoder\n",
    "encoder = OneHotEncoder(handle_unknown='ignore', sparse=False)\n",
    "encoder.fit(X_train[categorical_cols])\n",
    "\n",
    "# Function to transform data\n",
    "def encode_data(X):\n",
    "    encoded = pd.DataFrame(\n",
    "        encoder.transform(X[categorical_cols]),\n",
    "        index=X.index\n",
    "    )\n",
    "    return pd.concat([X.drop(columns=categorical_cols), encoded], axis=1)\n",
    "\n",
    "# Apply encoding\n",
    "X_train_encoded = encode_data(X_train)\n",
    "X_valid_encoded = encode_data(X_valid)\n",
    "X_test_encoded = encode_data(X_test)\n",
    "\n",
    "print(\"✅ Encoding complete.\")\n"
   ]
  },
  {
   "cell_type": "code",
   "execution_count": 17,
   "id": "79313d60",
   "metadata": {},
   "outputs": [
    {
     "data": {
      "text/html": [
       "<div>\n",
       "<style scoped>\n",
       "    .dataframe tbody tr th:only-of-type {\n",
       "        vertical-align: middle;\n",
       "    }\n",
       "\n",
       "    .dataframe tbody tr th {\n",
       "        vertical-align: top;\n",
       "    }\n",
       "\n",
       "    .dataframe thead th {\n",
       "        text-align: right;\n",
       "    }\n",
       "</style>\n",
       "<table border=\"1\" class=\"dataframe\">\n",
       "  <thead>\n",
       "    <tr style=\"text-align: right;\">\n",
       "      <th></th>\n",
       "      <th>Model</th>\n",
       "      <th>RMSE</th>\n",
       "      <th>Training Time</th>\n",
       "      <th>Prediction Time</th>\n",
       "    </tr>\n",
       "  </thead>\n",
       "  <tbody>\n",
       "    <tr>\n",
       "      <th>0</th>\n",
       "      <td>Linear Regression</td>\n",
       "      <td>2722.444248</td>\n",
       "      <td>0.106458</td>\n",
       "      <td>0.091876</td>\n",
       "    </tr>\n",
       "    <tr>\n",
       "      <th>1</th>\n",
       "      <td>Decision Tree</td>\n",
       "      <td>2375.053450</td>\n",
       "      <td>0.143565</td>\n",
       "      <td>0.003276</td>\n",
       "    </tr>\n",
       "    <tr>\n",
       "      <th>2</th>\n",
       "      <td>Random Forest</td>\n",
       "      <td>1812.082768</td>\n",
       "      <td>6.101705</td>\n",
       "      <td>0.119631</td>\n",
       "    </tr>\n",
       "    <tr>\n",
       "      <th>3</th>\n",
       "      <td>CatBoost</td>\n",
       "      <td>1695.457171</td>\n",
       "      <td>21.104719</td>\n",
       "      <td>0.025191</td>\n",
       "    </tr>\n",
       "  </tbody>\n",
       "</table>\n",
       "</div>"
      ],
      "text/plain": [
       "               Model         RMSE  Training Time  Prediction Time\n",
       "0  Linear Regression  2722.444248       0.106458         0.091876\n",
       "1      Decision Tree  2375.053450       0.143565         0.003276\n",
       "2      Random Forest  1812.082768       6.101705         0.119631\n",
       "3           CatBoost  1695.457171      21.104719         0.025191"
      ]
     },
     "metadata": {},
     "output_type": "display_data"
    }
   ],
   "source": [
    "# Identify categorical columns and get their indices (for CatBoost)\n",
    "categorical_cols = X_train.select_dtypes(include='object').columns.tolist()\n",
    "cat_features_indices = [X_train.columns.get_loc(col) for col in categorical_cols]\n",
    "\n",
    "\n",
    "# Evaluation function\n",
    "def evaluate_model(model, X_train, X_valid, y_train, y_valid, cat_features=None):\n",
    "    start = time.time()\n",
    "\n",
    "    if cat_features is not None:\n",
    "        model.fit(X_train, y_train, cat_features=cat_features)\n",
    "    else:\n",
    "        model.fit(X_train, y_train)\n",
    "\n",
    "    train_time = time.time() - start\n",
    "\n",
    "    start = time.time()\n",
    "    y_pred = model.predict(X_valid)\n",
    "    pred_time = time.time() - start\n",
    "\n",
    "    rmse = mean_squared_error(y_valid, y_pred, squared=False)\n",
    "    return rmse, train_time, pred_time\n",
    "\n",
    "\n",
    "# Train and evaluate models on validation set\n",
    "results = []\n",
    "\n",
    "for name, model in models.items():\n",
    "    if name == \"CatBoost\":\n",
    "        rmse, training_time, prediction_time = evaluate_model(\n",
    "            model, X_train, X_valid, y_train, y_valid, cat_features=cat_features_indices\n",
    "        )\n",
    "    else:\n",
    "        rmse, training_time, prediction_time = evaluate_model(\n",
    "            model, X_train_encoded, X_valid_encoded, y_train, y_valid\n",
    "        )\n",
    "\n",
    "    results.append({\n",
    "        'Model': name,\n",
    "        'RMSE': rmse,\n",
    "        'Training Time': training_time,\n",
    "        'Prediction Time': prediction_time\n",
    "    })\n",
    "\n",
    "results_df = pd.DataFrame(results)\n",
    "display(results_df)\n"
   ]
  },
  {
   "cell_type": "code",
   "execution_count": 18,
   "id": "f62bc559",
   "metadata": {},
   "outputs": [
    {
     "name": "stdout",
     "output_type": "stream",
     "text": [
      "Best CatBoost Parameters: {'depth': 6, 'iterations': 200, 'learning_rate': 0.1}\n",
      "Best RMSE: 1836.4603537147111\n"
     ]
    }
   ],
   "source": [
    "from sklearn.model_selection import GridSearchCV\n",
    "\n",
    "cat_model = CatBoostRegressor(verbose=0, random_state=42)\n",
    "\n",
    "param_grid = {\n",
    "    'depth': [4, 6],\n",
    "    'learning_rate': [0.03, 0.1],\n",
    "    'iterations': [100, 200]\n",
    "}\n",
    "\n",
    "grid_search = GridSearchCV(cat_model, param_grid, scoring='neg_root_mean_squared_error', cv=3)\n",
    "cat_features = categorical_cols\n",
    "grid_search.fit(X_train, y_train, cat_features=cat_features)\n",
    "\n",
    "print(\"Best CatBoost Parameters:\", grid_search.best_params_)\n",
    "print(\"Best RMSE:\", -grid_search.best_score_)\n"
   ]
  },
  {
   "cell_type": "code",
   "execution_count": 19,
   "id": "b469f9c2",
   "metadata": {
    "scrolled": true
   },
   "outputs": [
    {
     "name": "stdout",
     "output_type": "stream",
     "text": [
      "✅ Final RMSE on test set: 1812.1329593893663\n"
     ]
    }
   ],
   "source": [
    "# Final evaluation on test set using best CatBoost model\n",
    "final_model = CatBoostRegressor(\n",
    "    depth=grid_search.best_params_['depth'],\n",
    "    learning_rate=grid_search.best_params_['learning_rate'],\n",
    "    iterations=grid_search.best_params_['iterations'],\n",
    "    verbose=0,\n",
    "    random_state=42\n",
    ")\n",
    "\n",
    "final_model.fit(X_train, y_train, cat_features=cat_features)\n",
    "y_pred_test = final_model.predict(X_test)\n",
    "rmse_test = mean_squared_error(y_test, y_pred_test, squared=False)\n",
    "\n",
    "print(\"✅ Final RMSE on test set:\", rmse_test)\n"
   ]
  },
  {
   "cell_type": "markdown",
   "id": "8113268d",
   "metadata": {},
   "source": [
    "## ** Model Analysis**/ ** Model Evaluation**"
   ]
  },
  {
   "cell_type": "markdown",
   "id": "25c791a1",
   "metadata": {},
   "source": [
    "\n",
    "### **Objective**\n",
    "- Compare models based on **Root Mean Squared Error (RMSE)**.\n",
    "- Assess **training time** and **prediction speed**.\n",
    "\n",
    "### **Performance Metrics**\n",
    "1️⃣ **RMSE** - Measures prediction accuracy (**lower is better**).  \n",
    "2️⃣ **Training Time** - Time taken to train the model.  \n",
    "3️⃣ **Prediction Time** - Time taken to make predictions.\n",
    "\n",
    "---\n"
   ]
  },
  {
   "cell_type": "code",
   "execution_count": 20,
   "id": "5c0493f0",
   "metadata": {},
   "outputs": [
    {
     "name": "stdout",
     "output_type": "stream",
     "text": [
      "✅Generating visualizations...\n"
     ]
    },
    {
     "data": {
      "image/png": "[encoded data removed]",
      "text/plain": [
       "<Figure size 1000x500 with 1 Axes>"
      ]
     },
     "metadata": {},
     "output_type": "display_data"
    },
    {
     "data": {
      "image/png": "[encoded data removed]",
      "text/plain": [
       "<Figure size 1000x500 with 1 Axes>"
      ]
     },
     "metadata": {},
     "output_type": "display_data"
    },
    {
     "data": {
      "image/png": "[encoded data removed]",
      "text/plain": [
       "<Figure size 1000x500 with 1 Axes>"
      ]
     },
     "metadata": {},
     "output_type": "display_data"
    }
   ],
   "source": [
    "# Debugging: Ensure results_df exists before plotting\n",
    "if \"results_df\" not in globals():\n",
    "    print(\"⚠️ Error: `results_df` is not defined. Run the Model Training cell first.\")\n",
    "elif results_df.empty:\n",
    "    print(\"⚠️ Error: `results_df` is empty. Check Model Training for issues.\")\n",
    "else:\n",
    "    print(\"✅Generating visualizations...\")\n",
    "\n",
    "    #RMSE Comparison\n",
    "    plt.figure(figsize=(10, 5))\n",
    "    sns.barplot(x=\"RMSE\", y=\"Model\", data=results_df.sort_values(\"RMSE\"))\n",
    "    plt.title(\"Model RMSE Comparison\")\n",
    "    plt.xlabel(\"Root Mean Squared Error (Lower is better)\")\n",
    "    plt.ylabel(\"Model\")\n",
    "    plt.show()\n",
    "\n",
    "    #Training Time Comparison\n",
    "    plt.figure(figsize=(10, 5))\n",
    "    sns.barplot(x=\"Training Time\", y=\"Model\", data=results_df.sort_values(\"Training Time\"))\n",
    "    plt.title(\"Model Training Time Comparison\")\n",
    "    plt.xlabel(\"Time (Seconds, Lower is better)\")\n",
    "    plt.ylabel(\"Model\")\n",
    "    plt.show()\n",
    "\n",
    "    #Prediction Time Comparison\n",
    "    plt.figure(figsize=(10, 5))\n",
    "    sns.barplot(x=\"Prediction Time\", y=\"Model\", data=results_df.sort_values(\"Prediction Time\"))\n",
    "    plt.title(\"Model Prediction Time Comparison\")\n",
    "    plt.xlabel(\"Time (Seconds, Lower is better)\")\n",
    "    plt.ylabel(\"Model\")\n",
    "    plt.show()\n"
   ]
  },
  {
   "cell_type": "markdown",
   "id": "06ab88d6",
   "metadata": {},
   "source": [
    "## **Model Performance Analysis**\n",
    "### **Objective**\n",
    "- Compare models **visually** for better understanding.\n",
    "- Identify the **best trade-off** between accuracy and speed.\n",
    "\n",
    "### **Graphs**\n",
    "1️⃣ **RMSE Comparison** - Lower RMSE indicates better model accuracy.  \n",
    "2️⃣ **Training Time Comparison** - Shorter training time is preferable.  \n",
    "3️⃣ **Prediction Time Comparison** - Faster predictions improve app usability.\n",
    "\n",
    "---\n"
   ]
  },
  {
   "cell_type": "markdown",
   "id": "e0d4b55c",
   "metadata": {},
   "source": [
    "## Conclusion & Recommendations\n",
    "\n",
    "### Project Recap\n",
    "In this project, we developed and evaluated multiple machine learning models to predict used car prices using historical vehicle listing data. The main goals were to optimize model accuracy, minimize training and prediction time, and determine the best-performing algorithm for deployment in Rusty Bargain's customer-facing app.\n",
    "\n",
    "### Model Comparison Summary\n",
    "\n",
    "| Model             | RMSE (Validation) | Training Time | Prediction Time | Notes                           |\n",
    "|------------------|-------------------|----------------|------------------|----------------------------------|\n",
    "| Linear Regression | High              | Fast           | Fast             | Good baseline, low accuracy      |\n",
    "| Decision Tree     | Moderate          | Fast           | Fast             | Interpretable, but lower accuracy |\n",
    "| Random Forest     | Good              | Slower         | Fast             | Balanced accuracy and speed      |\n",
    "| CatBoost          | Best              | Moderate       | Moderate         | Best overall performance         |\n",
    "\n",
    "*Note: LightGBM and XGBoost were considered but not included in the final version due to environment limitations.*\n",
    "\n",
    "### Key Insights\n",
    "\n",
    "- CatBoost produced the best RMSE score with reasonable training and prediction times. It effectively handles categorical variables and provided the most accurate results.\n",
    "- Linear Regression was the fastest but least accurate model, making it a good baseline for comparison.\n",
    "- Random Forest provided a balanced approach with decent accuracy and acceptable training time.\n",
    "\n",
    "### Business Value\n",
    "\n",
    "By integrating the selected CatBoost model into the Rusty Bargain app, users can receive accurate car price estimates quickly and reliably. This will help improve customer trust, streamline the car-selling process, and support smarter business decisions based on market data.\n",
    "\n",
    "### Future Considerations\n",
    "\n",
    "- Tune additional hyperparameters for CatBoost or compare with other gradient boosting libraries (LightGBM, XGBoost) once system resources allow.\n",
    "- Incorporate additional features such as vehicle age or previous ownership status to improve accuracy.\n",
    "- Monitor model performance on real-time data post-deployment to ensure stability over time.\n",
    "\n",
    "### Final Recommendation\n",
    "\n",
    "Deploy the CatBoost model as the pricing engine for the application due to its strong predictive performance. Consider using Random Forest in resource-constrained environments where training time must be minimized.\n"
   ]
  }
 ],
 "metadata": {
  "ExecuteTimeLog": [
   {
    "duration": 2555,
    "start_time": "2025-03-16T00:30:53.063Z"
   },
   {
    "duration": 1703,
    "start_time": "2025-03-16T00:32:16.979Z"
   },
   {
    "duration": 2889,
    "start_time": "2025-03-16T00:36:25.250Z"
   },
   {
    "duration": 370,
    "start_time": "2025-03-16T00:39:32.212Z"
   },
   {
    "duration": 402,
    "start_time": "2025-03-16T00:42:36.276Z"
   },
   {
    "duration": 1110,
    "start_time": "2025-03-16T00:45:27.355Z"
   },
   {
    "duration": 2028,
    "start_time": "2025-03-16T00:45:28.467Z"
   },
   {
    "duration": 264,
    "start_time": "2025-03-16T00:45:30.497Z"
   },
   {
    "duration": 0,
    "start_time": "2025-03-16T00:45:30.771Z"
   },
   {
    "duration": 22,
    "start_time": "2025-03-16T00:46:03.426Z"
   },
   {
    "duration": 18,
    "start_time": "2025-03-16T00:48:04.312Z"
   },
   {
    "duration": 4,
    "start_time": "2025-03-16T00:49:16.367Z"
   },
   {
    "duration": 1082,
    "start_time": "2025-03-16T00:49:24.202Z"
   },
   {
    "duration": 1819,
    "start_time": "2025-03-16T00:49:25.286Z"
   },
   {
    "duration": 5,
    "start_time": "2025-03-16T00:49:27.107Z"
   },
   {
    "duration": 1082,
    "start_time": "2025-03-16T00:49:56.599Z"
   },
   {
    "duration": 1812,
    "start_time": "2025-03-16T00:49:57.683Z"
   },
   {
    "duration": 4,
    "start_time": "2025-03-16T00:49:59.497Z"
   },
   {
    "duration": 1091,
    "start_time": "2025-03-16T00:52:03.410Z"
   },
   {
    "duration": 1855,
    "start_time": "2025-03-16T00:52:04.503Z"
   },
   {
    "duration": 4,
    "start_time": "2025-03-16T00:52:06.369Z"
   },
   {
    "duration": 1057,
    "start_time": "2025-03-16T00:52:36.057Z"
   },
   {
    "duration": 1825,
    "start_time": "2025-03-16T00:52:37.117Z"
   },
   {
    "duration": 5,
    "start_time": "2025-03-16T00:52:38.944Z"
   },
   {
    "duration": 442,
    "start_time": "2025-03-16T00:55:45.329Z"
   },
   {
    "duration": 1086,
    "start_time": "2025-03-16T00:56:53.268Z"
   },
   {
    "duration": 1814,
    "start_time": "2025-03-16T00:56:54.357Z"
   },
   {
    "duration": 4,
    "start_time": "2025-03-16T00:56:56.173Z"
   },
   {
    "duration": 1056,
    "start_time": "2025-03-16T00:58:04.140Z"
   },
   {
    "duration": 1839,
    "start_time": "2025-03-16T00:58:05.198Z"
   },
   {
    "duration": 4,
    "start_time": "2025-03-16T00:58:07.039Z"
   },
   {
    "duration": 428,
    "start_time": "2025-03-16T01:02:02.623Z"
   },
   {
    "duration": 350,
    "start_time": "2025-03-16T01:02:30.087Z"
   },
   {
    "duration": 188368,
    "start_time": "2025-03-16T01:02:45.602Z"
   },
   {
    "duration": 4,
    "start_time": "2025-03-16T01:12:43.939Z"
   },
   {
    "duration": 1209,
    "start_time": "2025-03-16T05:42:54.734Z"
   },
   {
    "duration": 246,
    "start_time": "2025-03-16T05:42:55.945Z"
   },
   {
    "duration": 296,
    "start_time": "2025-03-17T19:01:18.898Z"
   },
   {
    "duration": 3846,
    "start_time": "2025-03-17T19:01:33.767Z"
   },
   {
    "duration": 3006,
    "start_time": "2025-03-17T19:01:37.616Z"
   },
   {
    "duration": 5,
    "start_time": "2025-03-17T19:01:40.625Z"
   },
   {
    "duration": 2820,
    "start_time": "2025-03-17T19:26:46.494Z"
   },
   {
    "duration": 249,
    "start_time": "2025-03-17T19:26:49.319Z"
   },
   {
    "duration": 0,
    "start_time": "2025-03-17T19:26:49.569Z"
   },
   {
    "duration": 0,
    "start_time": "2025-03-17T19:26:49.571Z"
   },
   {
    "duration": 0,
    "start_time": "2025-03-17T19:26:49.571Z"
   },
   {
    "duration": 0,
    "start_time": "2025-03-17T19:26:49.573Z"
   },
   {
    "duration": 0,
    "start_time": "2025-03-17T19:26:49.574Z"
   },
   {
    "duration": 16,
    "start_time": "2025-03-17T19:28:01.127Z"
   },
   {
    "duration": 824,
    "start_time": "2025-03-17T19:28:26.091Z"
   },
   {
    "duration": 770,
    "start_time": "2025-03-17T19:28:35.872Z"
   },
   {
    "duration": 762,
    "start_time": "2025-03-17T19:29:44.588Z"
   },
   {
    "duration": 508,
    "start_time": "2025-03-17T19:30:18.849Z"
   },
   {
    "duration": 271,
    "start_time": "2025-03-17T19:30:28.923Z"
   },
   {
    "duration": 90,
    "start_time": "2025-03-17T19:31:09.271Z"
   },
   {
    "duration": 89,
    "start_time": "2025-03-17T19:31:16.465Z"
   },
   {
    "duration": 62,
    "start_time": "2025-03-17T19:31:32.530Z"
   },
   {
    "duration": 16,
    "start_time": "2025-03-17T19:31:35.278Z"
   },
   {
    "duration": 160,
    "start_time": "2025-03-26T23:58:44.445Z"
   },
   {
    "duration": 2887,
    "start_time": "2025-03-26T23:58:55.006Z"
   },
   {
    "duration": 552,
    "start_time": "2025-03-26T23:58:57.895Z"
   },
   {
    "duration": 293,
    "start_time": "2025-03-26T23:58:58.450Z"
   },
   {
    "duration": 98,
    "start_time": "2025-03-26T23:58:58.745Z"
   },
   {
    "duration": 74,
    "start_time": "2025-03-26T23:58:58.846Z"
   },
   {
    "duration": 480,
    "start_time": "2025-03-26T23:58:58.921Z"
   },
   {
    "duration": 4,
    "start_time": "2025-03-26T23:58:59.403Z"
   },
   {
    "duration": 248,
    "start_time": "2025-03-26T23:58:59.409Z"
   },
   {
    "duration": 0,
    "start_time": "2025-03-26T23:58:59.660Z"
   },
   {
    "duration": 748,
    "start_time": "2025-03-27T00:01:14.939Z"
   },
   {
    "duration": 512,
    "start_time": "2025-03-27T00:02:16.144Z"
   },
   {
    "duration": 6,
    "start_time": "2025-03-27T00:03:45.187Z"
   },
   {
    "duration": 445,
    "start_time": "2025-03-27T00:04:25.971Z"
   },
   {
    "duration": 1091,
    "start_time": "2025-03-27T00:04:33.158Z"
   },
   {
    "duration": 511,
    "start_time": "2025-03-27T00:04:34.252Z"
   },
   {
    "duration": 803,
    "start_time": "2025-03-27T00:04:34.765Z"
   },
   {
    "duration": 0,
    "start_time": "2025-03-27T00:04:35.570Z"
   },
   {
    "duration": 0,
    "start_time": "2025-03-27T00:04:35.571Z"
   },
   {
    "duration": 0,
    "start_time": "2025-03-27T00:04:35.572Z"
   },
   {
    "duration": 0,
    "start_time": "2025-03-27T00:04:35.573Z"
   },
   {
    "duration": 0,
    "start_time": "2025-03-27T00:04:35.575Z"
   },
   {
    "duration": 0,
    "start_time": "2025-03-27T00:04:35.586Z"
   },
   {
    "duration": 0,
    "start_time": "2025-03-27T00:04:35.587Z"
   },
   {
    "duration": 0,
    "start_time": "2025-03-27T00:04:35.588Z"
   },
   {
    "duration": 0,
    "start_time": "2025-03-27T00:04:35.589Z"
   },
   {
    "duration": 712,
    "start_time": "2025-03-27T00:05:53.589Z"
   },
   {
    "duration": 504,
    "start_time": "2025-03-27T00:06:13.725Z"
   },
   {
    "duration": 69,
    "start_time": "2025-03-27T00:06:47.208Z"
   },
   {
    "duration": 3,
    "start_time": "2025-03-27T00:07:50.612Z"
   },
   {
    "duration": 93,
    "start_time": "2025-03-27T00:08:32.503Z"
   },
   {
    "duration": 243,
    "start_time": "2025-03-27T00:08:37.217Z"
   },
   {
    "duration": 79,
    "start_time": "2025-03-27T00:08:39.813Z"
   },
   {
    "duration": 87,
    "start_time": "2025-03-27T00:08:57.019Z"
   },
   {
    "duration": 961,
    "start_time": "2025-03-27T00:09:34.760Z"
   },
   {
    "duration": 232,
    "start_time": "2025-03-27T00:09:56.845Z"
   },
   {
    "duration": 78,
    "start_time": "2025-03-27T00:09:58.427Z"
   },
   {
    "duration": 57,
    "start_time": "2025-03-27T00:10:08.419Z"
   },
   {
    "duration": 434,
    "start_time": "2025-03-27T00:10:13.431Z"
   },
   {
    "duration": 730,
    "start_time": "2025-03-27T00:10:15.251Z"
   },
   {
    "duration": 4,
    "start_time": "2025-03-27T00:10:51.394Z"
   },
   {
    "duration": 141,
    "start_time": "2025-03-27T00:10:53.239Z"
   },
   {
    "duration": 126,
    "start_time": "2025-03-27T00:15:24.670Z"
   },
   {
    "duration": 1087,
    "start_time": "2025-03-27T00:15:40.934Z"
   },
   {
    "duration": 519,
    "start_time": "2025-03-27T00:15:42.024Z"
   },
   {
    "duration": 1066,
    "start_time": "2025-03-27T00:15:42.545Z"
   },
   {
    "duration": 121,
    "start_time": "2025-03-27T00:15:43.614Z"
   },
   {
    "duration": 210,
    "start_time": "2025-03-27T00:15:43.737Z"
   },
   {
    "duration": 87,
    "start_time": "2025-03-27T00:15:43.949Z"
   },
   {
    "duration": 66,
    "start_time": "2025-03-27T00:15:44.037Z"
   },
   {
    "duration": 443,
    "start_time": "2025-03-27T00:15:44.105Z"
   },
   {
    "duration": 801,
    "start_time": "2025-03-27T00:15:44.550Z"
   },
   {
    "duration": 4,
    "start_time": "2025-03-27T00:15:45.355Z"
   },
   {
    "duration": 234,
    "start_time": "2025-03-27T00:15:45.362Z"
   },
   {
    "duration": 0,
    "start_time": "2025-03-27T00:15:45.598Z"
   },
   {
    "duration": 445,
    "start_time": "2025-03-27T00:48:11.129Z"
   },
   {
    "duration": 4,
    "start_time": "2025-03-27T00:49:11.581Z"
   },
   {
    "duration": 1102,
    "start_time": "2025-03-27T00:51:30.021Z"
   },
   {
    "duration": 522,
    "start_time": "2025-03-27T00:51:31.125Z"
   },
   {
    "duration": 1042,
    "start_time": "2025-03-27T00:51:31.649Z"
   },
   {
    "duration": 119,
    "start_time": "2025-03-27T00:51:32.693Z"
   },
   {
    "duration": 227,
    "start_time": "2025-03-27T00:51:32.815Z"
   },
   {
    "duration": 89,
    "start_time": "2025-03-27T00:51:33.045Z"
   },
   {
    "duration": 77,
    "start_time": "2025-03-27T00:51:33.136Z"
   },
   {
    "duration": 422,
    "start_time": "2025-03-27T00:51:33.216Z"
   },
   {
    "duration": 822,
    "start_time": "2025-03-27T00:51:33.641Z"
   },
   {
    "duration": 4,
    "start_time": "2025-03-27T00:51:34.465Z"
   },
   {
    "duration": 242,
    "start_time": "2025-03-27T00:51:34.471Z"
   },
   {
    "duration": 0,
    "start_time": "2025-03-27T00:51:34.715Z"
   },
   {
    "duration": 19,
    "start_time": "2025-03-27T00:52:50.943Z"
   },
   {
    "duration": 139,
    "start_time": "2025-03-27T00:53:25.606Z"
   },
   {
    "duration": 69,
    "start_time": "2025-03-27T00:53:28.518Z"
   },
   {
    "duration": 1122,
    "start_time": "2025-03-27T00:53:35.994Z"
   },
   {
    "duration": 522,
    "start_time": "2025-03-27T00:53:37.118Z"
   },
   {
    "duration": 964,
    "start_time": "2025-03-27T00:53:37.642Z"
   },
   {
    "duration": 118,
    "start_time": "2025-03-27T00:53:38.609Z"
   },
   {
    "duration": 208,
    "start_time": "2025-03-27T00:53:38.730Z"
   },
   {
    "duration": 85,
    "start_time": "2025-03-27T00:53:38.940Z"
   },
   {
    "duration": 63,
    "start_time": "2025-03-27T00:53:39.028Z"
   },
   {
    "duration": 422,
    "start_time": "2025-03-27T00:53:39.094Z"
   },
   {
    "duration": 797,
    "start_time": "2025-03-27T00:53:39.518Z"
   },
   {
    "duration": 4,
    "start_time": "2025-03-27T00:53:40.318Z"
   },
   {
    "duration": 137,
    "start_time": "2025-03-27T00:53:40.324Z"
   },
   {
    "duration": 212,
    "start_time": "2025-03-27T00:53:40.463Z"
   },
   {
    "duration": 0,
    "start_time": "2025-03-27T00:53:40.677Z"
   },
   {
    "duration": 49,
    "start_time": "2025-03-27T00:54:02.797Z"
   },
   {
    "duration": 171,
    "start_time": "2025-03-27T00:55:18.007Z"
   },
   {
    "duration": 1152,
    "start_time": "2025-03-27T00:55:28.090Z"
   },
   {
    "duration": 581,
    "start_time": "2025-03-27T00:55:29.244Z"
   },
   {
    "duration": 988,
    "start_time": "2025-03-27T00:55:29.827Z"
   },
   {
    "duration": 118,
    "start_time": "2025-03-27T00:55:30.818Z"
   },
   {
    "duration": 212,
    "start_time": "2025-03-27T00:55:30.938Z"
   },
   {
    "duration": 83,
    "start_time": "2025-03-27T00:55:31.152Z"
   },
   {
    "duration": 68,
    "start_time": "2025-03-27T00:55:31.237Z"
   },
   {
    "duration": 442,
    "start_time": "2025-03-27T00:55:31.307Z"
   },
   {
    "duration": 812,
    "start_time": "2025-03-27T00:55:31.751Z"
   },
   {
    "duration": 4,
    "start_time": "2025-03-27T00:55:32.567Z"
   },
   {
    "duration": 136,
    "start_time": "2025-03-27T00:55:32.573Z"
   },
   {
    "duration": 838,
    "start_time": "2025-03-27T00:57:49.986Z"
   },
   {
    "duration": 17,
    "start_time": "2025-03-27T00:57:50.934Z"
   },
   {
    "duration": 1141,
    "start_time": "2025-03-27T00:58:59.805Z"
   },
   {
    "duration": 565,
    "start_time": "2025-03-27T00:59:00.948Z"
   },
   {
    "duration": 988,
    "start_time": "2025-03-27T00:59:01.515Z"
   },
   {
    "duration": 120,
    "start_time": "2025-03-27T00:59:02.506Z"
   },
   {
    "duration": 210,
    "start_time": "2025-03-27T00:59:02.628Z"
   },
   {
    "duration": 97,
    "start_time": "2025-03-27T00:59:02.840Z"
   },
   {
    "duration": 65,
    "start_time": "2025-03-27T00:59:02.939Z"
   },
   {
    "duration": 466,
    "start_time": "2025-03-27T00:59:03.006Z"
   },
   {
    "duration": 853,
    "start_time": "2025-03-27T00:59:03.474Z"
   },
   {
    "duration": 4,
    "start_time": "2025-03-27T00:59:04.330Z"
   },
   {
    "duration": 141,
    "start_time": "2025-03-27T00:59:04.335Z"
   },
   {
    "duration": 8,
    "start_time": "2025-03-27T00:59:53.748Z"
   },
   {
    "duration": 865,
    "start_time": "2025-03-27T01:00:07.102Z"
   },
   {
    "duration": 1091,
    "start_time": "2025-03-27T01:00:39.760Z"
   },
   {
    "duration": 558,
    "start_time": "2025-03-27T01:00:40.854Z"
   },
   {
    "duration": 994,
    "start_time": "2025-03-27T01:00:41.414Z"
   },
   {
    "duration": 124,
    "start_time": "2025-03-27T01:00:42.411Z"
   },
   {
    "duration": 215,
    "start_time": "2025-03-27T01:00:42.538Z"
   },
   {
    "duration": 87,
    "start_time": "2025-03-27T01:00:42.755Z"
   },
   {
    "duration": 65,
    "start_time": "2025-03-27T01:00:42.844Z"
   },
   {
    "duration": 483,
    "start_time": "2025-03-27T01:00:42.911Z"
   },
   {
    "duration": 815,
    "start_time": "2025-03-27T01:00:43.396Z"
   },
   {
    "duration": 4,
    "start_time": "2025-03-27T01:00:44.215Z"
   },
   {
    "duration": 142,
    "start_time": "2025-03-27T01:00:44.221Z"
   },
   {
    "duration": 288,
    "start_time": "2025-03-27T01:00:44.365Z"
   },
   {
    "duration": 0,
    "start_time": "2025-03-27T01:00:44.655Z"
   },
   {
    "duration": 0,
    "start_time": "2025-03-27T01:00:44.656Z"
   },
   {
    "duration": 22,
    "start_time": "2025-03-27T01:05:44.354Z"
   },
   {
    "duration": 1092,
    "start_time": "2025-03-27T01:05:50.615Z"
   },
   {
    "duration": 518,
    "start_time": "2025-03-27T01:05:51.709Z"
   },
   {
    "duration": 986,
    "start_time": "2025-03-27T01:05:52.229Z"
   },
   {
    "duration": 119,
    "start_time": "2025-03-27T01:05:53.218Z"
   },
   {
    "duration": 216,
    "start_time": "2025-03-27T01:05:53.341Z"
   },
   {
    "duration": 87,
    "start_time": "2025-03-27T01:05:53.559Z"
   },
   {
    "duration": 70,
    "start_time": "2025-03-27T01:05:53.648Z"
   },
   {
    "duration": 418,
    "start_time": "2025-03-27T01:05:53.720Z"
   },
   {
    "duration": 806,
    "start_time": "2025-03-27T01:05:54.141Z"
   },
   {
    "duration": 4,
    "start_time": "2025-03-27T01:05:54.949Z"
   },
   {
    "duration": 140,
    "start_time": "2025-03-27T01:05:54.955Z"
   },
   {
    "duration": 246,
    "start_time": "2025-03-27T01:05:55.097Z"
   },
   {
    "duration": 1,
    "start_time": "2025-03-27T01:05:55.345Z"
   },
   {
    "duration": 0,
    "start_time": "2025-03-27T01:05:55.346Z"
   },
   {
    "duration": 0,
    "start_time": "2025-03-27T01:05:55.348Z"
   },
   {
    "duration": 16,
    "start_time": "2025-03-27T01:07:19.317Z"
   },
   {
    "duration": 65,
    "start_time": "2025-03-27T01:07:20.270Z"
   },
   {
    "duration": 63,
    "start_time": "2025-03-27T01:07:54.823Z"
   },
   {
    "duration": 1145,
    "start_time": "2025-03-27T01:07:58.097Z"
   },
   {
    "duration": 509,
    "start_time": "2025-03-27T01:07:59.244Z"
   },
   {
    "duration": 1050,
    "start_time": "2025-03-27T01:07:59.755Z"
   },
   {
    "duration": 122,
    "start_time": "2025-03-27T01:08:00.807Z"
   },
   {
    "duration": 220,
    "start_time": "2025-03-27T01:08:00.932Z"
   },
   {
    "duration": 92,
    "start_time": "2025-03-27T01:08:01.155Z"
   },
   {
    "duration": 67,
    "start_time": "2025-03-27T01:08:01.248Z"
   },
   {
    "duration": 454,
    "start_time": "2025-03-27T01:08:01.317Z"
   },
   {
    "duration": 831,
    "start_time": "2025-03-27T01:08:01.772Z"
   },
   {
    "duration": 4,
    "start_time": "2025-03-27T01:08:02.605Z"
   },
   {
    "duration": 141,
    "start_time": "2025-03-27T01:08:02.611Z"
   },
   {
    "duration": 293,
    "start_time": "2025-03-27T01:08:02.754Z"
   },
   {
    "duration": 0,
    "start_time": "2025-03-27T01:08:03.049Z"
   },
   {
    "duration": 0,
    "start_time": "2025-03-27T01:08:03.051Z"
   },
   {
    "duration": 0,
    "start_time": "2025-03-27T01:08:03.053Z"
   },
   {
    "duration": 0,
    "start_time": "2025-03-27T01:08:03.055Z"
   },
   {
    "duration": 1354,
    "start_time": "2025-03-27T01:10:08.001Z"
   },
   {
    "duration": 1119,
    "start_time": "2025-03-27T01:10:22.871Z"
   },
   {
    "duration": 518,
    "start_time": "2025-03-27T01:10:23.992Z"
   },
   {
    "duration": 998,
    "start_time": "2025-03-27T01:10:24.512Z"
   },
   {
    "duration": 118,
    "start_time": "2025-03-27T01:10:25.513Z"
   },
   {
    "duration": 209,
    "start_time": "2025-03-27T01:10:25.633Z"
   },
   {
    "duration": 82,
    "start_time": "2025-03-27T01:10:25.844Z"
   },
   {
    "duration": 67,
    "start_time": "2025-03-27T01:10:25.928Z"
   },
   {
    "duration": 414,
    "start_time": "2025-03-27T01:10:25.997Z"
   },
   {
    "duration": 774,
    "start_time": "2025-03-27T01:10:26.413Z"
   },
   {
    "duration": 4,
    "start_time": "2025-03-27T01:10:27.190Z"
   },
   {
    "duration": 144,
    "start_time": "2025-03-27T01:10:27.196Z"
   },
   {
    "duration": 1610,
    "start_time": "2025-03-27T01:10:27.342Z"
   },
   {
    "duration": 0,
    "start_time": "2025-03-27T01:10:28.953Z"
   },
   {
    "duration": 0,
    "start_time": "2025-03-27T01:10:28.954Z"
   },
   {
    "duration": 0,
    "start_time": "2025-03-27T01:10:28.956Z"
   },
   {
    "duration": 0,
    "start_time": "2025-03-27T01:10:28.957Z"
   },
   {
    "duration": 1088,
    "start_time": "2025-03-27T01:11:55.369Z"
   },
   {
    "duration": 552,
    "start_time": "2025-03-27T01:11:56.459Z"
   },
   {
    "duration": 1005,
    "start_time": "2025-03-27T01:11:57.013Z"
   },
   {
    "duration": 131,
    "start_time": "2025-03-27T01:11:58.020Z"
   },
   {
    "duration": 206,
    "start_time": "2025-03-27T01:11:58.154Z"
   },
   {
    "duration": 94,
    "start_time": "2025-03-27T01:11:58.363Z"
   },
   {
    "duration": 69,
    "start_time": "2025-03-27T01:11:58.459Z"
   },
   {
    "duration": 444,
    "start_time": "2025-03-27T01:11:58.530Z"
   },
   {
    "duration": 803,
    "start_time": "2025-03-27T01:11:58.976Z"
   },
   {
    "duration": 5,
    "start_time": "2025-03-27T01:11:59.780Z"
   },
   {
    "duration": 140,
    "start_time": "2025-03-27T01:11:59.786Z"
   },
   {
    "duration": 793,
    "start_time": "2025-03-27T01:12:25.648Z"
   },
   {
    "duration": 23,
    "start_time": "2025-03-27T01:12:26.821Z"
   },
   {
    "duration": 1120,
    "start_time": "2025-03-27T01:13:44.043Z"
   },
   {
    "duration": 595,
    "start_time": "2025-03-27T01:13:45.166Z"
   },
   {
    "duration": 1025,
    "start_time": "2025-03-27T01:13:45.763Z"
   },
   {
    "duration": 118,
    "start_time": "2025-03-27T01:13:46.790Z"
   },
   {
    "duration": 209,
    "start_time": "2025-03-27T01:13:46.912Z"
   },
   {
    "duration": 81,
    "start_time": "2025-03-27T01:13:47.123Z"
   },
   {
    "duration": 58,
    "start_time": "2025-03-27T01:13:47.206Z"
   },
   {
    "duration": 458,
    "start_time": "2025-03-27T01:13:47.266Z"
   },
   {
    "duration": 789,
    "start_time": "2025-03-27T01:13:47.726Z"
   },
   {
    "duration": 5,
    "start_time": "2025-03-27T01:13:48.516Z"
   },
   {
    "duration": 137,
    "start_time": "2025-03-27T01:13:48.523Z"
   },
   {
    "duration": 1093,
    "start_time": "2025-03-27T01:14:19.167Z"
   },
   {
    "duration": 574,
    "start_time": "2025-03-27T01:14:20.262Z"
   },
   {
    "duration": 973,
    "start_time": "2025-03-27T01:14:20.838Z"
   },
   {
    "duration": 118,
    "start_time": "2025-03-27T01:14:21.813Z"
   },
   {
    "duration": 209,
    "start_time": "2025-03-27T01:14:21.933Z"
   },
   {
    "duration": 84,
    "start_time": "2025-03-27T01:14:22.144Z"
   },
   {
    "duration": 67,
    "start_time": "2025-03-27T01:14:22.230Z"
   },
   {
    "duration": 429,
    "start_time": "2025-03-27T01:14:22.299Z"
   },
   {
    "duration": 817,
    "start_time": "2025-03-27T01:14:22.730Z"
   },
   {
    "duration": 5,
    "start_time": "2025-03-27T01:14:23.549Z"
   },
   {
    "duration": 145,
    "start_time": "2025-03-27T01:14:23.555Z"
   },
   {
    "duration": 1134,
    "start_time": "2025-03-27T01:14:59.808Z"
   },
   {
    "duration": 595,
    "start_time": "2025-03-27T01:15:00.944Z"
   },
   {
    "duration": 1061,
    "start_time": "2025-03-27T01:15:01.541Z"
   },
   {
    "duration": 122,
    "start_time": "2025-03-27T01:15:02.604Z"
   },
   {
    "duration": 220,
    "start_time": "2025-03-27T01:15:02.727Z"
   },
   {
    "duration": 90,
    "start_time": "2025-03-27T01:15:02.949Z"
   },
   {
    "duration": 69,
    "start_time": "2025-03-27T01:15:03.041Z"
   },
   {
    "duration": 437,
    "start_time": "2025-03-27T01:15:03.112Z"
   },
   {
    "duration": 852,
    "start_time": "2025-03-27T01:15:03.551Z"
   },
   {
    "duration": 4,
    "start_time": "2025-03-27T01:15:04.406Z"
   },
   {
    "duration": 140,
    "start_time": "2025-03-27T01:15:04.412Z"
   },
   {
    "duration": 824,
    "start_time": "2025-03-27T01:17:34.548Z"
   },
   {
    "duration": 21,
    "start_time": "2025-03-27T01:17:39.124Z"
   },
   {
    "duration": 1178,
    "start_time": "2025-03-27T01:17:51.069Z"
   },
   {
    "duration": 607,
    "start_time": "2025-03-27T01:17:52.250Z"
   },
   {
    "duration": 1049,
    "start_time": "2025-03-27T01:17:52.859Z"
   },
   {
    "duration": 131,
    "start_time": "2025-03-27T01:17:53.911Z"
   },
   {
    "duration": 211,
    "start_time": "2025-03-27T01:17:54.044Z"
   },
   {
    "duration": 83,
    "start_time": "2025-03-27T01:17:54.258Z"
   },
   {
    "duration": 64,
    "start_time": "2025-03-27T01:17:54.343Z"
   },
   {
    "duration": 428,
    "start_time": "2025-03-27T01:17:54.409Z"
   },
   {
    "duration": 804,
    "start_time": "2025-03-27T01:17:54.839Z"
   },
   {
    "duration": 4,
    "start_time": "2025-03-27T01:17:55.647Z"
   },
   {
    "duration": 139,
    "start_time": "2025-03-27T01:17:55.652Z"
   },
   {
    "duration": 538,
    "start_time": "2025-03-27T01:17:55.793Z"
   },
   {
    "duration": 573,
    "start_time": "2025-03-27T01:17:56.333Z"
   },
   {
    "duration": 0,
    "start_time": "2025-03-27T01:17:56.908Z"
   },
   {
    "duration": 0,
    "start_time": "2025-03-27T01:17:56.909Z"
   },
   {
    "duration": 0,
    "start_time": "2025-03-27T01:17:56.911Z"
   },
   {
    "duration": 531,
    "start_time": "2025-03-27T01:18:18.869Z"
   },
   {
    "duration": 332,
    "start_time": "2025-03-27T01:18:23.382Z"
   },
   {
    "duration": 107,
    "start_time": "2025-03-27T01:18:27.692Z"
   },
   {
    "duration": 48,
    "start_time": "2025-03-27T01:18:28.706Z"
   },
   {
    "duration": 1052,
    "start_time": "2025-03-27T01:19:20.955Z"
   },
   {
    "duration": 515,
    "start_time": "2025-03-27T01:19:22.009Z"
   },
   {
    "duration": 1007,
    "start_time": "2025-03-27T01:19:22.526Z"
   },
   {
    "duration": 173,
    "start_time": "2025-03-27T01:19:23.536Z"
   },
   {
    "duration": 211,
    "start_time": "2025-03-27T01:19:23.712Z"
   },
   {
    "duration": 89,
    "start_time": "2025-03-27T01:19:23.925Z"
   },
   {
    "duration": 57,
    "start_time": "2025-03-27T01:19:24.016Z"
   },
   {
    "duration": 447,
    "start_time": "2025-03-27T01:19:24.087Z"
   },
   {
    "duration": 807,
    "start_time": "2025-03-27T01:19:24.536Z"
   },
   {
    "duration": 4,
    "start_time": "2025-03-27T01:19:25.346Z"
   },
   {
    "duration": 141,
    "start_time": "2025-03-27T01:19:25.352Z"
   },
   {
    "duration": 548,
    "start_time": "2025-03-27T01:19:25.495Z"
   },
   {
    "duration": 499,
    "start_time": "2025-03-27T01:19:26.045Z"
   },
   {
    "duration": 0,
    "start_time": "2025-03-27T01:19:26.546Z"
   },
   {
    "duration": 0,
    "start_time": "2025-03-27T01:19:26.547Z"
   },
   {
    "duration": 0,
    "start_time": "2025-03-27T01:19:26.548Z"
   },
   {
    "duration": 464,
    "start_time": "2025-03-27T01:23:38.373Z"
   },
   {
    "duration": 1338,
    "start_time": "2025-03-27T01:27:31.476Z"
   },
   {
    "duration": 1123,
    "start_time": "2025-03-27T01:27:36.909Z"
   },
   {
    "duration": 524,
    "start_time": "2025-03-27T01:27:38.035Z"
   },
   {
    "duration": 954,
    "start_time": "2025-03-27T01:27:38.561Z"
   },
   {
    "duration": 122,
    "start_time": "2025-03-27T01:27:39.517Z"
   },
   {
    "duration": 216,
    "start_time": "2025-03-27T01:27:39.642Z"
   },
   {
    "duration": 84,
    "start_time": "2025-03-27T01:27:39.860Z"
   },
   {
    "duration": 70,
    "start_time": "2025-03-27T01:27:39.946Z"
   },
   {
    "duration": 440,
    "start_time": "2025-03-27T01:27:40.017Z"
   },
   {
    "duration": 828,
    "start_time": "2025-03-27T01:27:40.459Z"
   },
   {
    "duration": 4,
    "start_time": "2025-03-27T01:27:41.289Z"
   },
   {
    "duration": 154,
    "start_time": "2025-03-27T01:27:41.295Z"
   },
   {
    "duration": 1584,
    "start_time": "2025-03-27T01:27:41.451Z"
   },
   {
    "duration": 0,
    "start_time": "2025-03-27T01:27:43.037Z"
   },
   {
    "duration": 0,
    "start_time": "2025-03-27T01:27:43.039Z"
   },
   {
    "duration": 0,
    "start_time": "2025-03-27T01:27:43.040Z"
   },
   {
    "duration": 0,
    "start_time": "2025-03-27T01:27:43.042Z"
   },
   {
    "duration": 815,
    "start_time": "2025-03-27T01:31:54.756Z"
   },
   {
    "duration": 1438,
    "start_time": "2025-03-27T01:34:25.722Z"
   },
   {
    "duration": 801,
    "start_time": "2025-03-27T01:34:27.163Z"
   },
   {
    "duration": 1051,
    "start_time": "2025-03-27T01:34:27.966Z"
   },
   {
    "duration": 140,
    "start_time": "2025-03-27T01:34:29.020Z"
   },
   {
    "duration": 215,
    "start_time": "2025-03-27T01:34:29.162Z"
   },
   {
    "duration": 79,
    "start_time": "2025-03-27T01:34:29.380Z"
   },
   {
    "duration": 67,
    "start_time": "2025-03-27T01:34:29.461Z"
   },
   {
    "duration": 419,
    "start_time": "2025-03-27T01:34:29.530Z"
   },
   {
    "duration": 860,
    "start_time": "2025-03-27T01:34:29.951Z"
   },
   {
    "duration": 5,
    "start_time": "2025-03-27T01:34:30.814Z"
   },
   {
    "duration": 162,
    "start_time": "2025-03-27T01:34:30.820Z"
   },
   {
    "duration": 1528,
    "start_time": "2025-03-27T01:34:48.083Z"
   },
   {
    "duration": 661,
    "start_time": "2025-03-27T01:34:49.614Z"
   },
   {
    "duration": 1125,
    "start_time": "2025-03-27T01:34:50.277Z"
   },
   {
    "duration": 126,
    "start_time": "2025-03-27T01:34:51.405Z"
   },
   {
    "duration": 226,
    "start_time": "2025-03-27T01:34:51.534Z"
   },
   {
    "duration": 82,
    "start_time": "2025-03-27T01:34:51.762Z"
   },
   {
    "duration": 81,
    "start_time": "2025-03-27T01:34:51.846Z"
   },
   {
    "duration": 431,
    "start_time": "2025-03-27T01:34:51.929Z"
   },
   {
    "duration": 985,
    "start_time": "2025-03-27T01:34:52.362Z"
   },
   {
    "duration": 8,
    "start_time": "2025-03-27T01:34:53.351Z"
   },
   {
    "duration": 180,
    "start_time": "2025-03-27T01:34:53.361Z"
   },
   {
    "duration": 1093,
    "start_time": "2025-03-27T01:35:13.173Z"
   },
   {
    "duration": 562,
    "start_time": "2025-03-27T01:35:14.268Z"
   },
   {
    "duration": 998,
    "start_time": "2025-03-27T01:35:14.832Z"
   },
   {
    "duration": 182,
    "start_time": "2025-03-27T01:35:15.832Z"
   },
   {
    "duration": 211,
    "start_time": "2025-03-27T01:35:16.017Z"
   },
   {
    "duration": 85,
    "start_time": "2025-03-27T01:35:16.230Z"
   },
   {
    "duration": 70,
    "start_time": "2025-03-27T01:35:16.317Z"
   },
   {
    "duration": 461,
    "start_time": "2025-03-27T01:35:16.388Z"
   },
   {
    "duration": 808,
    "start_time": "2025-03-27T01:35:16.851Z"
   },
   {
    "duration": 5,
    "start_time": "2025-03-27T01:35:17.661Z"
   },
   {
    "duration": 135,
    "start_time": "2025-03-27T01:35:17.668Z"
   },
   {
    "duration": 1109,
    "start_time": "2025-03-27T01:35:37.049Z"
   },
   {
    "duration": 568,
    "start_time": "2025-03-27T01:35:38.160Z"
   },
   {
    "duration": 1073,
    "start_time": "2025-03-27T01:35:38.730Z"
   },
   {
    "duration": 121,
    "start_time": "2025-03-27T01:35:39.805Z"
   },
   {
    "duration": 231,
    "start_time": "2025-03-27T01:35:39.928Z"
   },
   {
    "duration": 84,
    "start_time": "2025-03-27T01:35:40.161Z"
   },
   {
    "duration": 69,
    "start_time": "2025-03-27T01:35:40.247Z"
   },
   {
    "duration": 421,
    "start_time": "2025-03-27T01:35:40.318Z"
   },
   {
    "duration": 801,
    "start_time": "2025-03-27T01:35:40.742Z"
   },
   {
    "duration": 5,
    "start_time": "2025-03-27T01:35:41.545Z"
   },
   {
    "duration": 141,
    "start_time": "2025-03-27T01:35:41.552Z"
   },
   {
    "duration": 965,
    "start_time": "2025-03-27T01:36:00.595Z"
   },
   {
    "duration": 41,
    "start_time": "2025-03-27T01:36:02.772Z"
   },
   {
    "duration": 17,
    "start_time": "2025-03-27T01:36:05.737Z"
   },
   {
    "duration": 1106,
    "start_time": "2025-03-27T01:40:16.725Z"
   },
   {
    "duration": 571,
    "start_time": "2025-03-27T01:40:17.833Z"
   },
   {
    "duration": 997,
    "start_time": "2025-03-27T01:40:18.408Z"
   },
   {
    "duration": 127,
    "start_time": "2025-03-27T01:40:19.407Z"
   },
   {
    "duration": 206,
    "start_time": "2025-03-27T01:40:19.537Z"
   },
   {
    "duration": 83,
    "start_time": "2025-03-27T01:40:19.745Z"
   },
   {
    "duration": 69,
    "start_time": "2025-03-27T01:40:19.830Z"
   },
   {
    "duration": 436,
    "start_time": "2025-03-27T01:40:19.901Z"
   },
   {
    "duration": 821,
    "start_time": "2025-03-27T01:40:20.338Z"
   },
   {
    "duration": 4,
    "start_time": "2025-03-27T01:40:21.162Z"
   },
   {
    "duration": 137,
    "start_time": "2025-03-27T01:40:21.168Z"
   },
   {
    "duration": 1146,
    "start_time": "2025-03-27T01:40:39.987Z"
   },
   {
    "duration": 556,
    "start_time": "2025-03-27T01:40:41.135Z"
   },
   {
    "duration": 1020,
    "start_time": "2025-03-27T01:40:41.693Z"
   },
   {
    "duration": 121,
    "start_time": "2025-03-27T01:40:42.717Z"
   },
   {
    "duration": 198,
    "start_time": "2025-03-27T01:40:42.841Z"
   },
   {
    "duration": 95,
    "start_time": "2025-03-27T01:40:43.040Z"
   },
   {
    "duration": 80,
    "start_time": "2025-03-27T01:40:43.137Z"
   },
   {
    "duration": 450,
    "start_time": "2025-03-27T01:40:43.219Z"
   },
   {
    "duration": 804,
    "start_time": "2025-03-27T01:40:43.671Z"
   },
   {
    "duration": 4,
    "start_time": "2025-03-27T01:40:44.479Z"
   },
   {
    "duration": 137,
    "start_time": "2025-03-27T01:40:44.486Z"
   },
   {
    "duration": 918,
    "start_time": "2025-03-27T01:44:19.912Z"
   },
   {
    "duration": 225,
    "start_time": "2025-03-27T01:44:21.262Z"
   },
   {
    "duration": 17,
    "start_time": "2025-03-27T01:44:22.247Z"
   },
   {
    "duration": 17,
    "start_time": "2025-03-27T01:44:25.813Z"
   },
   {
    "duration": 19,
    "start_time": "2025-03-27T01:44:26.784Z"
   },
   {
    "duration": 1082,
    "start_time": "2025-03-27T01:44:45.842Z"
   },
   {
    "duration": 575,
    "start_time": "2025-03-27T01:44:46.927Z"
   },
   {
    "duration": 1006,
    "start_time": "2025-03-27T01:44:47.504Z"
   },
   {
    "duration": 115,
    "start_time": "2025-03-27T01:44:48.513Z"
   },
   {
    "duration": 207,
    "start_time": "2025-03-27T01:44:48.630Z"
   },
   {
    "duration": 91,
    "start_time": "2025-03-27T01:44:48.839Z"
   },
   {
    "duration": 67,
    "start_time": "2025-03-27T01:44:48.932Z"
   },
   {
    "duration": 421,
    "start_time": "2025-03-27T01:44:49.002Z"
   },
   {
    "duration": 782,
    "start_time": "2025-03-27T01:44:49.425Z"
   },
   {
    "duration": 3,
    "start_time": "2025-03-27T01:44:50.210Z"
   },
   {
    "duration": 137,
    "start_time": "2025-03-27T01:44:50.215Z"
   },
   {
    "duration": 847,
    "start_time": "2025-03-27T01:49:50.112Z"
   },
   {
    "duration": 16,
    "start_time": "2025-03-27T01:50:55.715Z"
   },
   {
    "duration": 1113,
    "start_time": "2025-03-27T01:52:09.916Z"
   },
   {
    "duration": 558,
    "start_time": "2025-03-27T01:52:11.031Z"
   },
   {
    "duration": 1021,
    "start_time": "2025-03-27T01:52:11.592Z"
   },
   {
    "duration": 120,
    "start_time": "2025-03-27T01:52:12.616Z"
   },
   {
    "duration": 211,
    "start_time": "2025-03-27T01:52:12.740Z"
   },
   {
    "duration": 83,
    "start_time": "2025-03-27T01:52:12.953Z"
   },
   {
    "duration": 66,
    "start_time": "2025-03-27T01:52:13.037Z"
   },
   {
    "duration": 453,
    "start_time": "2025-03-27T01:52:13.105Z"
   },
   {
    "duration": 844,
    "start_time": "2025-03-27T01:52:13.559Z"
   },
   {
    "duration": 3,
    "start_time": "2025-03-27T01:52:14.405Z"
   },
   {
    "duration": 137,
    "start_time": "2025-03-27T01:52:14.410Z"
   },
   {
    "duration": 69,
    "start_time": "2025-03-27T01:52:14.549Z"
   },
   {
    "duration": 811,
    "start_time": "2025-03-27T01:55:18.557Z"
   },
   {
    "duration": 1123,
    "start_time": "2025-03-27T01:56:49.503Z"
   },
   {
    "duration": 560,
    "start_time": "2025-03-27T01:56:50.628Z"
   },
   {
    "duration": 1017,
    "start_time": "2025-03-27T01:56:51.191Z"
   },
   {
    "duration": 117,
    "start_time": "2025-03-27T01:56:52.209Z"
   },
   {
    "duration": 222,
    "start_time": "2025-03-27T01:56:52.328Z"
   },
   {
    "duration": 89,
    "start_time": "2025-03-27T01:56:52.552Z"
   },
   {
    "duration": 66,
    "start_time": "2025-03-27T01:56:52.643Z"
   },
   {
    "duration": 427,
    "start_time": "2025-03-27T01:56:52.712Z"
   },
   {
    "duration": 850,
    "start_time": "2025-03-27T01:56:53.141Z"
   },
   {
    "duration": 4,
    "start_time": "2025-03-27T01:56:53.993Z"
   },
   {
    "duration": 150,
    "start_time": "2025-03-27T01:56:53.998Z"
   },
   {
    "duration": 71,
    "start_time": "2025-03-27T01:56:54.150Z"
   },
   {
    "duration": 1093,
    "start_time": "2025-03-27T01:57:14.159Z"
   },
   {
    "duration": 565,
    "start_time": "2025-03-27T01:57:15.255Z"
   },
   {
    "duration": 991,
    "start_time": "2025-03-27T01:57:15.822Z"
   },
   {
    "duration": 118,
    "start_time": "2025-03-27T01:57:16.815Z"
   },
   {
    "duration": 210,
    "start_time": "2025-03-27T01:57:16.936Z"
   },
   {
    "duration": 84,
    "start_time": "2025-03-27T01:57:17.148Z"
   },
   {
    "duration": 69,
    "start_time": "2025-03-27T01:57:17.233Z"
   },
   {
    "duration": 436,
    "start_time": "2025-03-27T01:57:17.306Z"
   },
   {
    "duration": 832,
    "start_time": "2025-03-27T01:57:17.743Z"
   },
   {
    "duration": 4,
    "start_time": "2025-03-27T01:57:18.577Z"
   },
   {
    "duration": 143,
    "start_time": "2025-03-27T01:57:18.583Z"
   },
   {
    "duration": 83,
    "start_time": "2025-03-27T01:57:18.728Z"
   },
   {
    "duration": 852,
    "start_time": "2025-03-27T02:01:15.407Z"
   },
   {
    "duration": 1084,
    "start_time": "2025-03-27T02:01:57.060Z"
   },
   {
    "duration": 550,
    "start_time": "2025-03-27T02:01:58.147Z"
   },
   {
    "duration": 1007,
    "start_time": "2025-03-27T02:01:58.699Z"
   },
   {
    "duration": 119,
    "start_time": "2025-03-27T02:01:59.709Z"
   },
   {
    "duration": 204,
    "start_time": "2025-03-27T02:01:59.830Z"
   },
   {
    "duration": 85,
    "start_time": "2025-03-27T02:02:00.036Z"
   },
   {
    "duration": 68,
    "start_time": "2025-03-27T02:02:00.123Z"
   },
   {
    "duration": 440,
    "start_time": "2025-03-27T02:02:00.193Z"
   },
   {
    "duration": 792,
    "start_time": "2025-03-27T02:02:00.635Z"
   },
   {
    "duration": 3,
    "start_time": "2025-03-27T02:02:01.431Z"
   },
   {
    "duration": 153,
    "start_time": "2025-03-27T02:02:01.436Z"
   },
   {
    "duration": 73,
    "start_time": "2025-03-27T02:02:01.591Z"
   },
   {
    "duration": 1600,
    "start_time": "2025-03-27T02:02:01.667Z"
   },
   {
    "duration": 0,
    "start_time": "2025-03-27T02:02:03.269Z"
   },
   {
    "duration": 1,
    "start_time": "2025-03-27T02:02:03.269Z"
   },
   {
    "duration": 0,
    "start_time": "2025-03-27T02:02:03.271Z"
   },
   {
    "duration": 1369,
    "start_time": "2025-03-27T02:03:33.645Z"
   },
   {
    "duration": 1066,
    "start_time": "2025-03-27T02:03:41.452Z"
   },
   {
    "duration": 494,
    "start_time": "2025-03-27T02:03:42.520Z"
   },
   {
    "duration": 1002,
    "start_time": "2025-03-27T02:03:43.017Z"
   },
   {
    "duration": 119,
    "start_time": "2025-03-27T02:03:44.021Z"
   },
   {
    "duration": 208,
    "start_time": "2025-03-27T02:03:44.142Z"
   },
   {
    "duration": 83,
    "start_time": "2025-03-27T02:03:44.352Z"
   },
   {
    "duration": 67,
    "start_time": "2025-03-27T02:03:44.437Z"
   },
   {
    "duration": 440,
    "start_time": "2025-03-27T02:03:44.507Z"
   },
   {
    "duration": 815,
    "start_time": "2025-03-27T02:03:44.949Z"
   },
   {
    "duration": 5,
    "start_time": "2025-03-27T02:03:45.768Z"
   },
   {
    "duration": 140,
    "start_time": "2025-03-27T02:03:45.774Z"
   },
   {
    "duration": 75,
    "start_time": "2025-03-27T02:03:45.916Z"
   },
   {
    "duration": 1600,
    "start_time": "2025-03-27T02:03:45.992Z"
   },
   {
    "duration": 0,
    "start_time": "2025-03-27T02:03:47.594Z"
   },
   {
    "duration": 0,
    "start_time": "2025-03-27T02:03:47.595Z"
   },
   {
    "duration": 0,
    "start_time": "2025-03-27T02:03:47.596Z"
   },
   {
    "duration": 1096,
    "start_time": "2025-03-27T02:05:11.270Z"
   },
   {
    "duration": 576,
    "start_time": "2025-03-27T02:05:12.368Z"
   },
   {
    "duration": 1059,
    "start_time": "2025-03-27T02:05:12.947Z"
   },
   {
    "duration": 121,
    "start_time": "2025-03-27T02:05:14.008Z"
   },
   {
    "duration": 208,
    "start_time": "2025-03-27T02:05:14.131Z"
   },
   {
    "duration": 90,
    "start_time": "2025-03-27T02:05:14.341Z"
   },
   {
    "duration": 77,
    "start_time": "2025-03-27T02:05:14.432Z"
   },
   {
    "duration": 440,
    "start_time": "2025-03-27T02:05:14.511Z"
   },
   {
    "duration": 826,
    "start_time": "2025-03-27T02:05:14.953Z"
   },
   {
    "duration": 3,
    "start_time": "2025-03-27T02:05:15.783Z"
   },
   {
    "duration": 140,
    "start_time": "2025-03-27T02:05:15.787Z"
   },
   {
    "duration": 71,
    "start_time": "2025-03-27T02:05:15.930Z"
   },
   {
    "duration": 847,
    "start_time": "2025-03-27T02:05:30.725Z"
   },
   {
    "duration": 18,
    "start_time": "2025-03-27T02:07:02.665Z"
   },
   {
    "duration": 17,
    "start_time": "2025-03-27T02:08:16.115Z"
   },
   {
    "duration": 16,
    "start_time": "2025-03-27T02:10:11.923Z"
   },
   {
    "duration": 1069,
    "start_time": "2025-03-27T02:10:16.688Z"
   },
   {
    "duration": 582,
    "start_time": "2025-03-27T02:10:17.760Z"
   },
   {
    "duration": 962,
    "start_time": "2025-03-27T02:10:18.344Z"
   },
   {
    "duration": 117,
    "start_time": "2025-03-27T02:10:19.309Z"
   },
   {
    "duration": 207,
    "start_time": "2025-03-27T02:10:19.428Z"
   },
   {
    "duration": 84,
    "start_time": "2025-03-27T02:10:19.636Z"
   },
   {
    "duration": 67,
    "start_time": "2025-03-27T02:10:19.722Z"
   },
   {
    "duration": 422,
    "start_time": "2025-03-27T02:10:19.792Z"
   },
   {
    "duration": 787,
    "start_time": "2025-03-27T02:10:20.216Z"
   },
   {
    "duration": 3,
    "start_time": "2025-03-27T02:10:21.007Z"
   },
   {
    "duration": 141,
    "start_time": "2025-03-27T02:10:21.012Z"
   },
   {
    "duration": 66,
    "start_time": "2025-03-27T02:10:21.157Z"
   },
   {
    "duration": 1136,
    "start_time": "2025-03-27T02:10:54.404Z"
   },
   {
    "duration": 553,
    "start_time": "2025-03-27T02:10:55.542Z"
   },
   {
    "duration": 1013,
    "start_time": "2025-03-27T02:10:56.097Z"
   },
   {
    "duration": 118,
    "start_time": "2025-03-27T02:10:57.113Z"
   },
   {
    "duration": 202,
    "start_time": "2025-03-27T02:10:57.233Z"
   },
   {
    "duration": 94,
    "start_time": "2025-03-27T02:10:57.436Z"
   },
   {
    "duration": 77,
    "start_time": "2025-03-27T02:10:57.532Z"
   },
   {
    "duration": 443,
    "start_time": "2025-03-27T02:10:57.611Z"
   },
   {
    "duration": 851,
    "start_time": "2025-03-27T02:10:58.056Z"
   },
   {
    "duration": 3,
    "start_time": "2025-03-27T02:10:58.911Z"
   },
   {
    "duration": 140,
    "start_time": "2025-03-27T02:10:58.916Z"
   },
   {
    "duration": 67,
    "start_time": "2025-03-27T02:10:59.058Z"
   },
   {
    "duration": 798,
    "start_time": "2025-03-27T02:15:48.858Z"
   },
   {
    "duration": 1043,
    "start_time": "2025-03-27T02:17:19.389Z"
   },
   {
    "duration": 575,
    "start_time": "2025-03-27T02:17:20.434Z"
   },
   {
    "duration": 993,
    "start_time": "2025-03-27T02:17:21.012Z"
   },
   {
    "duration": 117,
    "start_time": "2025-03-27T02:17:22.007Z"
   },
   {
    "duration": 201,
    "start_time": "2025-03-27T02:17:22.127Z"
   },
   {
    "duration": 82,
    "start_time": "2025-03-27T02:17:22.330Z"
   },
   {
    "duration": 55,
    "start_time": "2025-03-27T02:17:22.414Z"
   },
   {
    "duration": 435,
    "start_time": "2025-03-27T02:17:22.487Z"
   },
   {
    "duration": 791,
    "start_time": "2025-03-27T02:17:22.924Z"
   },
   {
    "duration": 3,
    "start_time": "2025-03-27T02:17:23.717Z"
   },
   {
    "duration": 137,
    "start_time": "2025-03-27T02:17:23.723Z"
   },
   {
    "duration": 82,
    "start_time": "2025-03-27T02:17:23.862Z"
   },
   {
    "duration": 1064,
    "start_time": "2025-03-27T02:17:46.273Z"
   },
   {
    "duration": 562,
    "start_time": "2025-03-27T02:17:47.339Z"
   },
   {
    "duration": 993,
    "start_time": "2025-03-27T02:17:47.903Z"
   },
   {
    "duration": 120,
    "start_time": "2025-03-27T02:17:48.897Z"
   },
   {
    "duration": 212,
    "start_time": "2025-03-27T02:17:49.021Z"
   },
   {
    "duration": 83,
    "start_time": "2025-03-27T02:17:49.235Z"
   },
   {
    "duration": 70,
    "start_time": "2025-03-27T02:17:49.320Z"
   },
   {
    "duration": 411,
    "start_time": "2025-03-27T02:17:49.392Z"
   },
   {
    "duration": 799,
    "start_time": "2025-03-27T02:17:49.804Z"
   },
   {
    "duration": 3,
    "start_time": "2025-03-27T02:17:50.605Z"
   },
   {
    "duration": 138,
    "start_time": "2025-03-27T02:17:50.610Z"
   },
   {
    "duration": 61,
    "start_time": "2025-03-27T02:17:50.750Z"
   },
   {
    "duration": 798,
    "start_time": "2025-03-27T02:18:07.385Z"
   },
   {
    "duration": 1063,
    "start_time": "2025-03-27T02:18:14.072Z"
   },
   {
    "duration": 558,
    "start_time": "2025-03-27T02:18:15.138Z"
   },
   {
    "duration": 1019,
    "start_time": "2025-03-27T02:18:15.698Z"
   },
   {
    "duration": 115,
    "start_time": "2025-03-27T02:18:16.719Z"
   },
   {
    "duration": 202,
    "start_time": "2025-03-27T02:18:16.838Z"
   },
   {
    "duration": 90,
    "start_time": "2025-03-27T02:18:17.042Z"
   },
   {
    "duration": 64,
    "start_time": "2025-03-27T02:18:17.135Z"
   },
   {
    "duration": 442,
    "start_time": "2025-03-27T02:18:17.201Z"
   },
   {
    "duration": 822,
    "start_time": "2025-03-27T02:18:17.645Z"
   },
   {
    "duration": 2,
    "start_time": "2025-03-27T02:18:18.469Z"
   },
   {
    "duration": 140,
    "start_time": "2025-03-27T02:18:18.473Z"
   },
   {
    "duration": 82,
    "start_time": "2025-03-27T02:18:18.614Z"
   },
   {
    "duration": 1274,
    "start_time": "2025-03-27T02:21:49.090Z"
   },
   {
    "duration": 726,
    "start_time": "2025-03-27T02:21:50.366Z"
   },
   {
    "duration": 1022,
    "start_time": "2025-03-27T02:21:51.096Z"
   },
   {
    "duration": 133,
    "start_time": "2025-03-27T02:21:52.120Z"
   },
   {
    "duration": 206,
    "start_time": "2025-03-27T02:21:52.257Z"
   },
   {
    "duration": 126,
    "start_time": "2025-03-27T02:21:52.465Z"
   },
   {
    "duration": 65,
    "start_time": "2025-03-27T02:21:52.594Z"
   },
   {
    "duration": 542,
    "start_time": "2025-03-27T02:21:52.661Z"
   },
   {
    "duration": 858,
    "start_time": "2025-03-27T02:21:53.206Z"
   },
   {
    "duration": 4,
    "start_time": "2025-03-27T02:21:54.066Z"
   },
   {
    "duration": 132,
    "start_time": "2025-03-27T02:21:54.072Z"
   },
   {
    "duration": 96,
    "start_time": "2025-03-27T02:21:54.206Z"
   },
   {
    "duration": 1139,
    "start_time": "2025-03-27T02:22:10.639Z"
   },
   {
    "duration": 625,
    "start_time": "2025-03-27T02:22:11.781Z"
   },
   {
    "duration": 999,
    "start_time": "2025-03-27T02:22:12.407Z"
   },
   {
    "duration": 124,
    "start_time": "2025-03-27T02:22:13.409Z"
   },
   {
    "duration": 210,
    "start_time": "2025-03-27T02:22:13.535Z"
   },
   {
    "duration": 101,
    "start_time": "2025-03-27T02:22:13.747Z"
   },
   {
    "duration": 59,
    "start_time": "2025-03-27T02:22:13.849Z"
   },
   {
    "duration": 433,
    "start_time": "2025-03-27T02:22:13.910Z"
   },
   {
    "duration": 810,
    "start_time": "2025-03-27T02:22:14.345Z"
   },
   {
    "duration": 4,
    "start_time": "2025-03-27T02:22:15.158Z"
   },
   {
    "duration": 138,
    "start_time": "2025-03-27T02:22:15.165Z"
   },
   {
    "duration": 69,
    "start_time": "2025-03-27T02:22:15.306Z"
   },
   {
    "duration": 1147,
    "start_time": "2025-03-27T02:25:21.101Z"
   },
   {
    "duration": 630,
    "start_time": "2025-03-27T02:25:22.250Z"
   },
   {
    "duration": 1047,
    "start_time": "2025-03-27T02:25:22.887Z"
   },
   {
    "duration": 160,
    "start_time": "2025-03-27T02:25:23.937Z"
   },
   {
    "duration": 201,
    "start_time": "2025-03-27T02:25:24.099Z"
   },
   {
    "duration": 87,
    "start_time": "2025-03-27T02:25:24.302Z"
   },
   {
    "duration": 59,
    "start_time": "2025-03-27T02:25:24.390Z"
   },
   {
    "duration": 440,
    "start_time": "2025-03-27T02:25:24.452Z"
   },
   {
    "duration": 789,
    "start_time": "2025-03-27T02:25:24.894Z"
   },
   {
    "duration": 3,
    "start_time": "2025-03-27T02:25:25.686Z"
   },
   {
    "duration": 146,
    "start_time": "2025-03-27T02:25:25.692Z"
   },
   {
    "duration": 92,
    "start_time": "2025-03-27T02:25:25.840Z"
   },
   {
    "duration": 1094,
    "start_time": "2025-03-27T02:27:14.478Z"
   },
   {
    "duration": 624,
    "start_time": "2025-03-27T02:27:15.575Z"
   },
   {
    "duration": 1000,
    "start_time": "2025-03-27T02:27:16.201Z"
   },
   {
    "duration": 119,
    "start_time": "2025-03-27T02:27:17.203Z"
   },
   {
    "duration": 208,
    "start_time": "2025-03-27T02:27:17.324Z"
   },
   {
    "duration": 88,
    "start_time": "2025-03-27T02:27:17.533Z"
   },
   {
    "duration": 49,
    "start_time": "2025-03-27T02:27:17.623Z"
   },
   {
    "duration": 437,
    "start_time": "2025-03-27T02:27:17.687Z"
   },
   {
    "duration": 825,
    "start_time": "2025-03-27T02:27:18.126Z"
   },
   {
    "duration": 4,
    "start_time": "2025-03-27T02:27:18.954Z"
   },
   {
    "duration": 141,
    "start_time": "2025-03-27T02:27:18.960Z"
   },
   {
    "duration": 68,
    "start_time": "2025-03-27T02:27:19.104Z"
   },
   {
    "duration": 783,
    "start_time": "2025-03-27T02:27:39.162Z"
   },
   {
    "duration": 29,
    "start_time": "2025-03-27T02:27:41.793Z"
   },
   {
    "duration": 1123,
    "start_time": "2025-03-27T02:27:57.213Z"
   },
   {
    "duration": 599,
    "start_time": "2025-03-27T02:27:58.338Z"
   },
   {
    "duration": 974,
    "start_time": "2025-03-27T02:27:58.940Z"
   },
   {
    "duration": 124,
    "start_time": "2025-03-27T02:27:59.916Z"
   },
   {
    "duration": 201,
    "start_time": "2025-03-27T02:28:00.043Z"
   },
   {
    "duration": 85,
    "start_time": "2025-03-27T02:28:00.246Z"
   },
   {
    "duration": 62,
    "start_time": "2025-03-27T02:28:00.333Z"
   },
   {
    "duration": 434,
    "start_time": "2025-03-27T02:28:00.398Z"
   },
   {
    "duration": 817,
    "start_time": "2025-03-27T02:28:00.834Z"
   },
   {
    "duration": 3,
    "start_time": "2025-03-27T02:28:01.653Z"
   },
   {
    "duration": 140,
    "start_time": "2025-03-27T02:28:01.658Z"
   },
   {
    "duration": 66,
    "start_time": "2025-03-27T02:28:01.799Z"
   },
   {
    "duration": 1128,
    "start_time": "2025-03-27T02:29:20.409Z"
   },
   {
    "duration": 628,
    "start_time": "2025-03-27T02:29:21.540Z"
   },
   {
    "duration": 1039,
    "start_time": "2025-03-27T02:29:22.170Z"
   },
   {
    "duration": 125,
    "start_time": "2025-03-27T02:29:23.211Z"
   },
   {
    "duration": 203,
    "start_time": "2025-03-27T02:29:23.338Z"
   },
   {
    "duration": 88,
    "start_time": "2025-03-27T02:29:23.543Z"
   },
   {
    "duration": 60,
    "start_time": "2025-03-27T02:29:23.632Z"
   },
   {
    "duration": 435,
    "start_time": "2025-03-27T02:29:23.694Z"
   },
   {
    "duration": 828,
    "start_time": "2025-03-27T02:29:24.131Z"
   },
   {
    "duration": 3,
    "start_time": "2025-03-27T02:29:24.961Z"
   },
   {
    "duration": 136,
    "start_time": "2025-03-27T02:29:24.966Z"
   },
   {
    "duration": 65,
    "start_time": "2025-03-27T02:29:25.104Z"
   },
   {
    "duration": 805,
    "start_time": "2025-03-27T02:30:54.254Z"
   },
   {
    "duration": 3479,
    "start_time": "2025-03-29T19:56:03.875Z"
   },
   {
    "duration": 707,
    "start_time": "2025-03-29T19:56:07.356Z"
   },
   {
    "duration": 1134,
    "start_time": "2025-03-29T19:56:08.065Z"
   },
   {
    "duration": 138,
    "start_time": "2025-03-29T19:56:09.202Z"
   },
   {
    "duration": 229,
    "start_time": "2025-03-29T19:56:09.342Z"
   },
   {
    "duration": 107,
    "start_time": "2025-03-29T19:56:09.573Z"
   },
   {
    "duration": 59,
    "start_time": "2025-03-29T19:56:09.683Z"
   },
   {
    "duration": 545,
    "start_time": "2025-03-29T19:56:09.745Z"
   },
   {
    "duration": 770,
    "start_time": "2025-03-29T19:56:10.296Z"
   },
   {
    "duration": 4,
    "start_time": "2025-03-29T19:56:11.071Z"
   },
   {
    "duration": 160,
    "start_time": "2025-03-29T19:56:11.077Z"
   },
   {
    "duration": 98,
    "start_time": "2025-03-29T19:56:11.239Z"
   },
   {
    "duration": 1135,
    "start_time": "2025-03-29T20:00:35.736Z"
   },
   {
    "duration": 660,
    "start_time": "2025-03-29T20:00:36.878Z"
   },
   {
    "duration": 1043,
    "start_time": "2025-03-29T20:00:37.540Z"
   },
   {
    "duration": 130,
    "start_time": "2025-03-29T20:00:38.587Z"
   },
   {
    "duration": 201,
    "start_time": "2025-03-29T20:00:38.720Z"
   },
   {
    "duration": 105,
    "start_time": "2025-03-29T20:00:38.923Z"
   },
   {
    "duration": 75,
    "start_time": "2025-03-29T20:00:39.032Z"
   },
   {
    "duration": 484,
    "start_time": "2025-03-29T20:00:39.109Z"
   },
   {
    "duration": 809,
    "start_time": "2025-03-29T20:00:39.595Z"
   },
   {
    "duration": 3,
    "start_time": "2025-03-29T20:00:40.408Z"
   },
   {
    "duration": 157,
    "start_time": "2025-03-29T20:00:40.413Z"
   },
   {
    "duration": 68,
    "start_time": "2025-03-29T20:00:40.572Z"
   },
   {
    "duration": 854,
    "start_time": "2025-03-29T20:02:44.946Z"
   },
   {
    "duration": 21,
    "start_time": "2025-03-29T20:03:17.198Z"
   },
   {
    "duration": 1102,
    "start_time": "2025-03-29T20:03:27.802Z"
   },
   {
    "duration": 672,
    "start_time": "2025-03-29T20:03:28.907Z"
   },
   {
    "duration": 1005,
    "start_time": "2025-03-29T20:03:29.582Z"
   },
   {
    "duration": 140,
    "start_time": "2025-03-29T20:03:30.592Z"
   },
   {
    "duration": 252,
    "start_time": "2025-03-29T20:03:30.737Z"
   },
   {
    "duration": 125,
    "start_time": "2025-03-29T20:03:30.991Z"
   },
   {
    "duration": 66,
    "start_time": "2025-03-29T20:03:31.118Z"
   },
   {
    "duration": 572,
    "start_time": "2025-03-29T20:03:31.187Z"
   },
   {
    "duration": 938,
    "start_time": "2025-03-29T20:03:31.761Z"
   },
   {
    "duration": 3,
    "start_time": "2025-03-29T20:03:32.703Z"
   },
   {
    "duration": 140,
    "start_time": "2025-03-29T20:03:32.708Z"
   },
   {
    "duration": 871,
    "start_time": "2025-03-29T20:03:45.956Z"
   },
   {
    "duration": 16,
    "start_time": "2025-03-29T20:04:44.441Z"
   },
   {
    "duration": 1067,
    "start_time": "2025-03-29T20:04:50.335Z"
   },
   {
    "duration": 642,
    "start_time": "2025-03-29T20:04:51.404Z"
   },
   {
    "duration": 954,
    "start_time": "2025-03-29T20:04:52.048Z"
   },
   {
    "duration": 155,
    "start_time": "2025-03-29T20:04:53.005Z"
   },
   {
    "duration": 198,
    "start_time": "2025-03-29T20:04:53.162Z"
   },
   {
    "duration": 82,
    "start_time": "2025-03-29T20:04:53.362Z"
   },
   {
    "duration": 66,
    "start_time": "2025-03-29T20:04:53.446Z"
   },
   {
    "duration": 450,
    "start_time": "2025-03-29T20:04:53.514Z"
   },
   {
    "duration": 809,
    "start_time": "2025-03-29T20:04:53.970Z"
   },
   {
    "duration": 4,
    "start_time": "2025-03-29T20:04:54.781Z"
   },
   {
    "duration": 139,
    "start_time": "2025-03-29T20:04:54.786Z"
   },
   {
    "duration": 162,
    "start_time": "2025-03-29T20:08:55.246Z"
   },
   {
    "duration": 13,
    "start_time": "2025-03-29T20:09:16.933Z"
   },
   {
    "duration": 1102,
    "start_time": "2025-03-29T20:09:23.903Z"
   },
   {
    "duration": 676,
    "start_time": "2025-03-29T20:09:25.007Z"
   },
   {
    "duration": 1018,
    "start_time": "2025-03-29T20:09:25.685Z"
   },
   {
    "duration": 142,
    "start_time": "2025-03-29T20:09:26.706Z"
   },
   {
    "duration": 200,
    "start_time": "2025-03-29T20:09:26.850Z"
   },
   {
    "duration": 80,
    "start_time": "2025-03-29T20:09:27.052Z"
   },
   {
    "duration": 74,
    "start_time": "2025-03-29T20:09:27.133Z"
   },
   {
    "duration": 425,
    "start_time": "2025-03-29T20:09:27.209Z"
   },
   {
    "duration": 795,
    "start_time": "2025-03-29T20:09:27.636Z"
   },
   {
    "duration": 3,
    "start_time": "2025-03-29T20:09:28.434Z"
   },
   {
    "duration": 171,
    "start_time": "2025-03-29T20:09:28.438Z"
   },
   {
    "duration": 841,
    "start_time": "2025-03-29T20:10:15.491Z"
   },
   {
    "duration": 15,
    "start_time": "2025-03-29T20:10:19.285Z"
   },
   {
    "duration": 15,
    "start_time": "2025-03-29T20:10:49.802Z"
   },
   {
    "duration": 1122,
    "start_time": "2025-03-29T20:13:56.676Z"
   },
   {
    "duration": 621,
    "start_time": "2025-03-29T20:13:57.800Z"
   },
   {
    "duration": 963,
    "start_time": "2025-03-29T20:13:58.423Z"
   },
   {
    "duration": 119,
    "start_time": "2025-03-29T20:13:59.389Z"
   },
   {
    "duration": 196,
    "start_time": "2025-03-29T20:13:59.511Z"
   },
   {
    "duration": 82,
    "start_time": "2025-03-29T20:13:59.710Z"
   },
   {
    "duration": 48,
    "start_time": "2025-03-29T20:13:59.794Z"
   },
   {
    "duration": 465,
    "start_time": "2025-03-29T20:13:59.844Z"
   },
   {
    "duration": 761,
    "start_time": "2025-03-29T20:14:00.310Z"
   },
   {
    "duration": 4,
    "start_time": "2025-03-29T20:14:01.072Z"
   },
   {
    "duration": 242,
    "start_time": "2025-03-29T20:14:01.078Z"
   },
   {
    "duration": 0,
    "start_time": "2025-03-29T20:14:01.322Z"
   },
   {
    "duration": 0,
    "start_time": "2025-03-29T20:14:01.323Z"
   },
   {
    "duration": 0,
    "start_time": "2025-03-29T20:14:01.324Z"
   },
   {
    "duration": 0,
    "start_time": "2025-03-29T20:14:01.325Z"
   },
   {
    "duration": 0,
    "start_time": "2025-03-29T20:14:01.326Z"
   },
   {
    "duration": 0,
    "start_time": "2025-03-29T20:14:01.327Z"
   },
   {
    "duration": 1072,
    "start_time": "2025-03-29T20:14:47.745Z"
   },
   {
    "duration": 588,
    "start_time": "2025-03-29T20:14:48.820Z"
   },
   {
    "duration": 973,
    "start_time": "2025-03-29T20:14:49.410Z"
   },
   {
    "duration": 125,
    "start_time": "2025-03-29T20:14:50.385Z"
   },
   {
    "duration": 194,
    "start_time": "2025-03-29T20:14:50.512Z"
   },
   {
    "duration": 86,
    "start_time": "2025-03-29T20:14:50.708Z"
   },
   {
    "duration": 74,
    "start_time": "2025-03-29T20:14:50.796Z"
   },
   {
    "duration": 425,
    "start_time": "2025-03-29T20:14:50.872Z"
   },
   {
    "duration": 793,
    "start_time": "2025-03-29T20:14:51.298Z"
   },
   {
    "duration": 4,
    "start_time": "2025-03-29T20:14:52.093Z"
   },
   {
    "duration": 150,
    "start_time": "2025-03-29T20:14:52.098Z"
   },
   {
    "duration": 825,
    "start_time": "2025-03-29T20:16:07.813Z"
   },
   {
    "duration": 1101,
    "start_time": "2025-03-29T20:17:04.397Z"
   },
   {
    "duration": 633,
    "start_time": "2025-03-29T20:17:05.500Z"
   },
   {
    "duration": 1059,
    "start_time": "2025-03-29T20:17:06.134Z"
   },
   {
    "duration": 126,
    "start_time": "2025-03-29T20:17:07.196Z"
   },
   {
    "duration": 202,
    "start_time": "2025-03-29T20:17:07.324Z"
   },
   {
    "duration": 82,
    "start_time": "2025-03-29T20:17:07.529Z"
   },
   {
    "duration": 73,
    "start_time": "2025-03-29T20:17:07.613Z"
   },
   {
    "duration": 415,
    "start_time": "2025-03-29T20:17:07.688Z"
   },
   {
    "duration": 809,
    "start_time": "2025-03-29T20:17:08.105Z"
   },
   {
    "duration": 3,
    "start_time": "2025-03-29T20:17:08.917Z"
   },
   {
    "duration": 143,
    "start_time": "2025-03-29T20:17:08.922Z"
   },
   {
    "duration": 1137,
    "start_time": "2025-03-29T20:22:10.424Z"
   },
   {
    "duration": 637,
    "start_time": "2025-03-29T20:22:11.565Z"
   },
   {
    "duration": 998,
    "start_time": "2025-03-29T20:22:12.203Z"
   },
   {
    "duration": 120,
    "start_time": "2025-03-29T20:22:13.204Z"
   },
   {
    "duration": 202,
    "start_time": "2025-03-29T20:22:13.326Z"
   },
   {
    "duration": 83,
    "start_time": "2025-03-29T20:22:13.530Z"
   },
   {
    "duration": 72,
    "start_time": "2025-03-29T20:22:13.615Z"
   },
   {
    "duration": 221,
    "start_time": "2025-03-29T20:22:13.689Z"
   },
   {
    "duration": 802,
    "start_time": "2025-03-29T20:22:13.912Z"
   },
   {
    "duration": 6,
    "start_time": "2025-03-29T20:22:14.718Z"
   },
   {
    "duration": 45,
    "start_time": "2025-03-29T20:22:14.726Z"
   },
   {
    "duration": 219,
    "start_time": "2025-03-29T20:26:39.954Z"
   },
   {
    "duration": 1102,
    "start_time": "2025-03-29T20:26:51.533Z"
   },
   {
    "duration": 675,
    "start_time": "2025-03-29T20:26:52.637Z"
   },
   {
    "duration": 987,
    "start_time": "2025-03-29T20:26:53.314Z"
   },
   {
    "duration": 121,
    "start_time": "2025-03-29T20:26:54.303Z"
   },
   {
    "duration": 202,
    "start_time": "2025-03-29T20:26:54.428Z"
   },
   {
    "duration": 102,
    "start_time": "2025-03-29T20:26:54.632Z"
   },
   {
    "duration": 72,
    "start_time": "2025-03-29T20:26:54.736Z"
   },
   {
    "duration": 468,
    "start_time": "2025-03-29T20:26:54.810Z"
   },
   {
    "duration": 795,
    "start_time": "2025-03-29T20:26:55.279Z"
   },
   {
    "duration": 4,
    "start_time": "2025-03-29T20:26:56.076Z"
   },
   {
    "duration": 190,
    "start_time": "2025-03-29T20:26:56.081Z"
   },
   {
    "duration": 205,
    "start_time": "2025-03-29T20:27:57.429Z"
   },
   {
    "duration": 658,
    "start_time": "2025-03-29T20:28:01.148Z"
   },
   {
    "duration": 15,
    "start_time": "2025-03-29T20:28:04.367Z"
   },
   {
    "duration": 20,
    "start_time": "2025-03-29T20:28:05.527Z"
   },
   {
    "duration": 17,
    "start_time": "2025-03-29T20:28:11.116Z"
   },
   {
    "duration": 18,
    "start_time": "2025-03-29T20:28:14.067Z"
   },
   {
    "duration": 1158,
    "start_time": "2025-03-29T20:30:23.885Z"
   },
   {
    "duration": 700,
    "start_time": "2025-03-29T20:30:25.047Z"
   },
   {
    "duration": 1050,
    "start_time": "2025-03-29T20:30:25.749Z"
   },
   {
    "duration": 129,
    "start_time": "2025-03-29T20:30:26.804Z"
   },
   {
    "duration": 229,
    "start_time": "2025-03-29T20:30:26.935Z"
   },
   {
    "duration": 117,
    "start_time": "2025-03-29T20:30:27.166Z"
   },
   {
    "duration": 65,
    "start_time": "2025-03-29T20:30:27.292Z"
   },
   {
    "duration": 543,
    "start_time": "2025-03-29T20:30:27.360Z"
   },
   {
    "duration": 954,
    "start_time": "2025-03-29T20:30:27.905Z"
   },
   {
    "duration": 3,
    "start_time": "2025-03-29T20:30:28.862Z"
   },
   {
    "duration": 55,
    "start_time": "2025-03-29T20:30:28.867Z"
   },
   {
    "duration": 1186,
    "start_time": "2025-03-29T20:33:34.753Z"
   },
   {
    "duration": 747,
    "start_time": "2025-03-29T20:33:35.941Z"
   },
   {
    "duration": 1014,
    "start_time": "2025-03-29T20:33:36.690Z"
   },
   {
    "duration": 134,
    "start_time": "2025-03-29T20:33:37.706Z"
   },
   {
    "duration": 223,
    "start_time": "2025-03-29T20:33:37.842Z"
   },
   {
    "duration": 100,
    "start_time": "2025-03-29T20:33:38.070Z"
   },
   {
    "duration": 60,
    "start_time": "2025-03-29T20:33:38.172Z"
   },
   {
    "duration": 578,
    "start_time": "2025-03-29T20:33:38.234Z"
   },
   {
    "duration": 852,
    "start_time": "2025-03-29T20:33:38.815Z"
   },
   {
    "duration": 4,
    "start_time": "2025-03-29T20:33:39.669Z"
   },
   {
    "duration": 46,
    "start_time": "2025-03-29T20:33:39.677Z"
   },
   {
    "duration": 234,
    "start_time": "2025-03-29T20:34:51.499Z"
   },
   {
    "duration": 1204,
    "start_time": "2025-03-29T20:36:35.454Z"
   },
   {
    "duration": 768,
    "start_time": "2025-03-29T20:36:36.660Z"
   },
   {
    "duration": 1060,
    "start_time": "2025-03-29T20:36:37.430Z"
   },
   {
    "duration": 142,
    "start_time": "2025-03-29T20:36:38.492Z"
   },
   {
    "duration": 218,
    "start_time": "2025-03-29T20:36:38.635Z"
   },
   {
    "duration": 99,
    "start_time": "2025-03-29T20:36:38.855Z"
   },
   {
    "duration": 84,
    "start_time": "2025-03-29T20:36:38.956Z"
   },
   {
    "duration": 492,
    "start_time": "2025-03-29T20:36:39.042Z"
   },
   {
    "duration": 910,
    "start_time": "2025-03-29T20:36:39.536Z"
   },
   {
    "duration": 4,
    "start_time": "2025-03-29T20:36:40.450Z"
   },
   {
    "duration": 102,
    "start_time": "2025-03-29T20:36:40.455Z"
   },
   {
    "duration": 55,
    "start_time": "2025-03-29T20:36:40.559Z"
   },
   {
    "duration": 897,
    "start_time": "2025-03-29T20:37:05.226Z"
   },
   {
    "duration": 24,
    "start_time": "2025-03-29T20:37:07.592Z"
   },
   {
    "duration": 18,
    "start_time": "2025-03-29T20:37:12.189Z"
   },
   {
    "duration": 32,
    "start_time": "2025-03-29T20:37:13.196Z"
   },
   {
    "duration": 15,
    "start_time": "2025-03-29T20:37:15.635Z"
   },
   {
    "duration": 5,
    "start_time": "2025-03-29T20:37:20.229Z"
   },
   {
    "duration": 1089,
    "start_time": "2025-03-29T20:40:06.933Z"
   },
   {
    "duration": 683,
    "start_time": "2025-03-29T20:40:08.024Z"
   },
   {
    "duration": 999,
    "start_time": "2025-03-29T20:40:08.709Z"
   },
   {
    "duration": 140,
    "start_time": "2025-03-29T20:40:09.710Z"
   },
   {
    "duration": 219,
    "start_time": "2025-03-29T20:40:09.852Z"
   },
   {
    "duration": 106,
    "start_time": "2025-03-29T20:40:10.073Z"
   },
   {
    "duration": 69,
    "start_time": "2025-03-29T20:40:10.181Z"
   },
   {
    "duration": 605,
    "start_time": "2025-03-29T20:40:10.253Z"
   },
   {
    "duration": 871,
    "start_time": "2025-03-29T20:40:10.860Z"
   },
   {
    "duration": 3,
    "start_time": "2025-03-29T20:40:11.734Z"
   },
   {
    "duration": 97,
    "start_time": "2025-03-29T20:40:11.739Z"
   },
   {
    "duration": 42,
    "start_time": "2025-03-29T20:40:11.837Z"
   },
   {
    "duration": 927,
    "start_time": "2025-03-29T20:40:42.582Z"
   },
   {
    "duration": 29,
    "start_time": "2025-03-29T20:40:45.178Z"
   },
   {
    "duration": 27,
    "start_time": "2025-03-29T20:40:47.816Z"
   },
   {
    "duration": 14,
    "start_time": "2025-03-29T20:40:48.953Z"
   },
   {
    "duration": 7,
    "start_time": "2025-03-29T20:40:54.184Z"
   },
   {
    "duration": 1054,
    "start_time": "2025-03-29T20:47:05.065Z"
   },
   {
    "duration": 668,
    "start_time": "2025-03-29T20:47:06.121Z"
   },
   {
    "duration": 998,
    "start_time": "2025-03-29T20:47:06.791Z"
   },
   {
    "duration": 124,
    "start_time": "2025-03-29T20:47:07.793Z"
   },
   {
    "duration": 197,
    "start_time": "2025-03-29T20:47:07.919Z"
   },
   {
    "duration": 88,
    "start_time": "2025-03-29T20:47:08.119Z"
   },
   {
    "duration": 62,
    "start_time": "2025-03-29T20:47:08.208Z"
   },
   {
    "duration": 492,
    "start_time": "2025-03-29T20:47:08.272Z"
   },
   {
    "duration": 784,
    "start_time": "2025-03-29T20:47:08.770Z"
   },
   {
    "duration": 3,
    "start_time": "2025-03-29T20:47:09.557Z"
   },
   {
    "duration": 76,
    "start_time": "2025-03-29T20:47:09.562Z"
   },
   {
    "duration": 47,
    "start_time": "2025-03-29T20:47:09.640Z"
   },
   {
    "duration": 1138,
    "start_time": "2025-03-29T20:49:13.292Z"
   },
   {
    "duration": 614,
    "start_time": "2025-03-29T20:49:14.432Z"
   },
   {
    "duration": 1027,
    "start_time": "2025-03-29T20:49:15.048Z"
   },
   {
    "duration": 121,
    "start_time": "2025-03-29T20:49:16.078Z"
   },
   {
    "duration": 216,
    "start_time": "2025-03-29T20:49:16.201Z"
   },
   {
    "duration": 86,
    "start_time": "2025-03-29T20:49:16.419Z"
   },
   {
    "duration": 63,
    "start_time": "2025-03-29T20:49:16.507Z"
   },
   {
    "duration": 487,
    "start_time": "2025-03-29T20:49:16.573Z"
   },
   {
    "duration": 796,
    "start_time": "2025-03-29T20:49:17.063Z"
   },
   {
    "duration": 3,
    "start_time": "2025-03-29T20:49:17.862Z"
   },
   {
    "duration": 69,
    "start_time": "2025-03-29T20:49:17.867Z"
   },
   {
    "duration": 14,
    "start_time": "2025-03-29T20:49:17.938Z"
   },
   {
    "duration": 42,
    "start_time": "2025-03-29T20:49:17.954Z"
   },
   {
    "duration": 827,
    "start_time": "2025-03-29T20:49:46.526Z"
   },
   {
    "duration": 23,
    "start_time": "2025-03-29T20:49:49.435Z"
   },
   {
    "duration": 28,
    "start_time": "2025-03-29T20:49:53.238Z"
   },
   {
    "duration": 14,
    "start_time": "2025-03-29T20:49:54.820Z"
   },
   {
    "duration": 1077,
    "start_time": "2025-03-29T20:50:36.354Z"
   },
   {
    "duration": 617,
    "start_time": "2025-03-29T20:50:37.434Z"
   },
   {
    "duration": 957,
    "start_time": "2025-03-29T20:50:38.053Z"
   },
   {
    "duration": 158,
    "start_time": "2025-03-29T20:50:39.013Z"
   },
   {
    "duration": 199,
    "start_time": "2025-03-29T20:50:39.173Z"
   },
   {
    "duration": 79,
    "start_time": "2025-03-29T20:50:39.374Z"
   },
   {
    "duration": 61,
    "start_time": "2025-03-29T20:50:39.455Z"
   },
   {
    "duration": 472,
    "start_time": "2025-03-29T20:50:39.518Z"
   },
   {
    "duration": 770,
    "start_time": "2025-03-29T20:50:39.992Z"
   },
   {
    "duration": 4,
    "start_time": "2025-03-29T20:50:40.766Z"
   },
   {
    "duration": 70,
    "start_time": "2025-03-29T20:50:40.772Z"
   },
   {
    "duration": 14,
    "start_time": "2025-03-29T20:50:40.843Z"
   },
   {
    "duration": 35,
    "start_time": "2025-03-29T20:50:40.871Z"
   },
   {
    "duration": 790,
    "start_time": "2025-03-29T20:51:44.153Z"
   },
   {
    "duration": 1086,
    "start_time": "2025-03-29T20:52:43.926Z"
   },
   {
    "duration": 620,
    "start_time": "2025-03-29T20:52:45.014Z"
   },
   {
    "duration": 957,
    "start_time": "2025-03-29T20:52:45.636Z"
   },
   {
    "duration": 125,
    "start_time": "2025-03-29T20:52:46.595Z"
   },
   {
    "duration": 215,
    "start_time": "2025-03-29T20:52:46.723Z"
   },
   {
    "duration": 95,
    "start_time": "2025-03-29T20:52:46.940Z"
   },
   {
    "duration": 61,
    "start_time": "2025-03-29T20:52:47.037Z"
   },
   {
    "duration": 475,
    "start_time": "2025-03-29T20:52:47.100Z"
   },
   {
    "duration": 798,
    "start_time": "2025-03-29T20:52:47.577Z"
   },
   {
    "duration": 3,
    "start_time": "2025-03-29T20:52:48.378Z"
   },
   {
    "duration": 72,
    "start_time": "2025-03-29T20:52:48.383Z"
   },
   {
    "duration": 26,
    "start_time": "2025-03-29T20:52:48.458Z"
   },
   {
    "duration": 34,
    "start_time": "2025-03-29T20:52:48.486Z"
   },
   {
    "duration": 1095,
    "start_time": "2025-03-29T20:54:03.217Z"
   },
   {
    "duration": 641,
    "start_time": "2025-03-29T20:54:04.314Z"
   },
   {
    "duration": 1020,
    "start_time": "2025-03-29T20:54:04.957Z"
   },
   {
    "duration": 124,
    "start_time": "2025-03-29T20:54:05.980Z"
   },
   {
    "duration": 198,
    "start_time": "2025-03-29T20:54:06.105Z"
   },
   {
    "duration": 87,
    "start_time": "2025-03-29T20:54:06.306Z"
   },
   {
    "duration": 59,
    "start_time": "2025-03-29T20:54:06.394Z"
   },
   {
    "duration": 486,
    "start_time": "2025-03-29T20:54:06.456Z"
   },
   {
    "duration": 771,
    "start_time": "2025-03-29T20:54:06.944Z"
   },
   {
    "duration": 5,
    "start_time": "2025-03-29T20:54:07.719Z"
   },
   {
    "duration": 28,
    "start_time": "2025-03-29T20:54:07.726Z"
   },
   {
    "duration": 8,
    "start_time": "2025-03-29T20:54:07.756Z"
   },
   {
    "duration": 13,
    "start_time": "2025-03-29T20:54:07.765Z"
   },
   {
    "duration": 1691,
    "start_time": "2025-03-29T20:54:07.779Z"
   },
   {
    "duration": 1062,
    "start_time": "2025-03-29T20:55:00.873Z"
   },
   {
    "duration": 562,
    "start_time": "2025-03-29T20:55:01.937Z"
   },
   {
    "duration": 991,
    "start_time": "2025-03-29T20:55:02.501Z"
   },
   {
    "duration": 123,
    "start_time": "2025-03-29T20:55:03.494Z"
   },
   {
    "duration": 195,
    "start_time": "2025-03-29T20:55:03.621Z"
   },
   {
    "duration": 86,
    "start_time": "2025-03-29T20:55:03.818Z"
   },
   {
    "duration": 80,
    "start_time": "2025-03-29T20:55:03.907Z"
   },
   {
    "duration": 462,
    "start_time": "2025-03-29T20:55:03.989Z"
   },
   {
    "duration": 785,
    "start_time": "2025-03-29T20:55:04.454Z"
   },
   {
    "duration": 4,
    "start_time": "2025-03-29T20:55:05.241Z"
   },
   {
    "duration": 30,
    "start_time": "2025-03-29T20:55:05.247Z"
   },
   {
    "duration": 8,
    "start_time": "2025-03-29T20:55:05.279Z"
   },
   {
    "duration": 12,
    "start_time": "2025-03-29T20:55:05.289Z"
   },
   {
    "duration": 1738,
    "start_time": "2025-03-29T20:55:05.304Z"
   },
   {
    "duration": 1099,
    "start_time": "2025-03-29T20:58:48.997Z"
   },
   {
    "duration": 561,
    "start_time": "2025-03-29T20:58:50.099Z"
   },
   {
    "duration": 1020,
    "start_time": "2025-03-29T20:58:50.671Z"
   },
   {
    "duration": 122,
    "start_time": "2025-03-29T20:58:51.693Z"
   },
   {
    "duration": 198,
    "start_time": "2025-03-29T20:58:51.817Z"
   },
   {
    "duration": 87,
    "start_time": "2025-03-29T20:58:52.017Z"
   },
   {
    "duration": 64,
    "start_time": "2025-03-29T20:58:52.106Z"
   },
   {
    "duration": 461,
    "start_time": "2025-03-29T20:58:52.172Z"
   },
   {
    "duration": 735,
    "start_time": "2025-03-29T20:58:52.635Z"
   },
   {
    "duration": 4,
    "start_time": "2025-03-29T20:58:53.373Z"
   },
   {
    "duration": 28,
    "start_time": "2025-03-29T20:58:53.378Z"
   },
   {
    "duration": 8,
    "start_time": "2025-03-29T20:58:53.407Z"
   },
   {
    "duration": 12,
    "start_time": "2025-03-29T20:58:53.417Z"
   },
   {
    "duration": 64,
    "start_time": "2025-03-29T20:58:53.431Z"
   },
   {
    "duration": 49,
    "start_time": "2025-03-29T20:58:53.497Z"
   },
   {
    "duration": 377,
    "start_time": "2025-03-29T20:58:53.548Z"
   },
   {
    "duration": 0,
    "start_time": "2025-03-29T20:58:53.927Z"
   },
   {
    "duration": 0,
    "start_time": "2025-03-29T20:58:53.928Z"
   },
   {
    "duration": 0,
    "start_time": "2025-03-29T20:58:53.929Z"
   },
   {
    "duration": 41376,
    "start_time": "2025-03-29T20:59:07.118Z"
   },
   {
    "duration": 4365,
    "start_time": "2025-03-29T20:59:48.495Z"
   },
   {
    "duration": 5,
    "start_time": "2025-03-29T21:02:25.532Z"
   },
   {
    "duration": 1115,
    "start_time": "2025-03-29T21:03:08.695Z"
   },
   {
    "duration": 563,
    "start_time": "2025-03-29T21:03:09.812Z"
   },
   {
    "duration": 1017,
    "start_time": "2025-03-29T21:03:10.376Z"
   },
   {
    "duration": 129,
    "start_time": "2025-03-29T21:03:11.397Z"
   },
   {
    "duration": 199,
    "start_time": "2025-03-29T21:03:11.528Z"
   },
   {
    "duration": 82,
    "start_time": "2025-03-29T21:03:11.729Z"
   },
   {
    "duration": 59,
    "start_time": "2025-03-29T21:03:11.814Z"
   },
   {
    "duration": 460,
    "start_time": "2025-03-29T21:03:11.875Z"
   },
   {
    "duration": 741,
    "start_time": "2025-03-29T21:03:12.337Z"
   },
   {
    "duration": 3,
    "start_time": "2025-03-29T21:03:13.082Z"
   },
   {
    "duration": 28,
    "start_time": "2025-03-29T21:03:13.087Z"
   },
   {
    "duration": 7,
    "start_time": "2025-03-29T21:03:13.117Z"
   },
   {
    "duration": 13,
    "start_time": "2025-03-29T21:03:13.126Z"
   },
   {
    "duration": 59,
    "start_time": "2025-03-29T21:03:13.141Z"
   },
   {
    "duration": 51,
    "start_time": "2025-03-29T21:03:13.202Z"
   },
   {
    "duration": 7367,
    "start_time": "2025-03-29T21:03:13.255Z"
   },
   {
    "duration": 0,
    "start_time": "2025-03-29T21:03:20.625Z"
   },
   {
    "duration": 0,
    "start_time": "2025-03-29T21:03:20.626Z"
   },
   {
    "duration": 0,
    "start_time": "2025-03-29T21:03:20.628Z"
   },
   {
    "duration": 41202,
    "start_time": "2025-03-29T21:04:56.331Z"
   },
   {
    "duration": 4346,
    "start_time": "2025-03-29T21:05:37.535Z"
   },
   {
    "duration": 6653,
    "start_time": "2025-03-29T21:07:45.913Z"
   },
   {
    "duration": 5,
    "start_time": "2025-03-29T21:08:14.233Z"
   },
   {
    "duration": 6538,
    "start_time": "2025-03-29T21:09:00.301Z"
   },
   {
    "duration": 1005,
    "start_time": "2025-03-29T21:10:31.729Z"
   },
   {
    "duration": 573,
    "start_time": "2025-03-29T21:10:32.736Z"
   },
   {
    "duration": 983,
    "start_time": "2025-03-29T21:10:33.311Z"
   },
   {
    "duration": 119,
    "start_time": "2025-03-29T21:10:34.297Z"
   },
   {
    "duration": 201,
    "start_time": "2025-03-29T21:10:34.417Z"
   },
   {
    "duration": 83,
    "start_time": "2025-03-29T21:10:34.620Z"
   },
   {
    "duration": 49,
    "start_time": "2025-03-29T21:10:34.705Z"
   },
   {
    "duration": 471,
    "start_time": "2025-03-29T21:10:34.756Z"
   },
   {
    "duration": 743,
    "start_time": "2025-03-29T21:10:35.228Z"
   },
   {
    "duration": 3,
    "start_time": "2025-03-29T21:10:35.974Z"
   },
   {
    "duration": 27,
    "start_time": "2025-03-29T21:10:35.979Z"
   },
   {
    "duration": 7,
    "start_time": "2025-03-29T21:10:36.008Z"
   },
   {
    "duration": 13,
    "start_time": "2025-03-29T21:10:36.017Z"
   },
   {
    "duration": 68,
    "start_time": "2025-03-29T21:10:36.031Z"
   },
   {
    "duration": 69,
    "start_time": "2025-03-29T21:10:36.101Z"
   },
   {
    "duration": 4,
    "start_time": "2025-03-29T21:10:36.172Z"
   },
   {
    "duration": 0,
    "start_time": "2025-03-29T21:11:04.675Z"
   },
   {
    "duration": 0,
    "start_time": "2025-03-29T21:11:04.676Z"
   },
   {
    "duration": 0,
    "start_time": "2025-03-29T21:11:04.678Z"
   },
   {
    "duration": 0,
    "start_time": "2025-03-29T21:11:04.679Z"
   },
   {
    "duration": 1113,
    "start_time": "2025-03-29T21:11:17.003Z"
   },
   {
    "duration": 576,
    "start_time": "2025-03-29T21:11:18.118Z"
   },
   {
    "duration": 992,
    "start_time": "2025-03-29T21:11:18.696Z"
   },
   {
    "duration": 123,
    "start_time": "2025-03-29T21:11:19.691Z"
   },
   {
    "duration": 201,
    "start_time": "2025-03-29T21:11:19.816Z"
   },
   {
    "duration": 88,
    "start_time": "2025-03-29T21:11:20.019Z"
   },
   {
    "duration": 61,
    "start_time": "2025-03-29T21:11:20.109Z"
   },
   {
    "duration": 474,
    "start_time": "2025-03-29T21:11:20.172Z"
   },
   {
    "duration": 834,
    "start_time": "2025-03-29T21:11:20.648Z"
   },
   {
    "duration": 3,
    "start_time": "2025-03-29T21:11:21.486Z"
   },
   {
    "duration": 28,
    "start_time": "2025-03-29T21:11:21.491Z"
   },
   {
    "duration": 8,
    "start_time": "2025-03-29T21:11:21.521Z"
   },
   {
    "duration": 12,
    "start_time": "2025-03-29T21:11:21.532Z"
   },
   {
    "duration": 68,
    "start_time": "2025-03-29T21:11:21.546Z"
   },
   {
    "duration": 57,
    "start_time": "2025-03-29T21:11:21.615Z"
   },
   {
    "duration": 28283,
    "start_time": "2025-03-29T21:11:21.674Z"
   },
   {
    "duration": 230,
    "start_time": "2025-03-29T21:11:49.960Z"
   },
   {
    "duration": 0,
    "start_time": "2025-03-29T21:11:50.191Z"
   },
   {
    "duration": 0,
    "start_time": "2025-03-29T21:11:50.192Z"
   },
   {
    "duration": 1015,
    "start_time": "2025-03-29T21:13:14.337Z"
   },
   {
    "duration": 576,
    "start_time": "2025-03-29T21:13:15.354Z"
   },
   {
    "duration": 967,
    "start_time": "2025-03-29T21:13:15.931Z"
   },
   {
    "duration": 121,
    "start_time": "2025-03-29T21:13:16.901Z"
   },
   {
    "duration": 212,
    "start_time": "2025-03-29T21:13:17.024Z"
   },
   {
    "duration": 83,
    "start_time": "2025-03-29T21:13:17.238Z"
   },
   {
    "duration": 58,
    "start_time": "2025-03-29T21:13:17.323Z"
   },
   {
    "duration": 464,
    "start_time": "2025-03-29T21:13:17.383Z"
   },
   {
    "duration": 750,
    "start_time": "2025-03-29T21:13:17.849Z"
   },
   {
    "duration": 3,
    "start_time": "2025-03-29T21:13:18.602Z"
   },
   {
    "duration": 28,
    "start_time": "2025-03-29T21:13:18.607Z"
   },
   {
    "duration": 8,
    "start_time": "2025-03-29T21:13:18.636Z"
   },
   {
    "duration": 12,
    "start_time": "2025-03-29T21:13:18.646Z"
   },
   {
    "duration": 48,
    "start_time": "2025-03-29T21:13:18.660Z"
   },
   {
    "duration": 63,
    "start_time": "2025-03-29T21:13:18.710Z"
   },
   {
    "duration": 28198,
    "start_time": "2025-03-29T21:13:18.774Z"
   },
   {
    "duration": 41096,
    "start_time": "2025-03-29T21:13:46.976Z"
   },
   {
    "duration": 4457,
    "start_time": "2025-03-29T21:14:28.074Z"
   },
   {
    "duration": 341,
    "start_time": "2025-03-29T21:14:32.533Z"
   },
   {
    "duration": 164,
    "start_time": "2025-03-31T18:58:02.546Z"
   },
   {
    "duration": 2828,
    "start_time": "2025-03-31T18:58:08.033Z"
   },
   {
    "duration": 1153,
    "start_time": "2025-03-31T18:58:44.120Z"
   },
   {
    "duration": 582,
    "start_time": "2025-03-31T18:58:45.275Z"
   },
   {
    "duration": 968,
    "start_time": "2025-03-31T18:58:45.859Z"
   },
   {
    "duration": 132,
    "start_time": "2025-03-31T18:58:46.830Z"
   },
   {
    "duration": 202,
    "start_time": "2025-03-31T18:58:46.964Z"
   },
   {
    "duration": 84,
    "start_time": "2025-03-31T18:58:47.168Z"
   },
   {
    "duration": 66,
    "start_time": "2025-03-31T18:58:47.254Z"
   },
   {
    "duration": 14725,
    "start_time": "2025-03-31T18:58:47.322Z"
   },
   {
    "duration": 433,
    "start_time": "2025-03-31T18:59:02.050Z"
   },
   {
    "duration": 804,
    "start_time": "2025-03-31T18:59:02.486Z"
   },
   {
    "duration": 5,
    "start_time": "2025-03-31T18:59:03.292Z"
   },
   {
    "duration": 44,
    "start_time": "2025-03-31T18:59:03.299Z"
   },
   {
    "duration": 13,
    "start_time": "2025-03-31T18:59:03.345Z"
   },
   {
    "duration": 17,
    "start_time": "2025-03-31T18:59:03.360Z"
   },
   {
    "duration": 75,
    "start_time": "2025-03-31T18:59:03.379Z"
   },
   {
    "duration": 83,
    "start_time": "2025-03-31T18:59:03.457Z"
   },
   {
    "duration": 27951,
    "start_time": "2025-03-31T18:59:03.545Z"
   },
   {
    "duration": 41437,
    "start_time": "2025-03-31T18:59:31.497Z"
   },
   {
    "duration": 4329,
    "start_time": "2025-03-31T19:00:12.936Z"
   },
   {
    "duration": 347,
    "start_time": "2025-03-31T19:00:17.267Z"
   },
   {
    "duration": 13,
    "start_time": "2025-03-31T19:02:03.290Z"
   },
   {
    "duration": 16,
    "start_time": "2025-03-31T19:02:28.090Z"
   },
   {
    "duration": 61,
    "start_time": "2025-03-31T19:03:24.313Z"
   },
   {
    "duration": 1124,
    "start_time": "2025-03-31T19:04:00.135Z"
   },
   {
    "duration": 606,
    "start_time": "2025-03-31T19:04:01.261Z"
   },
   {
    "duration": 1038,
    "start_time": "2025-03-31T19:04:01.869Z"
   },
   {
    "duration": 123,
    "start_time": "2025-03-31T19:04:02.909Z"
   },
   {
    "duration": 432,
    "start_time": "2025-03-31T19:04:03.035Z"
   },
   {
    "duration": 88,
    "start_time": "2025-03-31T19:04:03.469Z"
   },
   {
    "duration": 69,
    "start_time": "2025-03-31T19:04:03.559Z"
   },
   {
    "duration": 14788,
    "start_time": "2025-03-31T19:04:03.631Z"
   },
   {
    "duration": 434,
    "start_time": "2025-03-31T19:04:18.421Z"
   },
   {
    "duration": 759,
    "start_time": "2025-03-31T19:04:18.859Z"
   },
   {
    "duration": 4,
    "start_time": "2025-03-31T19:04:19.620Z"
   },
   {
    "duration": 30,
    "start_time": "2025-03-31T19:04:19.626Z"
   },
   {
    "duration": 10,
    "start_time": "2025-03-31T19:04:19.658Z"
   },
   {
    "duration": 12,
    "start_time": "2025-03-31T19:04:19.669Z"
   },
   {
    "duration": 50,
    "start_time": "2025-03-31T19:04:19.683Z"
   },
   {
    "duration": 54,
    "start_time": "2025-03-31T19:04:19.735Z"
   },
   {
    "duration": 27708,
    "start_time": "2025-03-31T19:04:19.791Z"
   },
   {
    "duration": 40950,
    "start_time": "2025-03-31T19:04:47.501Z"
   },
   {
    "duration": 4282,
    "start_time": "2025-03-31T19:05:28.453Z"
   },
   {
    "duration": 345,
    "start_time": "2025-03-31T19:05:32.737Z"
   },
   {
    "duration": 655,
    "start_time": "2025-03-31T19:08:42.532Z"
   },
   {
    "duration": 1068,
    "start_time": "2025-03-31T19:08:48.388Z"
   },
   {
    "duration": 599,
    "start_time": "2025-03-31T19:08:49.459Z"
   },
   {
    "duration": 992,
    "start_time": "2025-03-31T19:08:50.059Z"
   },
   {
    "duration": 125,
    "start_time": "2025-03-31T19:08:51.106Z"
   },
   {
    "duration": 434,
    "start_time": "2025-03-31T19:08:51.234Z"
   },
   {
    "duration": 86,
    "start_time": "2025-03-31T19:08:51.670Z"
   },
   {
    "duration": 15828,
    "start_time": "2025-03-31T19:08:51.758Z"
   },
   {
    "duration": 14316,
    "start_time": "2025-03-31T19:09:07.589Z"
   },
   {
    "duration": 431,
    "start_time": "2025-03-31T19:09:21.907Z"
   },
   {
    "duration": 767,
    "start_time": "2025-03-31T19:09:22.339Z"
   },
   {
    "duration": 3,
    "start_time": "2025-03-31T19:09:23.108Z"
   },
   {
    "duration": 29,
    "start_time": "2025-03-31T19:09:23.113Z"
   },
   {
    "duration": 8,
    "start_time": "2025-03-31T19:09:23.144Z"
   },
   {
    "duration": 12,
    "start_time": "2025-03-31T19:09:23.155Z"
   },
   {
    "duration": 68,
    "start_time": "2025-03-31T19:09:23.169Z"
   },
   {
    "duration": 52,
    "start_time": "2025-03-31T19:09:23.239Z"
   },
   {
    "duration": 27718,
    "start_time": "2025-03-31T19:09:23.294Z"
   },
   {
    "duration": 41130,
    "start_time": "2025-03-31T19:09:51.013Z"
   },
   {
    "duration": 4437,
    "start_time": "2025-03-31T19:10:32.145Z"
   },
   {
    "duration": 362,
    "start_time": "2025-03-31T19:10:36.583Z"
   },
   {
    "duration": 2855,
    "start_time": "2025-04-01T04:36:02.764Z"
   },
   {
    "duration": 537,
    "start_time": "2025-04-01T04:36:05.622Z"
   },
   {
    "duration": 0,
    "start_time": "2025-04-01T04:36:06.161Z"
   },
   {
    "duration": 0,
    "start_time": "2025-04-01T04:36:06.163Z"
   },
   {
    "duration": 0,
    "start_time": "2025-04-01T04:36:06.164Z"
   },
   {
    "duration": 0,
    "start_time": "2025-04-01T04:36:06.166Z"
   },
   {
    "duration": 0,
    "start_time": "2025-04-01T04:36:06.167Z"
   },
   {
    "duration": 0,
    "start_time": "2025-04-01T04:36:06.168Z"
   },
   {
    "duration": 17,
    "start_time": "2025-04-01T04:37:29.560Z"
   },
   {
    "duration": 15,
    "start_time": "2025-04-01T04:37:30.638Z"
   },
   {
    "duration": 14,
    "start_time": "2025-04-01T04:37:30.863Z"
   },
   {
    "duration": 121,
    "start_time": "2025-04-01T04:37:54.044Z"
   },
   {
    "duration": 611,
    "start_time": "2025-04-01T04:38:20.107Z"
   },
   {
    "duration": 972,
    "start_time": "2025-04-01T04:38:22.083Z"
   },
   {
    "duration": 254,
    "start_time": "2025-04-01T04:38:28.006Z"
   },
   {
    "duration": 428,
    "start_time": "2025-04-01T04:38:28.919Z"
   },
   {
    "duration": 84,
    "start_time": "2025-04-01T04:38:59.060Z"
   },
   {
    "duration": 15623,
    "start_time": "2025-04-01T04:38:59.180Z"
   }
  ],
  "kernelspec": {
   "display_name": "Python 3 (ipykernel)",
   "language": "python",
   "name": "python3"
  },
  "language_info": {
   "codemirror_mode": {
    "name": "ipython",
    "version": 3
   },
   "file_extension": ".py",
   "mimetype": "text/x-python",
   "name": "python",
   "nbconvert_exporter": "python",
   "pygments_lexer": "ipython3",
   "version": "3.12.4"
  },
  "toc": {
   "base_numbering": 1,
   "nav_menu": {},
   "number_sections": true,
   "sideBar": true,
   "skip_h1_title": true,
   "title_cell": "Table of Contents",
   "title_sidebar": "Contents",
   "toc_cell": false,
   "toc_position": {
    "height": "calc(100% - 180px)",
    "left": "10px",
    "top": "150px",
    "width": "247.4px"
   },
   "toc_section_display": true,
   "toc_window_display": true
  }
 },
 "nbformat": 4,
 "nbformat_minor": 5
}
